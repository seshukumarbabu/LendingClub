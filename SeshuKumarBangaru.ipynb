{
  "nbformat": 4,
  "nbformat_minor": 0,
  "metadata": {
    "colab": {
      "name": "Lending Case Project",
      "provenance": [],
      "collapsed_sections": []
    },
    "kernelspec": {
      "name": "python3",
      "display_name": "Python 3"
    },
    "language_info": {
      "name": "python"
    }
  },
  "cells": [
    {
      "cell_type": "code",
      "execution_count": 3,
      "metadata": {
        "colab": {
          "resources": {
            "http://localhost:8080/nbextensions/google.colab/files.js": {
              "data": "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",
              "ok": true,
              "headers": [
                [
                  "content-type",
                  "application/javascript"
                ]
              ],
              "status": 200,
              "status_text": ""
            }
          },
          "base_uri": "https://localhost:8080/",
          "height": 72
        },
        "id": "Cl9qz0jOdcJ6",
        "outputId": "f9d92bb7-c51a-4038-f2a8-5646e38d0b7f"
      },
      "outputs": [
        {
          "output_type": "display_data",
          "data": {
            "text/html": [
              "\n",
              "     <input type=\"file\" id=\"files-0114c69d-5fe2-4d84-87ff-0d5f23950aa3\" name=\"files[]\" multiple disabled\n",
              "        style=\"border:none\" />\n",
              "     <output id=\"result-0114c69d-5fe2-4d84-87ff-0d5f23950aa3\">\n",
              "      Upload widget is only available when the cell has been executed in the\n",
              "      current browser session. Please rerun this cell to enable.\n",
              "      </output>\n",
              "      <script src=\"/nbextensions/google.colab/files.js\"></script> "
            ],
            "text/plain": [
              "<IPython.core.display.HTML object>"
            ]
          },
          "metadata": {}
        },
        {
          "output_type": "stream",
          "name": "stdout",
          "text": [
            "Saving loan.csv to loan.csv\n"
          ]
        }
      ],
      "source": [
        "from google.colab import files\n",
        "uploaded = files.upload()"
      ]
    },
    {
      "cell_type": "code",
      "source": [
        "import pandas as pd\n",
        "import numpy as np\n",
        "pd.set_option('display.max_rows', None)\n",
        "data = pd.read_csv(\"loan.csv\")"
      ],
      "metadata": {
        "colab": {
          "base_uri": "https://localhost:8080/"
        },
        "id": "Rzwui_vMgh3b",
        "outputId": "f262591e-bd21-4410-967b-dc729b46724f"
      },
      "execution_count": 2,
      "outputs": [
        {
          "output_type": "stream",
          "name": "stderr",
          "text": [
            "/usr/local/lib/python3.7/dist-packages/IPython/core/interactiveshell.py:2718: DtypeWarning: Columns (47) have mixed types.Specify dtype option on import or set low_memory=False.\n",
            "  interactivity=interactivity, compiler=compiler, result=result)\n"
          ]
        }
      ]
    },
    {
      "cell_type": "markdown",
      "source": [
        "***Removing the columns which has all the values as NA*** <br>\n",
        "Creating a new Data Frame with data"
      ],
      "metadata": {
        "id": "YC7WahfG2UP4"
      }
    },
    {
      "cell_type": "code",
      "source": [
        "data_without_all_na=data[data.columns[~data.isnull().all()]]\n"
      ],
      "metadata": {
        "id": "pdqwJAllgvDz"
      },
      "execution_count": 3,
      "outputs": []
    },
    {
      "cell_type": "markdown",
      "source": [
        "Once we remove all the columns which have only NA values, we are left with 55 columns"
      ],
      "metadata": {
        "id": "nA_gwTbNCN_D"
      }
    },
    {
      "cell_type": "code",
      "source": [
        "data_without_all_na.shape"
      ],
      "metadata": {
        "colab": {
          "base_uri": "https://localhost:8080/"
        },
        "id": "nsx7HVbKCJZl",
        "outputId": "e6bac3ae-4035-4193-d905-faf699bbb00b"
      },
      "execution_count": 4,
      "outputs": [
        {
          "output_type": "execute_result",
          "data": {
            "text/plain": [
              "(39717, 57)"
            ]
          },
          "metadata": {},
          "execution_count": 4
        }
      ]
    },
    {
      "cell_type": "markdown",
      "source": [
        "* List the count of NA in each column. <br>\n",
        "* Which shows that emp_title, emp_length, desc, title, mths_since_last_delinq,mths_since_last_record,revol_util,last_pymnt_d,next_pymnt_d,last_credit_pull_d,collections_12_mths_ex_med,chargeoff_within_12_mths,pub_rec_bankruptcies,tax_liens <br>\n",
        "* Based on the count of NA in each column we can drop following columns <br>\n",
        "desc, mths_since_last_delinq,mths_since_last_record,next_pymnt_d\n"
      ],
      "metadata": {
        "id": "9yaHdQcrC9F8"
      }
    },
    {
      "cell_type": "code",
      "source": [
        "data_without_all_na.isna().sum()"
      ],
      "metadata": {
        "colab": {
          "base_uri": "https://localhost:8080/"
        },
        "id": "XBnslMbdCcq-",
        "outputId": "f74a1514-6d04-4596-e4ad-908390a2d368"
      },
      "execution_count": 5,
      "outputs": [
        {
          "output_type": "execute_result",
          "data": {
            "text/plain": [
              "id                                0\n",
              "member_id                         0\n",
              "loan_amnt                         0\n",
              "funded_amnt                       0\n",
              "funded_amnt_inv                   0\n",
              "term                              0\n",
              "int_rate                          0\n",
              "installment                       0\n",
              "grade                             0\n",
              "sub_grade                         0\n",
              "emp_title                      2459\n",
              "emp_length                     1075\n",
              "home_ownership                    0\n",
              "annual_inc                        0\n",
              "verification_status               0\n",
              "issue_d                           0\n",
              "loan_status                       0\n",
              "pymnt_plan                        0\n",
              "url                               0\n",
              "desc                          12940\n",
              "purpose                           0\n",
              "title                            11\n",
              "zip_code                          0\n",
              "addr_state                        0\n",
              "dti                               0\n",
              "delinq_2yrs                       0\n",
              "earliest_cr_line                  0\n",
              "inq_last_6mths                    0\n",
              "mths_since_last_delinq        25682\n",
              "mths_since_last_record        36931\n",
              "open_acc                          0\n",
              "pub_rec                           0\n",
              "revol_bal                         0\n",
              "revol_util                       50\n",
              "total_acc                         0\n",
              "initial_list_status               0\n",
              "out_prncp                         0\n",
              "out_prncp_inv                     0\n",
              "total_pymnt                       0\n",
              "total_pymnt_inv                   0\n",
              "total_rec_prncp                   0\n",
              "total_rec_int                     0\n",
              "total_rec_late_fee                0\n",
              "recoveries                        0\n",
              "collection_recovery_fee           0\n",
              "last_pymnt_d                     71\n",
              "last_pymnt_amnt                   0\n",
              "next_pymnt_d                  38577\n",
              "last_credit_pull_d                2\n",
              "collections_12_mths_ex_med       56\n",
              "policy_code                       0\n",
              "application_type                  0\n",
              "acc_now_delinq                    0\n",
              "chargeoff_within_12_mths         56\n",
              "delinq_amnt                       0\n",
              "pub_rec_bankruptcies            697\n",
              "tax_liens                        39\n",
              "dtype: int64"
            ]
          },
          "metadata": {},
          "execution_count": 5
        }
      ]
    },
    {
      "cell_type": "code",
      "source": [
        "#Dropping columns desc, mths_since_last_delinq,mths_since_last_record,next_pymnt_d\n",
        "data_without_all_na=data_without_all_na.drop(columns={'desc', 'mths_since_last_delinq','mths_since_last_record','next_pymnt_d'}) \n",
        "data_without_all_na.isna().sum()\n"
      ],
      "metadata": {
        "colab": {
          "base_uri": "https://localhost:8080/"
        },
        "id": "74Nx1MdNEVsI",
        "outputId": "317eb2e8-03f8-4987-aad2-45e3fc7334e0"
      },
      "execution_count": 6,
      "outputs": [
        {
          "output_type": "execute_result",
          "data": {
            "text/plain": [
              "id                               0\n",
              "member_id                        0\n",
              "loan_amnt                        0\n",
              "funded_amnt                      0\n",
              "funded_amnt_inv                  0\n",
              "term                             0\n",
              "int_rate                         0\n",
              "installment                      0\n",
              "grade                            0\n",
              "sub_grade                        0\n",
              "emp_title                     2459\n",
              "emp_length                    1075\n",
              "home_ownership                   0\n",
              "annual_inc                       0\n",
              "verification_status              0\n",
              "issue_d                          0\n",
              "loan_status                      0\n",
              "pymnt_plan                       0\n",
              "url                              0\n",
              "purpose                          0\n",
              "title                           11\n",
              "zip_code                         0\n",
              "addr_state                       0\n",
              "dti                              0\n",
              "delinq_2yrs                      0\n",
              "earliest_cr_line                 0\n",
              "inq_last_6mths                   0\n",
              "open_acc                         0\n",
              "pub_rec                          0\n",
              "revol_bal                        0\n",
              "revol_util                      50\n",
              "total_acc                        0\n",
              "initial_list_status              0\n",
              "out_prncp                        0\n",
              "out_prncp_inv                    0\n",
              "total_pymnt                      0\n",
              "total_pymnt_inv                  0\n",
              "total_rec_prncp                  0\n",
              "total_rec_int                    0\n",
              "total_rec_late_fee               0\n",
              "recoveries                       0\n",
              "collection_recovery_fee          0\n",
              "last_pymnt_d                    71\n",
              "last_pymnt_amnt                  0\n",
              "last_credit_pull_d               2\n",
              "collections_12_mths_ex_med      56\n",
              "policy_code                      0\n",
              "application_type                 0\n",
              "acc_now_delinq                   0\n",
              "chargeoff_within_12_mths        56\n",
              "delinq_amnt                      0\n",
              "pub_rec_bankruptcies           697\n",
              "tax_liens                       39\n",
              "dtype: int64"
            ]
          },
          "metadata": {},
          "execution_count": 6
        }
      ]
    },
    {
      "cell_type": "markdown",
      "source": [
        "* Check if we can fill in the NA values for other columns.\n",
        "* We can see that there are 39678 of 0.0 in tax_liens column. So filling the other rows does not give us any benifit. So drop this column\n"
      ],
      "metadata": {
        "id": "dxmgPiOLFyNI"
      }
    },
    {
      "cell_type": "code",
      "source": [
        "#data_without_all_na.tax_liens.value_counts()\n",
        "data_without_all_na=data_without_all_na.drop(columns={'tax_liens'})\n",
        "#data_without_all_na.head()\n",
        "data_without_all_na.isna().sum()\n"
      ],
      "metadata": {
        "colab": {
          "base_uri": "https://localhost:8080/"
        },
        "id": "c5NyrzILF4fF",
        "outputId": "2c255782-193e-47a5-be73-c544a8f50ef7"
      },
      "execution_count": 7,
      "outputs": [
        {
          "output_type": "execute_result",
          "data": {
            "text/plain": [
              "id                               0\n",
              "member_id                        0\n",
              "loan_amnt                        0\n",
              "funded_amnt                      0\n",
              "funded_amnt_inv                  0\n",
              "term                             0\n",
              "int_rate                         0\n",
              "installment                      0\n",
              "grade                            0\n",
              "sub_grade                        0\n",
              "emp_title                     2459\n",
              "emp_length                    1075\n",
              "home_ownership                   0\n",
              "annual_inc                       0\n",
              "verification_status              0\n",
              "issue_d                          0\n",
              "loan_status                      0\n",
              "pymnt_plan                       0\n",
              "url                              0\n",
              "purpose                          0\n",
              "title                           11\n",
              "zip_code                         0\n",
              "addr_state                       0\n",
              "dti                              0\n",
              "delinq_2yrs                      0\n",
              "earliest_cr_line                 0\n",
              "inq_last_6mths                   0\n",
              "open_acc                         0\n",
              "pub_rec                          0\n",
              "revol_bal                        0\n",
              "revol_util                      50\n",
              "total_acc                        0\n",
              "initial_list_status              0\n",
              "out_prncp                        0\n",
              "out_prncp_inv                    0\n",
              "total_pymnt                      0\n",
              "total_pymnt_inv                  0\n",
              "total_rec_prncp                  0\n",
              "total_rec_int                    0\n",
              "total_rec_late_fee               0\n",
              "recoveries                       0\n",
              "collection_recovery_fee          0\n",
              "last_pymnt_d                    71\n",
              "last_pymnt_amnt                  0\n",
              "last_credit_pull_d               2\n",
              "collections_12_mths_ex_med      56\n",
              "policy_code                      0\n",
              "application_type                 0\n",
              "acc_now_delinq                   0\n",
              "chargeoff_within_12_mths        56\n",
              "delinq_amnt                      0\n",
              "pub_rec_bankruptcies           697\n",
              "dtype: int64"
            ]
          },
          "metadata": {},
          "execution_count": 7
        }
      ]
    },
    {
      "cell_type": "code",
      "source": [
        "#Checking for pub_rec_bankruptcies if we can fill nulls or remove the rows\n",
        "data_without_all_na.pub_rec_bankruptcies.value_counts()\n",
        "#Assign pub_rec_bankruptcies with 0.0 for all the pub_rec==0\n",
        "data_without_all_na['pub_rec_bankruptcies'][data_without_all_na['pub_rec']==0]=0.0\n",
        "# Removing the 20 records which has pub_rec_bankruptcies=NA\n",
        "data_without_all_na=data_without_all_na[~data_without_all_na.pub_rec_bankruptcies.isna()]\n",
        "#Removing records which have emp_length as NA\n",
        "data_without_all_na=data_without_all_na[~data_without_all_na.emp_length.isna()]\n",
        "# Dropping the emp_title as we have large list of unique values\n",
        "data_without_all_na=data_without_all_na.drop(columns={'emp_title'})\n",
        "#Drop the title column as we already have purpose column\n",
        "data_without_all_na=data_without_all_na.drop(columns={'title'})\n",
        "#Drop all the rows for revol_util is NA\n",
        "data_without_all_na=data_without_all_na[~data_without_all_na.revol_util.isna()]\n",
        "#Drop rows with last_credit_pull_d is NA\n",
        "data_without_all_na=data_without_all_na[~data_without_all_na.last_credit_pull_d.isna()]\n",
        "#Drop rows with last_pymnt_d is NA\n",
        "data_without_all_na=data_without_all_na[~data_without_all_na.last_pymnt_d.isna()]\n",
        "data_without_all_na.isna().sum()\n"
      ],
      "metadata": {
        "colab": {
          "base_uri": "https://localhost:8080/"
        },
        "id": "LJXAPihYInIu",
        "outputId": "08269170-0014-459a-859a-c6f26f366868"
      },
      "execution_count": 8,
      "outputs": [
        {
          "output_type": "stream",
          "name": "stderr",
          "text": [
            "/usr/local/lib/python3.7/dist-packages/ipykernel_launcher.py:4: SettingWithCopyWarning: \n",
            "A value is trying to be set on a copy of a slice from a DataFrame\n",
            "\n",
            "See the caveats in the documentation: https://pandas.pydata.org/pandas-docs/stable/user_guide/indexing.html#returning-a-view-versus-a-copy\n",
            "  after removing the cwd from sys.path.\n"
          ]
        },
        {
          "output_type": "execute_result",
          "data": {
            "text/plain": [
              "id                             0\n",
              "member_id                      0\n",
              "loan_amnt                      0\n",
              "funded_amnt                    0\n",
              "funded_amnt_inv                0\n",
              "term                           0\n",
              "int_rate                       0\n",
              "installment                    0\n",
              "grade                          0\n",
              "sub_grade                      0\n",
              "emp_length                     0\n",
              "home_ownership                 0\n",
              "annual_inc                     0\n",
              "verification_status            0\n",
              "issue_d                        0\n",
              "loan_status                    0\n",
              "pymnt_plan                     0\n",
              "url                            0\n",
              "purpose                        0\n",
              "zip_code                       0\n",
              "addr_state                     0\n",
              "dti                            0\n",
              "delinq_2yrs                    0\n",
              "earliest_cr_line               0\n",
              "inq_last_6mths                 0\n",
              "open_acc                       0\n",
              "pub_rec                        0\n",
              "revol_bal                      0\n",
              "revol_util                     0\n",
              "total_acc                      0\n",
              "initial_list_status            0\n",
              "out_prncp                      0\n",
              "out_prncp_inv                  0\n",
              "total_pymnt                    0\n",
              "total_pymnt_inv                0\n",
              "total_rec_prncp                0\n",
              "total_rec_int                  0\n",
              "total_rec_late_fee             0\n",
              "recoveries                     0\n",
              "collection_recovery_fee        0\n",
              "last_pymnt_d                   0\n",
              "last_pymnt_amnt                0\n",
              "last_credit_pull_d             0\n",
              "collections_12_mths_ex_med    55\n",
              "policy_code                    0\n",
              "application_type               0\n",
              "acc_now_delinq                 0\n",
              "chargeoff_within_12_mths      55\n",
              "delinq_amnt                    0\n",
              "pub_rec_bankruptcies           0\n",
              "dtype: int64"
            ]
          },
          "metadata": {},
          "execution_count": 8
        }
      ]
    },
    {
      "cell_type": "markdown",
      "source": [
        "After the above excercise all the columns have zero NAs"
      ],
      "metadata": {
        "id": "yA9nWcG7dxc6"
      }
    },
    {
      "cell_type": "markdown",
      "source": [
        "**Cleaning the data** <br>\n",
        "term - remove the \"months\" string <br>\n",
        "int_rate - remove % character <br>\n",
        "drop columns url, desc <br>"
      ],
      "metadata": {
        "id": "n4TOtFHz3UMc"
      }
    },
    {
      "cell_type": "code",
      "source": [
        "# ** removed url **\n",
        "data_without_all_na=data_without_all_na.drop(columns={'url'}) \n",
        "# remove % from int_rate\n",
        "data_without_all_na.int_rate=data_without_all_na.int_rate.apply(lambda x : x[:-1]) \n",
        "# remove \"month\"\n",
        "data_without_all_na.term = data_without_all_na.term.apply(lambda x : x[:-7]) \n",
        "data_without_all_na.head()"
      ],
      "metadata": {
        "colab": {
          "base_uri": "https://localhost:8080/",
          "height": 268
        },
        "id": "MJDRi4lG21zC",
        "outputId": "8583e072-f07b-46dc-d057-c01ab965773f"
      },
      "execution_count": 9,
      "outputs": [
        {
          "output_type": "execute_result",
          "data": {
            "text/html": [
              "\n",
              "  <div id=\"df-602670c0-0c8d-47c2-94c0-c84f353370ae\">\n",
              "    <div class=\"colab-df-container\">\n",
              "      <div>\n",
              "<style scoped>\n",
              "    .dataframe tbody tr th:only-of-type {\n",
              "        vertical-align: middle;\n",
              "    }\n",
              "\n",
              "    .dataframe tbody tr th {\n",
              "        vertical-align: top;\n",
              "    }\n",
              "\n",
              "    .dataframe thead th {\n",
              "        text-align: right;\n",
              "    }\n",
              "</style>\n",
              "<table border=\"1\" class=\"dataframe\">\n",
              "  <thead>\n",
              "    <tr style=\"text-align: right;\">\n",
              "      <th></th>\n",
              "      <th>id</th>\n",
              "      <th>member_id</th>\n",
              "      <th>loan_amnt</th>\n",
              "      <th>funded_amnt</th>\n",
              "      <th>funded_amnt_inv</th>\n",
              "      <th>term</th>\n",
              "      <th>int_rate</th>\n",
              "      <th>installment</th>\n",
              "      <th>grade</th>\n",
              "      <th>sub_grade</th>\n",
              "      <th>emp_length</th>\n",
              "      <th>home_ownership</th>\n",
              "      <th>annual_inc</th>\n",
              "      <th>verification_status</th>\n",
              "      <th>issue_d</th>\n",
              "      <th>loan_status</th>\n",
              "      <th>pymnt_plan</th>\n",
              "      <th>purpose</th>\n",
              "      <th>zip_code</th>\n",
              "      <th>addr_state</th>\n",
              "      <th>dti</th>\n",
              "      <th>delinq_2yrs</th>\n",
              "      <th>earliest_cr_line</th>\n",
              "      <th>inq_last_6mths</th>\n",
              "      <th>open_acc</th>\n",
              "      <th>pub_rec</th>\n",
              "      <th>revol_bal</th>\n",
              "      <th>revol_util</th>\n",
              "      <th>total_acc</th>\n",
              "      <th>initial_list_status</th>\n",
              "      <th>out_prncp</th>\n",
              "      <th>out_prncp_inv</th>\n",
              "      <th>total_pymnt</th>\n",
              "      <th>total_pymnt_inv</th>\n",
              "      <th>total_rec_prncp</th>\n",
              "      <th>total_rec_int</th>\n",
              "      <th>total_rec_late_fee</th>\n",
              "      <th>recoveries</th>\n",
              "      <th>collection_recovery_fee</th>\n",
              "      <th>last_pymnt_d</th>\n",
              "      <th>last_pymnt_amnt</th>\n",
              "      <th>last_credit_pull_d</th>\n",
              "      <th>collections_12_mths_ex_med</th>\n",
              "      <th>policy_code</th>\n",
              "      <th>application_type</th>\n",
              "      <th>acc_now_delinq</th>\n",
              "      <th>chargeoff_within_12_mths</th>\n",
              "      <th>delinq_amnt</th>\n",
              "      <th>pub_rec_bankruptcies</th>\n",
              "    </tr>\n",
              "  </thead>\n",
              "  <tbody>\n",
              "    <tr>\n",
              "      <th>0</th>\n",
              "      <td>1077501</td>\n",
              "      <td>1296599</td>\n",
              "      <td>5000</td>\n",
              "      <td>5000</td>\n",
              "      <td>4975.0</td>\n",
              "      <td>36</td>\n",
              "      <td>10.65</td>\n",
              "      <td>162.87</td>\n",
              "      <td>B</td>\n",
              "      <td>B2</td>\n",
              "      <td>10+ years</td>\n",
              "      <td>RENT</td>\n",
              "      <td>24000.0</td>\n",
              "      <td>Verified</td>\n",
              "      <td>Dec-11</td>\n",
              "      <td>Fully Paid</td>\n",
              "      <td>n</td>\n",
              "      <td>credit_card</td>\n",
              "      <td>860xx</td>\n",
              "      <td>AZ</td>\n",
              "      <td>27.65</td>\n",
              "      <td>0</td>\n",
              "      <td>Jan-85</td>\n",
              "      <td>1</td>\n",
              "      <td>3</td>\n",
              "      <td>0</td>\n",
              "      <td>13648</td>\n",
              "      <td>83.70%</td>\n",
              "      <td>9</td>\n",
              "      <td>f</td>\n",
              "      <td>0.00</td>\n",
              "      <td>0.00</td>\n",
              "      <td>5863.155187</td>\n",
              "      <td>5833.84</td>\n",
              "      <td>5000.00</td>\n",
              "      <td>863.16</td>\n",
              "      <td>0.00</td>\n",
              "      <td>0.00</td>\n",
              "      <td>0.00</td>\n",
              "      <td>Jan-15</td>\n",
              "      <td>171.62</td>\n",
              "      <td>May-16</td>\n",
              "      <td>0.0</td>\n",
              "      <td>1</td>\n",
              "      <td>INDIVIDUAL</td>\n",
              "      <td>0</td>\n",
              "      <td>0.0</td>\n",
              "      <td>0</td>\n",
              "      <td>0.0</td>\n",
              "    </tr>\n",
              "    <tr>\n",
              "      <th>1</th>\n",
              "      <td>1077430</td>\n",
              "      <td>1314167</td>\n",
              "      <td>2500</td>\n",
              "      <td>2500</td>\n",
              "      <td>2500.0</td>\n",
              "      <td>60</td>\n",
              "      <td>15.27</td>\n",
              "      <td>59.83</td>\n",
              "      <td>C</td>\n",
              "      <td>C4</td>\n",
              "      <td>&lt; 1 year</td>\n",
              "      <td>RENT</td>\n",
              "      <td>30000.0</td>\n",
              "      <td>Source Verified</td>\n",
              "      <td>Dec-11</td>\n",
              "      <td>Charged Off</td>\n",
              "      <td>n</td>\n",
              "      <td>car</td>\n",
              "      <td>309xx</td>\n",
              "      <td>GA</td>\n",
              "      <td>1.00</td>\n",
              "      <td>0</td>\n",
              "      <td>Apr-99</td>\n",
              "      <td>5</td>\n",
              "      <td>3</td>\n",
              "      <td>0</td>\n",
              "      <td>1687</td>\n",
              "      <td>9.40%</td>\n",
              "      <td>4</td>\n",
              "      <td>f</td>\n",
              "      <td>0.00</td>\n",
              "      <td>0.00</td>\n",
              "      <td>1008.710000</td>\n",
              "      <td>1008.71</td>\n",
              "      <td>456.46</td>\n",
              "      <td>435.17</td>\n",
              "      <td>0.00</td>\n",
              "      <td>117.08</td>\n",
              "      <td>1.11</td>\n",
              "      <td>Apr-13</td>\n",
              "      <td>119.66</td>\n",
              "      <td>Sep-13</td>\n",
              "      <td>0.0</td>\n",
              "      <td>1</td>\n",
              "      <td>INDIVIDUAL</td>\n",
              "      <td>0</td>\n",
              "      <td>0.0</td>\n",
              "      <td>0</td>\n",
              "      <td>0.0</td>\n",
              "    </tr>\n",
              "    <tr>\n",
              "      <th>2</th>\n",
              "      <td>1077175</td>\n",
              "      <td>1313524</td>\n",
              "      <td>2400</td>\n",
              "      <td>2400</td>\n",
              "      <td>2400.0</td>\n",
              "      <td>36</td>\n",
              "      <td>15.96</td>\n",
              "      <td>84.33</td>\n",
              "      <td>C</td>\n",
              "      <td>C5</td>\n",
              "      <td>10+ years</td>\n",
              "      <td>RENT</td>\n",
              "      <td>12252.0</td>\n",
              "      <td>Not Verified</td>\n",
              "      <td>Dec-11</td>\n",
              "      <td>Fully Paid</td>\n",
              "      <td>n</td>\n",
              "      <td>small_business</td>\n",
              "      <td>606xx</td>\n",
              "      <td>IL</td>\n",
              "      <td>8.72</td>\n",
              "      <td>0</td>\n",
              "      <td>Nov-01</td>\n",
              "      <td>2</td>\n",
              "      <td>2</td>\n",
              "      <td>0</td>\n",
              "      <td>2956</td>\n",
              "      <td>98.50%</td>\n",
              "      <td>10</td>\n",
              "      <td>f</td>\n",
              "      <td>0.00</td>\n",
              "      <td>0.00</td>\n",
              "      <td>3005.666844</td>\n",
              "      <td>3005.67</td>\n",
              "      <td>2400.00</td>\n",
              "      <td>605.67</td>\n",
              "      <td>0.00</td>\n",
              "      <td>0.00</td>\n",
              "      <td>0.00</td>\n",
              "      <td>Jun-14</td>\n",
              "      <td>649.91</td>\n",
              "      <td>May-16</td>\n",
              "      <td>0.0</td>\n",
              "      <td>1</td>\n",
              "      <td>INDIVIDUAL</td>\n",
              "      <td>0</td>\n",
              "      <td>0.0</td>\n",
              "      <td>0</td>\n",
              "      <td>0.0</td>\n",
              "    </tr>\n",
              "    <tr>\n",
              "      <th>3</th>\n",
              "      <td>1076863</td>\n",
              "      <td>1277178</td>\n",
              "      <td>10000</td>\n",
              "      <td>10000</td>\n",
              "      <td>10000.0</td>\n",
              "      <td>36</td>\n",
              "      <td>13.49</td>\n",
              "      <td>339.31</td>\n",
              "      <td>C</td>\n",
              "      <td>C1</td>\n",
              "      <td>10+ years</td>\n",
              "      <td>RENT</td>\n",
              "      <td>49200.0</td>\n",
              "      <td>Source Verified</td>\n",
              "      <td>Dec-11</td>\n",
              "      <td>Fully Paid</td>\n",
              "      <td>n</td>\n",
              "      <td>other</td>\n",
              "      <td>917xx</td>\n",
              "      <td>CA</td>\n",
              "      <td>20.00</td>\n",
              "      <td>0</td>\n",
              "      <td>Feb-96</td>\n",
              "      <td>1</td>\n",
              "      <td>10</td>\n",
              "      <td>0</td>\n",
              "      <td>5598</td>\n",
              "      <td>21%</td>\n",
              "      <td>37</td>\n",
              "      <td>f</td>\n",
              "      <td>0.00</td>\n",
              "      <td>0.00</td>\n",
              "      <td>12231.890000</td>\n",
              "      <td>12231.89</td>\n",
              "      <td>10000.00</td>\n",
              "      <td>2214.92</td>\n",
              "      <td>16.97</td>\n",
              "      <td>0.00</td>\n",
              "      <td>0.00</td>\n",
              "      <td>Jan-15</td>\n",
              "      <td>357.48</td>\n",
              "      <td>Apr-16</td>\n",
              "      <td>0.0</td>\n",
              "      <td>1</td>\n",
              "      <td>INDIVIDUAL</td>\n",
              "      <td>0</td>\n",
              "      <td>0.0</td>\n",
              "      <td>0</td>\n",
              "      <td>0.0</td>\n",
              "    </tr>\n",
              "    <tr>\n",
              "      <th>4</th>\n",
              "      <td>1075358</td>\n",
              "      <td>1311748</td>\n",
              "      <td>3000</td>\n",
              "      <td>3000</td>\n",
              "      <td>3000.0</td>\n",
              "      <td>60</td>\n",
              "      <td>12.69</td>\n",
              "      <td>67.79</td>\n",
              "      <td>B</td>\n",
              "      <td>B5</td>\n",
              "      <td>1 year</td>\n",
              "      <td>RENT</td>\n",
              "      <td>80000.0</td>\n",
              "      <td>Source Verified</td>\n",
              "      <td>Dec-11</td>\n",
              "      <td>Current</td>\n",
              "      <td>n</td>\n",
              "      <td>other</td>\n",
              "      <td>972xx</td>\n",
              "      <td>OR</td>\n",
              "      <td>17.94</td>\n",
              "      <td>0</td>\n",
              "      <td>Jan-96</td>\n",
              "      <td>0</td>\n",
              "      <td>15</td>\n",
              "      <td>0</td>\n",
              "      <td>27783</td>\n",
              "      <td>53.90%</td>\n",
              "      <td>38</td>\n",
              "      <td>f</td>\n",
              "      <td>524.06</td>\n",
              "      <td>524.06</td>\n",
              "      <td>3513.330000</td>\n",
              "      <td>3513.33</td>\n",
              "      <td>2475.94</td>\n",
              "      <td>1037.39</td>\n",
              "      <td>0.00</td>\n",
              "      <td>0.00</td>\n",
              "      <td>0.00</td>\n",
              "      <td>May-16</td>\n",
              "      <td>67.79</td>\n",
              "      <td>May-16</td>\n",
              "      <td>0.0</td>\n",
              "      <td>1</td>\n",
              "      <td>INDIVIDUAL</td>\n",
              "      <td>0</td>\n",
              "      <td>0.0</td>\n",
              "      <td>0</td>\n",
              "      <td>0.0</td>\n",
              "    </tr>\n",
              "  </tbody>\n",
              "</table>\n",
              "</div>\n",
              "      <button class=\"colab-df-convert\" onclick=\"convertToInteractive('df-602670c0-0c8d-47c2-94c0-c84f353370ae')\"\n",
              "              title=\"Convert this dataframe to an interactive table.\"\n",
              "              style=\"display:none;\">\n",
              "        \n",
              "  <svg xmlns=\"http://www.w3.org/2000/svg\" height=\"24px\"viewBox=\"0 0 24 24\"\n",
              "       width=\"24px\">\n",
              "    <path d=\"M0 0h24v24H0V0z\" fill=\"none\"/>\n",
              "    <path d=\"M18.56 5.44l.94 2.06.94-2.06 2.06-.94-2.06-.94-.94-2.06-.94 2.06-2.06.94zm-11 1L8.5 8.5l.94-2.06 2.06-.94-2.06-.94L8.5 2.5l-.94 2.06-2.06.94zm10 10l.94 2.06.94-2.06 2.06-.94-2.06-.94-.94-2.06-.94 2.06-2.06.94z\"/><path d=\"M17.41 7.96l-1.37-1.37c-.4-.4-.92-.59-1.43-.59-.52 0-1.04.2-1.43.59L10.3 9.45l-7.72 7.72c-.78.78-.78 2.05 0 2.83L4 21.41c.39.39.9.59 1.41.59.51 0 1.02-.2 1.41-.59l7.78-7.78 2.81-2.81c.8-.78.8-2.07 0-2.86zM5.41 20L4 18.59l7.72-7.72 1.47 1.35L5.41 20z\"/>\n",
              "  </svg>\n",
              "      </button>\n",
              "      \n",
              "  <style>\n",
              "    .colab-df-container {\n",
              "      display:flex;\n",
              "      flex-wrap:wrap;\n",
              "      gap: 12px;\n",
              "    }\n",
              "\n",
              "    .colab-df-convert {\n",
              "      background-color: #E8F0FE;\n",
              "      border: none;\n",
              "      border-radius: 50%;\n",
              "      cursor: pointer;\n",
              "      display: none;\n",
              "      fill: #1967D2;\n",
              "      height: 32px;\n",
              "      padding: 0 0 0 0;\n",
              "      width: 32px;\n",
              "    }\n",
              "\n",
              "    .colab-df-convert:hover {\n",
              "      background-color: #E2EBFA;\n",
              "      box-shadow: 0px 1px 2px rgba(60, 64, 67, 0.3), 0px 1px 3px 1px rgba(60, 64, 67, 0.15);\n",
              "      fill: #174EA6;\n",
              "    }\n",
              "\n",
              "    [theme=dark] .colab-df-convert {\n",
              "      background-color: #3B4455;\n",
              "      fill: #D2E3FC;\n",
              "    }\n",
              "\n",
              "    [theme=dark] .colab-df-convert:hover {\n",
              "      background-color: #434B5C;\n",
              "      box-shadow: 0px 1px 3px 1px rgba(0, 0, 0, 0.15);\n",
              "      filter: drop-shadow(0px 1px 2px rgba(0, 0, 0, 0.3));\n",
              "      fill: #FFFFFF;\n",
              "    }\n",
              "  </style>\n",
              "\n",
              "      <script>\n",
              "        const buttonEl =\n",
              "          document.querySelector('#df-602670c0-0c8d-47c2-94c0-c84f353370ae button.colab-df-convert');\n",
              "        buttonEl.style.display =\n",
              "          google.colab.kernel.accessAllowed ? 'block' : 'none';\n",
              "\n",
              "        async function convertToInteractive(key) {\n",
              "          const element = document.querySelector('#df-602670c0-0c8d-47c2-94c0-c84f353370ae');\n",
              "          const dataTable =\n",
              "            await google.colab.kernel.invokeFunction('convertToInteractive',\n",
              "                                                     [key], {});\n",
              "          if (!dataTable) return;\n",
              "\n",
              "          const docLinkHtml = 'Like what you see? Visit the ' +\n",
              "            '<a target=\"_blank\" href=https://colab.research.google.com/notebooks/data_table.ipynb>data table notebook</a>'\n",
              "            + ' to learn more about interactive tables.';\n",
              "          element.innerHTML = '';\n",
              "          dataTable['output_type'] = 'display_data';\n",
              "          await google.colab.output.renderOutput(dataTable, element);\n",
              "          const docLink = document.createElement('div');\n",
              "          docLink.innerHTML = docLinkHtml;\n",
              "          element.appendChild(docLink);\n",
              "        }\n",
              "      </script>\n",
              "    </div>\n",
              "  </div>\n",
              "  "
            ],
            "text/plain": [
              "        id  member_id  ...  delinq_amnt  pub_rec_bankruptcies\n",
              "0  1077501    1296599  ...            0                   0.0\n",
              "1  1077430    1314167  ...            0                   0.0\n",
              "2  1077175    1313524  ...            0                   0.0\n",
              "3  1076863    1277178  ...            0                   0.0\n",
              "4  1075358    1311748  ...            0                   0.0\n",
              "\n",
              "[5 rows x 49 columns]"
            ]
          },
          "metadata": {},
          "execution_count": 9
        }
      ]
    },
    {
      "cell_type": "code",
      "source": [
        "# Removing the current one from the Data set\n",
        "# Considering only the \"Charged-Off\" and \"Fully Paid\"\n",
        "data_without_all_na = data_without_all_na[data_without_all_na.loan_status != 'Current']\n",
        "#extracting only charged off data\n",
        "data_charged_off=data_without_all_na[data_without_all_na.loan_status == 'Charged Off']\n",
        "data_fully_paid=data_without_all_na[data_without_all_na.loan_status == 'Fully Paid']\n",
        "data_fully_paid.head()"
      ],
      "metadata": {
        "colab": {
          "base_uri": "https://localhost:8080/",
          "height": 268
        },
        "id": "ji7AETIm9fBE",
        "outputId": "b88f95ae-dc03-4fb9-9e5c-c27d3a495385"
      },
      "execution_count": 10,
      "outputs": [
        {
          "output_type": "execute_result",
          "data": {
            "text/html": [
              "\n",
              "  <div id=\"df-b6f57c63-7fca-4485-af97-33ca74c80b80\">\n",
              "    <div class=\"colab-df-container\">\n",
              "      <div>\n",
              "<style scoped>\n",
              "    .dataframe tbody tr th:only-of-type {\n",
              "        vertical-align: middle;\n",
              "    }\n",
              "\n",
              "    .dataframe tbody tr th {\n",
              "        vertical-align: top;\n",
              "    }\n",
              "\n",
              "    .dataframe thead th {\n",
              "        text-align: right;\n",
              "    }\n",
              "</style>\n",
              "<table border=\"1\" class=\"dataframe\">\n",
              "  <thead>\n",
              "    <tr style=\"text-align: right;\">\n",
              "      <th></th>\n",
              "      <th>id</th>\n",
              "      <th>member_id</th>\n",
              "      <th>loan_amnt</th>\n",
              "      <th>funded_amnt</th>\n",
              "      <th>funded_amnt_inv</th>\n",
              "      <th>term</th>\n",
              "      <th>int_rate</th>\n",
              "      <th>installment</th>\n",
              "      <th>grade</th>\n",
              "      <th>sub_grade</th>\n",
              "      <th>emp_length</th>\n",
              "      <th>home_ownership</th>\n",
              "      <th>annual_inc</th>\n",
              "      <th>verification_status</th>\n",
              "      <th>issue_d</th>\n",
              "      <th>loan_status</th>\n",
              "      <th>pymnt_plan</th>\n",
              "      <th>purpose</th>\n",
              "      <th>zip_code</th>\n",
              "      <th>addr_state</th>\n",
              "      <th>dti</th>\n",
              "      <th>delinq_2yrs</th>\n",
              "      <th>earliest_cr_line</th>\n",
              "      <th>inq_last_6mths</th>\n",
              "      <th>open_acc</th>\n",
              "      <th>pub_rec</th>\n",
              "      <th>revol_bal</th>\n",
              "      <th>revol_util</th>\n",
              "      <th>total_acc</th>\n",
              "      <th>initial_list_status</th>\n",
              "      <th>out_prncp</th>\n",
              "      <th>out_prncp_inv</th>\n",
              "      <th>total_pymnt</th>\n",
              "      <th>total_pymnt_inv</th>\n",
              "      <th>total_rec_prncp</th>\n",
              "      <th>total_rec_int</th>\n",
              "      <th>total_rec_late_fee</th>\n",
              "      <th>recoveries</th>\n",
              "      <th>collection_recovery_fee</th>\n",
              "      <th>last_pymnt_d</th>\n",
              "      <th>last_pymnt_amnt</th>\n",
              "      <th>last_credit_pull_d</th>\n",
              "      <th>collections_12_mths_ex_med</th>\n",
              "      <th>policy_code</th>\n",
              "      <th>application_type</th>\n",
              "      <th>acc_now_delinq</th>\n",
              "      <th>chargeoff_within_12_mths</th>\n",
              "      <th>delinq_amnt</th>\n",
              "      <th>pub_rec_bankruptcies</th>\n",
              "    </tr>\n",
              "  </thead>\n",
              "  <tbody>\n",
              "    <tr>\n",
              "      <th>0</th>\n",
              "      <td>1077501</td>\n",
              "      <td>1296599</td>\n",
              "      <td>5000</td>\n",
              "      <td>5000</td>\n",
              "      <td>4975.0</td>\n",
              "      <td>36</td>\n",
              "      <td>10.65</td>\n",
              "      <td>162.87</td>\n",
              "      <td>B</td>\n",
              "      <td>B2</td>\n",
              "      <td>10+ years</td>\n",
              "      <td>RENT</td>\n",
              "      <td>24000.0</td>\n",
              "      <td>Verified</td>\n",
              "      <td>Dec-11</td>\n",
              "      <td>Fully Paid</td>\n",
              "      <td>n</td>\n",
              "      <td>credit_card</td>\n",
              "      <td>860xx</td>\n",
              "      <td>AZ</td>\n",
              "      <td>27.65</td>\n",
              "      <td>0</td>\n",
              "      <td>Jan-85</td>\n",
              "      <td>1</td>\n",
              "      <td>3</td>\n",
              "      <td>0</td>\n",
              "      <td>13648</td>\n",
              "      <td>83.70%</td>\n",
              "      <td>9</td>\n",
              "      <td>f</td>\n",
              "      <td>0.0</td>\n",
              "      <td>0.0</td>\n",
              "      <td>5863.155187</td>\n",
              "      <td>5833.84</td>\n",
              "      <td>5000.00</td>\n",
              "      <td>863.16</td>\n",
              "      <td>0.00</td>\n",
              "      <td>0.0</td>\n",
              "      <td>0.0</td>\n",
              "      <td>Jan-15</td>\n",
              "      <td>171.62</td>\n",
              "      <td>May-16</td>\n",
              "      <td>0.0</td>\n",
              "      <td>1</td>\n",
              "      <td>INDIVIDUAL</td>\n",
              "      <td>0</td>\n",
              "      <td>0.0</td>\n",
              "      <td>0</td>\n",
              "      <td>0.0</td>\n",
              "    </tr>\n",
              "    <tr>\n",
              "      <th>2</th>\n",
              "      <td>1077175</td>\n",
              "      <td>1313524</td>\n",
              "      <td>2400</td>\n",
              "      <td>2400</td>\n",
              "      <td>2400.0</td>\n",
              "      <td>36</td>\n",
              "      <td>15.96</td>\n",
              "      <td>84.33</td>\n",
              "      <td>C</td>\n",
              "      <td>C5</td>\n",
              "      <td>10+ years</td>\n",
              "      <td>RENT</td>\n",
              "      <td>12252.0</td>\n",
              "      <td>Not Verified</td>\n",
              "      <td>Dec-11</td>\n",
              "      <td>Fully Paid</td>\n",
              "      <td>n</td>\n",
              "      <td>small_business</td>\n",
              "      <td>606xx</td>\n",
              "      <td>IL</td>\n",
              "      <td>8.72</td>\n",
              "      <td>0</td>\n",
              "      <td>Nov-01</td>\n",
              "      <td>2</td>\n",
              "      <td>2</td>\n",
              "      <td>0</td>\n",
              "      <td>2956</td>\n",
              "      <td>98.50%</td>\n",
              "      <td>10</td>\n",
              "      <td>f</td>\n",
              "      <td>0.0</td>\n",
              "      <td>0.0</td>\n",
              "      <td>3005.666844</td>\n",
              "      <td>3005.67</td>\n",
              "      <td>2400.00</td>\n",
              "      <td>605.67</td>\n",
              "      <td>0.00</td>\n",
              "      <td>0.0</td>\n",
              "      <td>0.0</td>\n",
              "      <td>Jun-14</td>\n",
              "      <td>649.91</td>\n",
              "      <td>May-16</td>\n",
              "      <td>0.0</td>\n",
              "      <td>1</td>\n",
              "      <td>INDIVIDUAL</td>\n",
              "      <td>0</td>\n",
              "      <td>0.0</td>\n",
              "      <td>0</td>\n",
              "      <td>0.0</td>\n",
              "    </tr>\n",
              "    <tr>\n",
              "      <th>3</th>\n",
              "      <td>1076863</td>\n",
              "      <td>1277178</td>\n",
              "      <td>10000</td>\n",
              "      <td>10000</td>\n",
              "      <td>10000.0</td>\n",
              "      <td>36</td>\n",
              "      <td>13.49</td>\n",
              "      <td>339.31</td>\n",
              "      <td>C</td>\n",
              "      <td>C1</td>\n",
              "      <td>10+ years</td>\n",
              "      <td>RENT</td>\n",
              "      <td>49200.0</td>\n",
              "      <td>Source Verified</td>\n",
              "      <td>Dec-11</td>\n",
              "      <td>Fully Paid</td>\n",
              "      <td>n</td>\n",
              "      <td>other</td>\n",
              "      <td>917xx</td>\n",
              "      <td>CA</td>\n",
              "      <td>20.00</td>\n",
              "      <td>0</td>\n",
              "      <td>Feb-96</td>\n",
              "      <td>1</td>\n",
              "      <td>10</td>\n",
              "      <td>0</td>\n",
              "      <td>5598</td>\n",
              "      <td>21%</td>\n",
              "      <td>37</td>\n",
              "      <td>f</td>\n",
              "      <td>0.0</td>\n",
              "      <td>0.0</td>\n",
              "      <td>12231.890000</td>\n",
              "      <td>12231.89</td>\n",
              "      <td>10000.00</td>\n",
              "      <td>2214.92</td>\n",
              "      <td>16.97</td>\n",
              "      <td>0.0</td>\n",
              "      <td>0.0</td>\n",
              "      <td>Jan-15</td>\n",
              "      <td>357.48</td>\n",
              "      <td>Apr-16</td>\n",
              "      <td>0.0</td>\n",
              "      <td>1</td>\n",
              "      <td>INDIVIDUAL</td>\n",
              "      <td>0</td>\n",
              "      <td>0.0</td>\n",
              "      <td>0</td>\n",
              "      <td>0.0</td>\n",
              "    </tr>\n",
              "    <tr>\n",
              "      <th>5</th>\n",
              "      <td>1075269</td>\n",
              "      <td>1311441</td>\n",
              "      <td>5000</td>\n",
              "      <td>5000</td>\n",
              "      <td>5000.0</td>\n",
              "      <td>36</td>\n",
              "      <td>7.90</td>\n",
              "      <td>156.46</td>\n",
              "      <td>A</td>\n",
              "      <td>A4</td>\n",
              "      <td>3 years</td>\n",
              "      <td>RENT</td>\n",
              "      <td>36000.0</td>\n",
              "      <td>Source Verified</td>\n",
              "      <td>Dec-11</td>\n",
              "      <td>Fully Paid</td>\n",
              "      <td>n</td>\n",
              "      <td>wedding</td>\n",
              "      <td>852xx</td>\n",
              "      <td>AZ</td>\n",
              "      <td>11.20</td>\n",
              "      <td>0</td>\n",
              "      <td>Nov-04</td>\n",
              "      <td>3</td>\n",
              "      <td>9</td>\n",
              "      <td>0</td>\n",
              "      <td>7963</td>\n",
              "      <td>28.30%</td>\n",
              "      <td>12</td>\n",
              "      <td>f</td>\n",
              "      <td>0.0</td>\n",
              "      <td>0.0</td>\n",
              "      <td>5632.210000</td>\n",
              "      <td>5632.21</td>\n",
              "      <td>5000.00</td>\n",
              "      <td>632.21</td>\n",
              "      <td>0.00</td>\n",
              "      <td>0.0</td>\n",
              "      <td>0.0</td>\n",
              "      <td>Jan-15</td>\n",
              "      <td>161.03</td>\n",
              "      <td>Jan-16</td>\n",
              "      <td>0.0</td>\n",
              "      <td>1</td>\n",
              "      <td>INDIVIDUAL</td>\n",
              "      <td>0</td>\n",
              "      <td>0.0</td>\n",
              "      <td>0</td>\n",
              "      <td>0.0</td>\n",
              "    </tr>\n",
              "    <tr>\n",
              "      <th>6</th>\n",
              "      <td>1069639</td>\n",
              "      <td>1304742</td>\n",
              "      <td>7000</td>\n",
              "      <td>7000</td>\n",
              "      <td>7000.0</td>\n",
              "      <td>60</td>\n",
              "      <td>15.96</td>\n",
              "      <td>170.08</td>\n",
              "      <td>C</td>\n",
              "      <td>C5</td>\n",
              "      <td>8 years</td>\n",
              "      <td>RENT</td>\n",
              "      <td>47004.0</td>\n",
              "      <td>Not Verified</td>\n",
              "      <td>Dec-11</td>\n",
              "      <td>Fully Paid</td>\n",
              "      <td>n</td>\n",
              "      <td>debt_consolidation</td>\n",
              "      <td>280xx</td>\n",
              "      <td>NC</td>\n",
              "      <td>23.51</td>\n",
              "      <td>0</td>\n",
              "      <td>Jul-05</td>\n",
              "      <td>1</td>\n",
              "      <td>7</td>\n",
              "      <td>0</td>\n",
              "      <td>17726</td>\n",
              "      <td>85.60%</td>\n",
              "      <td>11</td>\n",
              "      <td>f</td>\n",
              "      <td>0.0</td>\n",
              "      <td>0.0</td>\n",
              "      <td>10110.840000</td>\n",
              "      <td>10110.84</td>\n",
              "      <td>6985.61</td>\n",
              "      <td>3125.23</td>\n",
              "      <td>0.00</td>\n",
              "      <td>0.0</td>\n",
              "      <td>0.0</td>\n",
              "      <td>May-16</td>\n",
              "      <td>1313.76</td>\n",
              "      <td>May-16</td>\n",
              "      <td>0.0</td>\n",
              "      <td>1</td>\n",
              "      <td>INDIVIDUAL</td>\n",
              "      <td>0</td>\n",
              "      <td>0.0</td>\n",
              "      <td>0</td>\n",
              "      <td>0.0</td>\n",
              "    </tr>\n",
              "  </tbody>\n",
              "</table>\n",
              "</div>\n",
              "      <button class=\"colab-df-convert\" onclick=\"convertToInteractive('df-b6f57c63-7fca-4485-af97-33ca74c80b80')\"\n",
              "              title=\"Convert this dataframe to an interactive table.\"\n",
              "              style=\"display:none;\">\n",
              "        \n",
              "  <svg xmlns=\"http://www.w3.org/2000/svg\" height=\"24px\"viewBox=\"0 0 24 24\"\n",
              "       width=\"24px\">\n",
              "    <path d=\"M0 0h24v24H0V0z\" fill=\"none\"/>\n",
              "    <path d=\"M18.56 5.44l.94 2.06.94-2.06 2.06-.94-2.06-.94-.94-2.06-.94 2.06-2.06.94zm-11 1L8.5 8.5l.94-2.06 2.06-.94-2.06-.94L8.5 2.5l-.94 2.06-2.06.94zm10 10l.94 2.06.94-2.06 2.06-.94-2.06-.94-.94-2.06-.94 2.06-2.06.94z\"/><path d=\"M17.41 7.96l-1.37-1.37c-.4-.4-.92-.59-1.43-.59-.52 0-1.04.2-1.43.59L10.3 9.45l-7.72 7.72c-.78.78-.78 2.05 0 2.83L4 21.41c.39.39.9.59 1.41.59.51 0 1.02-.2 1.41-.59l7.78-7.78 2.81-2.81c.8-.78.8-2.07 0-2.86zM5.41 20L4 18.59l7.72-7.72 1.47 1.35L5.41 20z\"/>\n",
              "  </svg>\n",
              "      </button>\n",
              "      \n",
              "  <style>\n",
              "    .colab-df-container {\n",
              "      display:flex;\n",
              "      flex-wrap:wrap;\n",
              "      gap: 12px;\n",
              "    }\n",
              "\n",
              "    .colab-df-convert {\n",
              "      background-color: #E8F0FE;\n",
              "      border: none;\n",
              "      border-radius: 50%;\n",
              "      cursor: pointer;\n",
              "      display: none;\n",
              "      fill: #1967D2;\n",
              "      height: 32px;\n",
              "      padding: 0 0 0 0;\n",
              "      width: 32px;\n",
              "    }\n",
              "\n",
              "    .colab-df-convert:hover {\n",
              "      background-color: #E2EBFA;\n",
              "      box-shadow: 0px 1px 2px rgba(60, 64, 67, 0.3), 0px 1px 3px 1px rgba(60, 64, 67, 0.15);\n",
              "      fill: #174EA6;\n",
              "    }\n",
              "\n",
              "    [theme=dark] .colab-df-convert {\n",
              "      background-color: #3B4455;\n",
              "      fill: #D2E3FC;\n",
              "    }\n",
              "\n",
              "    [theme=dark] .colab-df-convert:hover {\n",
              "      background-color: #434B5C;\n",
              "      box-shadow: 0px 1px 3px 1px rgba(0, 0, 0, 0.15);\n",
              "      filter: drop-shadow(0px 1px 2px rgba(0, 0, 0, 0.3));\n",
              "      fill: #FFFFFF;\n",
              "    }\n",
              "  </style>\n",
              "\n",
              "      <script>\n",
              "        const buttonEl =\n",
              "          document.querySelector('#df-b6f57c63-7fca-4485-af97-33ca74c80b80 button.colab-df-convert');\n",
              "        buttonEl.style.display =\n",
              "          google.colab.kernel.accessAllowed ? 'block' : 'none';\n",
              "\n",
              "        async function convertToInteractive(key) {\n",
              "          const element = document.querySelector('#df-b6f57c63-7fca-4485-af97-33ca74c80b80');\n",
              "          const dataTable =\n",
              "            await google.colab.kernel.invokeFunction('convertToInteractive',\n",
              "                                                     [key], {});\n",
              "          if (!dataTable) return;\n",
              "\n",
              "          const docLinkHtml = 'Like what you see? Visit the ' +\n",
              "            '<a target=\"_blank\" href=https://colab.research.google.com/notebooks/data_table.ipynb>data table notebook</a>'\n",
              "            + ' to learn more about interactive tables.';\n",
              "          element.innerHTML = '';\n",
              "          dataTable['output_type'] = 'display_data';\n",
              "          await google.colab.output.renderOutput(dataTable, element);\n",
              "          const docLink = document.createElement('div');\n",
              "          docLink.innerHTML = docLinkHtml;\n",
              "          element.appendChild(docLink);\n",
              "        }\n",
              "      </script>\n",
              "    </div>\n",
              "  </div>\n",
              "  "
            ],
            "text/plain": [
              "        id  member_id  ...  delinq_amnt  pub_rec_bankruptcies\n",
              "0  1077501    1296599  ...            0                   0.0\n",
              "2  1077175    1313524  ...            0                   0.0\n",
              "3  1076863    1277178  ...            0                   0.0\n",
              "5  1075269    1311441  ...            0                   0.0\n",
              "6  1069639    1304742  ...            0                   0.0\n",
              "\n",
              "[5 rows x 49 columns]"
            ]
          },
          "metadata": {},
          "execution_count": 10
        }
      ]
    },
    {
      "cell_type": "markdown",
      "source": [
        "#***Univariate Analysis*** <br>\n",
        "Analyse few columns individually\n",
        "Seggregate into \n",
        "* Categorical\n",
        "  <br>Ordered - emp_length,issue_d\n",
        "  <br>Unordered - home_ownership,purpose,application_type\n",
        "* Quantitative/Numeric - annual_inc, loan_amnt\n",
        "\n",
        "***# Starting with Charged Off Data Set***"
      ],
      "metadata": {
        "id": "phd15D5WkT7d"
      }
    },
    {
      "cell_type": "markdown",
      "source": [
        "# **Now lets do analysis for emp_length column**"
      ],
      "metadata": {
        "id": "f_zuf_U9-Ayk"
      }
    },
    {
      "cell_type": "code",
      "source": [
        "# Starting with Charged Off Data Set\n",
        "#data_charged_off.head()\n",
        "# Categorical Variables\n",
        "# Ordered - emp_length,issue_d\n",
        "# Unordered - grade, sub_grade, home_ownership, vaerification_status,purpose,application_type\n",
        "import matplotlib.pyplot as plt\n",
        "import seaborn as sns\n",
        "\n",
        "data_charged_off.emp_length.value_counts().plot.bar()\n",
        "plt.title(\"Defaulter counts based on Length of Employment\")\n",
        "plt.xlabel('Length of Employment')\n",
        "plt.ylabel('Count of Defaulters')\n",
        "plt.show()"
      ],
      "metadata": {
        "colab": {
          "base_uri": "https://localhost:8080/",
          "height": 337
        },
        "id": "Tr4O9HEp_1Vw",
        "outputId": "85603da0-5918-4d81-a8b9-7b083d29234c"
      },
      "execution_count": 11,
      "outputs": [
        {
          "output_type": "display_data",
          "data": {
            "image/png": "[encoded data removed]",
            "text/plain": [
              "<Figure size 432x288 with 1 Axes>"
            ]
          },
          "metadata": {
            "needs_background": "light"
          }
        }
      ]
    },
    {
      "cell_type": "markdown",
      "source": [
        "**The above bar chart clearly shows that \"10+ Years\" has the maximum defaulters. Interesting to see Applicants with 6-9 years are less to default**"
      ],
      "metadata": {
        "id": "WeZm2z6VxMiF"
      }
    },
    {
      "cell_type": "markdown",
      "source": [
        "# **Now lets do analysis for home_ownership column**"
      ],
      "metadata": {
        "id": "nhYVOg9O986M"
      }
    },
    {
      "cell_type": "code",
      "source": [
        "# Now lets do analysis for home_ownership\n",
        "\n",
        "data_charged_off.home_ownership.value_counts().plot.bar()\n",
        "plt.title(\"Defaulter counts based on Home Ownership\")\n",
        "plt.xlabel('Home Ownership')\n",
        "plt.ylabel('Count of Defaulters')\n",
        "plt.show()"
      ],
      "metadata": {
        "colab": {
          "base_uri": "https://localhost:8080/",
          "height": 342
        },
        "id": "fB52pPCC5T_h",
        "outputId": "094d3b99-4d2f-4c39-fd7d-67e53e69006d"
      },
      "execution_count": 12,
      "outputs": [
        {
          "output_type": "display_data",
          "data": {
            "image/png": "[encoded data removed]",
            "text/plain": [
              "<Figure size 432x288 with 1 Axes>"
            ]
          },
          "metadata": {
            "needs_background": "light"
          }
        }
      ]
    },
    {
      "cell_type": "markdown",
      "source": [
        "**The above chart shows Applicants who is either in Rented House or with Mortgage are like to default**"
      ],
      "metadata": {
        "id": "UlMbb87d7wTo"
      }
    },
    {
      "cell_type": "markdown",
      "source": [
        "# **Now lets do analysis for purpose column**"
      ],
      "metadata": {
        "id": "4hsY75dX90gl"
      }
    },
    {
      "cell_type": "code",
      "source": [
        "# Now lets do analysis for purpose\n",
        "data_charged_off.purpose.value_counts().plot.bar()\n",
        "plt.title(\"Defaulter counts based on Purpose of Loan\")\n",
        "plt.xlabel('Purpose of Loan')\n",
        "plt.ylabel('Count of Defaulters')\n",
        "plt.show()"
      ],
      "metadata": {
        "colab": {
          "base_uri": "https://localhost:8080/",
          "height": 385
        },
        "id": "OhTrZDTf8eAo",
        "outputId": "df56a0cd-9186-41de-d52d-153bc79b1291"
      },
      "execution_count": 13,
      "outputs": [
        {
          "output_type": "display_data",
          "data": {
            "image/png": "[encoded data removed]",
            "text/plain": [
              "<Figure size 432x288 with 1 Axes>"
            ]
          },
          "metadata": {
            "needs_background": "light"
          }
        }
      ]
    },
    {
      "cell_type": "markdown",
      "source": [
        "**Here in the above chart shows that loan with \"debt_consolidation\" category likely to get defaulted** "
      ],
      "metadata": {
        "id": "U5myaPx-9XF1"
      }
    },
    {
      "cell_type": "markdown",
      "source": [
        "# **Now lets do analysis for issue_d column**"
      ],
      "metadata": {
        "id": "oHkpRyNu-ScL"
      }
    },
    {
      "cell_type": "code",
      "source": [
        "data_charged_off.issue_d.value_counts().plot.bar()\n",
        "plt.title(\"Defaulter counts based on Purpose of Loan\")\n",
        "plt.xlabel('Purpose of Loan')\n",
        "plt.ylabel('Count of Defaulters')\n",
        "plt.rcParams[\"figure.figsize\"] = (15,5)\n",
        "plt.show()"
      ],
      "metadata": {
        "colab": {
          "base_uri": "https://localhost:8080/",
          "height": 377
        },
        "id": "zcmm5Xjg9nc1",
        "outputId": "ffdddfad-e51a-4fb9-e7ab-d852f64b563b"
      },
      "execution_count": 15,
      "outputs": [
        {
          "output_type": "display_data",
          "data": {
            "image/png": "[encoded data removed]",
            "text/plain": [
              "<Figure size 1080x360 with 1 Axes>"
            ]
          },
          "metadata": {
            "needs_background": "light"
          }
        }
      ]
    },
    {
      "cell_type": "markdown",
      "source": [
        "In the above chat we can see that Dec-11 is the issue month maximum default loans belong to. Lets see the trend of the count based on the Month"
      ],
      "metadata": {
        "id": "myACjmCeAtIf"
      }
    },
    {
      "cell_type": "markdown",
      "source": [
        "#**Trends**"
      ],
      "metadata": {
        "id": "qpPXcAQqTonH"
      }
    },
    {
      "cell_type": "code",
      "source": [
        "#This can be achieved by exrtacting issue_month and issue_year (two new columns)\n",
        "data_charged_off['issue_month']=data_charged_off['issue_d'].apply(lambda x: x[0:3])\n",
        "data_charged_off['issue_year']=data_charged_off['issue_d'].apply(lambda x: (2000+int(x[4:])))\n",
        "data_charged_off.issue_month.value_counts().plot.bar()\n",
        "plt.title(\"Defaulter counts based on Issue Month of Loan\")\n",
        "plt.xlabel('Issue Month of Loan')\n",
        "plt.ylabel('Count of Defaulters')\n",
        "plt.show()"
      ],
      "metadata": {
        "colab": {
          "base_uri": "https://localhost:8080/",
          "height": 564
        },
        "id": "NTB8_c-XBHFt",
        "outputId": "0b6e8af7-feea-4952-c587-22b53316d374"
      },
      "execution_count": 16,
      "outputs": [
        {
          "output_type": "stream",
          "name": "stderr",
          "text": [
            "/usr/local/lib/python3.7/dist-packages/ipykernel_launcher.py:2: SettingWithCopyWarning: \n",
            "A value is trying to be set on a copy of a slice from a DataFrame.\n",
            "Try using .loc[row_indexer,col_indexer] = value instead\n",
            "\n",
            "See the caveats in the documentation: https://pandas.pydata.org/pandas-docs/stable/user_guide/indexing.html#returning-a-view-versus-a-copy\n",
            "  \n",
            "/usr/local/lib/python3.7/dist-packages/ipykernel_launcher.py:3: SettingWithCopyWarning: \n",
            "A value is trying to be set on a copy of a slice from a DataFrame.\n",
            "Try using .loc[row_indexer,col_indexer] = value instead\n",
            "\n",
            "See the caveats in the documentation: https://pandas.pydata.org/pandas-docs/stable/user_guide/indexing.html#returning-a-view-versus-a-copy\n",
            "  This is separate from the ipykernel package so we can avoid doing imports until\n"
          ]
        },
        {
          "output_type": "display_data",
          "data": {
            "image/png": "[encoded data removed]",
            "text/plain": [
              "<Figure size 1080x360 with 1 Axes>"
            ]
          },
          "metadata": {
            "needs_background": "light"
          }
        }
      ]
    },
    {
      "cell_type": "markdown",
      "source": [
        "This chart shows that loans which are issued in Dec are higher when compared to other months\n"
      ],
      "metadata": {
        "id": "Iqt_dg5nOhGT"
      }
    },
    {
      "cell_type": "code",
      "source": [
        "data_charged_off.issue_year=data_charged_off.issue_year.astype(\"int\")\n",
        "data_charged_off.issue_year.value_counts().sort_index().plot.bar()\n",
        "plt.title(\"Defaulter counts based on Year of Loan\")\n",
        "plt.xlabel('Year of Loan')\n",
        "plt.ylabel('Count of Defaulters')\n",
        "plt.show()"
      ],
      "metadata": {
        "colab": {
          "base_uri": "https://localhost:8080/",
          "height": 467
        },
        "id": "dNSDApK_OyFA",
        "outputId": "d821c597-02af-4b66-bc03-4deacffc413e"
      },
      "execution_count": 17,
      "outputs": [
        {
          "output_type": "stream",
          "name": "stderr",
          "text": [
            "/usr/local/lib/python3.7/dist-packages/pandas/core/generic.py:5170: SettingWithCopyWarning: \n",
            "A value is trying to be set on a copy of a slice from a DataFrame.\n",
            "Try using .loc[row_indexer,col_indexer] = value instead\n",
            "\n",
            "See the caveats in the documentation: https://pandas.pydata.org/pandas-docs/stable/user_guide/indexing.html#returning-a-view-versus-a-copy\n",
            "  self[name] = value\n"
          ]
        },
        {
          "output_type": "display_data",
          "data": {
            "image/png": "[encoded data removed]",
            "text/plain": [
              "<Figure size 1080x360 with 1 Axes>"
            ]
          },
          "metadata": {
            "needs_background": "light"
          }
        }
      ]
    },
    {
      "cell_type": "markdown",
      "source": [
        "**So based on the above chart we could see that count of defaulters have increased over the years.**"
      ],
      "metadata": {
        "id": "S8oj0OCMR-MC"
      }
    },
    {
      "cell_type": "code",
      "source": [
        "#data_charged_off.loan_amnt.value_counts()\n",
        "sns.histplot(data_charged_off.loan_amnt)\n",
        "plt.title(\"Distribution of Loan Amount\", fontsize=18)\n",
        "plt.show()\n"
      ],
      "metadata": {
        "colab": {
          "base_uri": "https://localhost:8080/",
          "height": 355
        },
        "id": "YoTyU9zAQVh2",
        "outputId": "167b6754-60e7-491e-eb71-9bed071091ad"
      },
      "execution_count": 18,
      "outputs": [
        {
          "output_type": "display_data",
          "data": {
            "image/png": "[encoded data removed]",
            "text/plain": [
              "<Figure size 1080x360 with 1 Axes>"
            ]
          },
          "metadata": {
            "needs_background": "light"
          }
        }
      ]
    },
    {
      "cell_type": "markdown",
      "source": [
        "Based on the above we can could see that density is at from 900 to 25000. So defaults are more at this range"
      ],
      "metadata": {
        "id": "R7SCMFYgTzmm"
      }
    },
    {
      "cell_type": "code",
      "source": [
        "data_charged_off.loan_amnt.describe()"
      ],
      "metadata": {
        "colab": {
          "base_uri": "https://localhost:8080/"
        },
        "id": "Nla_huDwUSUt",
        "outputId": "3eabf7ad-4b49-42a1-9a84-7558a5acb569"
      },
      "execution_count": 171,
      "outputs": [
        {
          "output_type": "execute_result",
          "data": {
            "text/plain": [
              "count     5309.000000\n",
              "mean     12308.141835\n",
              "std       8081.668320\n",
              "min        900.000000\n",
              "25%       6000.000000\n",
              "50%      10000.000000\n",
              "75%      17000.000000\n",
              "max      35000.000000\n",
              "Name: loan_amnt, dtype: float64"
            ]
          },
          "metadata": {},
          "execution_count": 171
        }
      ]
    },
    {
      "cell_type": "code",
      "source": [
        "data_charged_off.info()"
      ],
      "metadata": {
        "colab": {
          "base_uri": "https://localhost:8080/"
        },
        "id": "Tt9aul23WpgU",
        "outputId": "c676ac41-bb55-47b4-cbb2-1ea812ceb52c"
      },
      "execution_count": 174,
      "outputs": [
        {
          "output_type": "stream",
          "name": "stdout",
          "text": [
            "<class 'pandas.core.frame.DataFrame'>\n",
            "Int64Index: 5309 entries, 1 to 39653\n",
            "Data columns (total 51 columns):\n",
            " #   Column                      Non-Null Count  Dtype  \n",
            "---  ------                      --------------  -----  \n",
            " 0   id                          5309 non-null   int64  \n",
            " 1   member_id                   5309 non-null   int64  \n",
            " 2   loan_amnt                   5309 non-null   int64  \n",
            " 3   funded_amnt                 5309 non-null   int64  \n",
            " 4   funded_amnt_inv             5309 non-null   float64\n",
            " 5   term                        5309 non-null   object \n",
            " 6   int_rate                    5309 non-null   object \n",
            " 7   installment                 5309 non-null   float64\n",
            " 8   grade                       5309 non-null   object \n",
            " 9   sub_grade                   5309 non-null   object \n",
            " 10  emp_length                  5309 non-null   object \n",
            " 11  home_ownership              5309 non-null   object \n",
            " 12  annual_inc                  5309 non-null   float64\n",
            " 13  verification_status         5309 non-null   object \n",
            " 14  issue_d                     5309 non-null   object \n",
            " 15  loan_status                 5309 non-null   object \n",
            " 16  pymnt_plan                  5309 non-null   object \n",
            " 17  purpose                     5309 non-null   object \n",
            " 18  zip_code                    5309 non-null   object \n",
            " 19  addr_state                  5309 non-null   object \n",
            " 20  dti                         5309 non-null   float64\n",
            " 21  delinq_2yrs                 5309 non-null   int64  \n",
            " 22  earliest_cr_line            5309 non-null   object \n",
            " 23  inq_last_6mths              5309 non-null   int64  \n",
            " 24  open_acc                    5309 non-null   int64  \n",
            " 25  pub_rec                     5309 non-null   int64  \n",
            " 26  revol_bal                   5309 non-null   int64  \n",
            " 27  revol_util                  5309 non-null   object \n",
            " 28  total_acc                   5309 non-null   int64  \n",
            " 29  initial_list_status         5309 non-null   object \n",
            " 30  out_prncp                   5309 non-null   float64\n",
            " 31  out_prncp_inv               5309 non-null   float64\n",
            " 32  total_pymnt                 5309 non-null   float64\n",
            " 33  total_pymnt_inv             5309 non-null   float64\n",
            " 34  total_rec_prncp             5309 non-null   float64\n",
            " 35  total_rec_int               5309 non-null   float64\n",
            " 36  total_rec_late_fee          5309 non-null   float64\n",
            " 37  recoveries                  5309 non-null   float64\n",
            " 38  collection_recovery_fee     5309 non-null   float64\n",
            " 39  last_pymnt_d                5309 non-null   object \n",
            " 40  last_pymnt_amnt             5309 non-null   float64\n",
            " 41  last_credit_pull_d          5309 non-null   object \n",
            " 42  collections_12_mths_ex_med  5309 non-null   float64\n",
            " 43  policy_code                 5309 non-null   int64  \n",
            " 44  application_type            5309 non-null   object \n",
            " 45  acc_now_delinq              5309 non-null   int64  \n",
            " 46  chargeoff_within_12_mths    5309 non-null   float64\n",
            " 47  delinq_amnt                 5309 non-null   int64  \n",
            " 48  pub_rec_bankruptcies        5309 non-null   float64\n",
            " 49  issue_month                 5309 non-null   object \n",
            " 50  issue_year                  5309 non-null   int64  \n",
            "dtypes: float64(17), int64(14), object(20)\n",
            "memory usage: 2.1+ MB\n"
          ]
        }
      ]
    },
    {
      "cell_type": "code",
      "source": [
        "data_charged_off.annual_inc.describe()"
      ],
      "metadata": {
        "colab": {
          "base_uri": "https://localhost:8080/"
        },
        "id": "uzTAoZq6aKMl",
        "outputId": "4741f4a2-dd4d-43d8-9d4c-c9a1db2d3a12"
      },
      "execution_count": 182,
      "outputs": [
        {
          "output_type": "execute_result",
          "data": {
            "text/plain": [
              "count    5.309000e+03\n",
              "mean     6.352761e+04\n",
              "std      4.829939e+04\n",
              "min      4.080000e+03\n",
              "25%      3.840000e+04\n",
              "50%      5.400000e+04\n",
              "75%      7.500000e+04\n",
              "max      1.250000e+06\n",
              "Name: annual_inc, dtype: float64"
            ]
          },
          "metadata": {},
          "execution_count": 182
        }
      ]
    },
    {
      "cell_type": "code",
      "source": [
        "#data_charged_off.annual_inc.describe()\n",
        "\n",
        "sns.histplot(data_charged_off.annual_inc,bins=[0,50000, 100000,150000,200000, 500000])\n",
        "plt.title(\"Distribution of Annual Income\", fontsize=18)\n",
        "plt.xlabel(\"Annual Income\")\n",
        "plt.ylabel(\"Defaulters Count\")\n",
        "plt.xticks([0,50000,100000,150000,200000, 500000])\n",
        "plt.show()"
      ],
      "metadata": {
        "colab": {
          "base_uri": "https://localhost:8080/",
          "height": 354
        },
        "id": "AX52JHkIW5YX",
        "outputId": "e8cc06b6-9000-47d6-8650-616a2389d168"
      },
      "execution_count": 19,
      "outputs": [
        {
          "output_type": "display_data",
          "data": {
            "image/png": "[encoded data removed]",
            "text/plain": [
              "<Figure size 1080x360 with 1 Axes>"
            ]
          },
          "metadata": {
            "needs_background": "light"
          }
        }
      ]
    },
    {
      "cell_type": "markdown",
      "source": [
        "Trend shows that majority of the defaulters have Annual income < 100000"
      ],
      "metadata": {
        "id": "aGqSxzI8geYC"
      }
    },
    {
      "cell_type": "code",
      "source": [
        "data_charged_off.pub_rec.value_counts().plot.bar()\n",
        "plt.title(\"Distribution of Number of derogatory public records\", fontsize=18)\n",
        "plt.xlabel(\"Number of derogatory public records\")\n",
        "plt.ylabel(\"Defaulters Count\")\n",
        "plt.show()"
      ],
      "metadata": {
        "colab": {
          "base_uri": "https://localhost:8080/",
          "height": 350
        },
        "id": "fns4UFcLhw7g",
        "outputId": "68e11107-eb9b-47fd-91f3-dcd13b750d8d"
      },
      "execution_count": 20,
      "outputs": [
        {
          "output_type": "display_data",
          "data": {
            "image/png": "[encoded data removed]",
            "text/plain": [
              "<Figure size 1080x360 with 1 Axes>"
            ]
          },
          "metadata": {
            "needs_background": "light"
          }
        }
      ]
    },
    {
      "cell_type": "markdown",
      "source": [
        "Both the above two charts which depicts the Derogatory Public Records and Public Record Bankcruptcies show the Majority are at 0 and 0.0 respectively"
      ],
      "metadata": {
        "id": "0cPmWH5Eite3"
      }
    },
    {
      "cell_type": "code",
      "source": [
        "# Based on the State\n",
        "data_charged_off.addr_state.value_counts().plot.bar()\n",
        "plt.title(\"Statewise Distribution\", fontsize=18)\n",
        "plt.xlabel(\"State\")\n",
        "plt.ylabel(\"Defaulters Count\")\n",
        "plt.show()"
      ],
      "metadata": {
        "colab": {
          "base_uri": "https://localhost:8080/",
          "height": 360
        },
        "id": "HyhnZDd1r6Qy",
        "outputId": "fdb31965-0b45-4881-9747-18222aa16caf"
      },
      "execution_count": 21,
      "outputs": [
        {
          "output_type": "display_data",
          "data": {
            "image/png": "[encoded data removed]",
            "text/plain": [
              "<Figure size 1080x360 with 1 Axes>"
            ]
          },
          "metadata": {
            "needs_background": "light"
          }
        }
      ]
    },
    {
      "cell_type": "markdown",
      "source": [
        "This will give us an idea that majority of the applicants come from CA sate"
      ],
      "metadata": {
        "id": "k0FMX2nFsRxh"
      }
    },
    {
      "cell_type": "markdown",
      "source": [
        "#Segmented Univariate Analysis\n",
        "\n",
        "Now lets take the data with \"Charged Off\" and \"Fully Paid\""
      ],
      "metadata": {
        "id": "xNm5OkIJkZnA"
      }
    },
    {
      "cell_type": "markdown",
      "source": [
        "##Loan Status percentage w.r.t Loan Purpose"
      ],
      "metadata": {
        "id": "M3CjIut-tKQ6"
      }
    },
    {
      "cell_type": "code",
      "source": [
        "data_without_all_na.loan_status.unique()"
      ],
      "metadata": {
        "colab": {
          "base_uri": "https://localhost:8080/"
        },
        "id": "CYRB8VPlyChl",
        "outputId": "d3b1360d-74ad-41b5-be05-09a6a8532d86"
      },
      "execution_count": 236,
      "outputs": [
        {
          "output_type": "execute_result",
          "data": {
            "text/plain": [
              "array(['Fully Paid', 'Charged Off'], dtype=object)"
            ]
          },
          "metadata": {},
          "execution_count": 236
        }
      ]
    },
    {
      "cell_type": "code",
      "source": [
        "loan_purpose = pd.pivot_table(data = data_without_all_na, index=\"purpose\", columns=\"loan_status\", values=\"id\", aggfunc=sum)\n",
        "loan_purpose_perc=loan_purpose[['Fully Paid', 'Charged Off']].apply(lambda x: x/x.sum(), axis=1)\n",
        "loan_purpose_perc.plot(kind=\"bar\", stacked=\"True\", figsize=[15,10])\n",
        "plt.title(\"Loan Status percentage w.r.t Loan Purpose\", fontsize=18)\n",
        "plt.xlabel(\"Loan Purpose\", fontsize=15)\n",
        "plt.show()\n"
      ],
      "metadata": {
        "colab": {
          "base_uri": "https://localhost:8080/",
          "height": 720
        },
        "id": "aLWTmw3FpN2L",
        "outputId": "2194bdc3-3cfe-49ff-8bd4-361a7f8e860d"
      },
      "execution_count": 22,
      "outputs": [
        {
          "output_type": "display_data",
          "data": {
            "image/png": "[encoded data removed]",
            "text/plain": [
              "<Figure size 1080x720 with 1 Axes>"
            ]
          },
          "metadata": {
            "needs_background": "light"
          }
        }
      ]
    },
    {
      "cell_type": "markdown",
      "source": [
        "We can see that \"small_business\" has maximum \"Charged Off\". Which should have major focus while giving loans"
      ],
      "metadata": {
        "id": "dkQOFgS-zYWQ"
      }
    },
    {
      "cell_type": "markdown",
      "source": [
        "#Loan Status percentage w.r.t Loan Term"
      ],
      "metadata": {
        "id": "Hn5gT83gz7cF"
      }
    },
    {
      "cell_type": "code",
      "source": [
        "loan_purpose = pd.pivot_table(data = data_without_all_na, index=\"term\", columns=\"loan_status\", values=\"id\", aggfunc=sum)\n",
        "loan_purpose_perc=loan_purpose[['Fully Paid', 'Charged Off']].apply(lambda x: x/x.sum(), axis=1)\n",
        "loan_purpose_perc.plot(kind=\"bar\", stacked=\"True\", figsize=[15,10])\n",
        "plt.title(\"Loan Status percentage w.r.t Loan Term\", fontsize=18)\n",
        "plt.xlabel(\"Loan Term\", fontsize=15)\n",
        "plt.show()"
      ],
      "metadata": {
        "colab": {
          "base_uri": "https://localhost:8080/",
          "height": 636
        },
        "id": "jxuPVAUYz4Lt",
        "outputId": "0db57cd1-ec09-4a37-c43b-7930c7e9120e"
      },
      "execution_count": 23,
      "outputs": [
        {
          "output_type": "display_data",
          "data": {
            "image/png": "[encoded data removed]",
            "text/plain": [
              "<Figure size 1080x720 with 1 Axes>"
            ]
          },
          "metadata": {
            "needs_background": "light"
          }
        }
      ]
    },
    {
      "cell_type": "markdown",
      "source": [
        "This shows that loan with 60 terms have maximum \"Charged Off\""
      ],
      "metadata": {
        "id": "dFHElsrY0NpY"
      }
    },
    {
      "cell_type": "markdown",
      "source": [
        "#Loan Status percentage w.r.t State of the Applicant"
      ],
      "metadata": {
        "id": "-US0QbwO0gD9"
      }
    },
    {
      "cell_type": "code",
      "source": [
        "loan_purpose = pd.pivot_table(data = data_without_all_na, index=\"addr_state\", columns=\"loan_status\", values=\"id\", aggfunc=sum)\n",
        "loan_purpose_perc=loan_purpose[['Fully Paid', 'Charged Off']].apply(lambda x: x/x.sum(), axis=1)\n",
        "loan_purpose_perc.plot(kind=\"bar\", stacked=\"True\", figsize=[25,10])\n",
        "plt.title(\"Loan Status percentage w.r.t State of the Applicant\", fontsize=18)\n",
        "plt.xlabel(\"Address State of Applicant\", fontsize=15)\n",
        "plt.show()"
      ],
      "metadata": {
        "colab": {
          "base_uri": "https://localhost:8080/",
          "height": 541
        },
        "id": "Lpz6blHX0ktV",
        "outputId": "3746555d-a60e-4514-a7c7-d4a6ace4eb64"
      },
      "execution_count": 24,
      "outputs": [
        {
          "output_type": "display_data",
          "data": {
            "image/png": "[encoded data removed]",
            "text/plain": [
              "<Figure size 1800x720 with 1 Axes>"
            ]
          },
          "metadata": {
            "needs_background": "light"
          }
        }
      ]
    },
    {
      "cell_type": "markdown",
      "source": [
        "* All Applicants from states \"IA\"/\"IN\"/\"ME\", \"Fully Paid\"\n",
        "* Maximum no of \"Charged Off\" is from \"NE\""
      ],
      "metadata": {
        "id": "J0oIFMh304ly"
      }
    },
    {
      "cell_type": "code",
      "source": [
        ""
      ],
      "metadata": {
        "id": "ao40PBTE02VE"
      },
      "execution_count": null,
      "outputs": []
    },
    {
      "cell_type": "markdown",
      "source": [
        "#Bivariate Analysis"
      ],
      "metadata": {
        "id": "ah9L3HXjg5Ab"
      }
    },
    {
      "cell_type": "code",
      "source": [
        "#Drop columns 'out_prncp', 'out_prncp_inv','collections_12_mths_ex_med','policy_code','acc_now_delinq','chargeoff_within_12_mths','delinq_amnt'\n",
        "data_without_all_na=data_without_all_na.drop(columns={'out_prncp', 'out_prncp_inv','collections_12_mths_ex_med','policy_code','acc_now_delinq','chargeoff_within_12_mths','delinq_amnt'})"
      ],
      "metadata": {
        "id": "2gmwfs3i8bIh"
      },
      "execution_count": 25,
      "outputs": []
    },
    {
      "cell_type": "code",
      "source": [
        "\n",
        "corr = data_without_all_na.corr()\n",
        "corr.style.background_gradient(cmap='coolwarm')"
      ],
      "metadata": {
        "colab": {
          "base_uri": "https://localhost:8080/",
          "height": 782
        },
        "id": "4KZgwd_x7n9U",
        "outputId": "263484bf-b8d2-411e-9e46-c448b9e7369c"
      },
      "execution_count": 26,
      "outputs": [
        {
          "output_type": "execute_result",
          "data": {
            "text/html": [
              "<style  type=\"text/css\" >\n",
              "#T_4a42ecde_6e4b_11ec_a77f_0242ac1c0002row0_col0,#T_4a42ecde_6e4b_11ec_a77f_0242ac1c0002row1_col1,#T_4a42ecde_6e4b_11ec_a77f_0242ac1c0002row2_col2,#T_4a42ecde_6e4b_11ec_a77f_0242ac1c0002row3_col3,#T_4a42ecde_6e4b_11ec_a77f_0242ac1c0002row4_col4,#T_4a42ecde_6e4b_11ec_a77f_0242ac1c0002row5_col5,#T_4a42ecde_6e4b_11ec_a77f_0242ac1c0002row6_col6,#T_4a42ecde_6e4b_11ec_a77f_0242ac1c0002row7_col7,#T_4a42ecde_6e4b_11ec_a77f_0242ac1c0002row8_col8,#T_4a42ecde_6e4b_11ec_a77f_0242ac1c0002row9_col9,#T_4a42ecde_6e4b_11ec_a77f_0242ac1c0002row10_col10,#T_4a42ecde_6e4b_11ec_a77f_0242ac1c0002row11_col11,#T_4a42ecde_6e4b_11ec_a77f_0242ac1c0002row12_col12,#T_4a42ecde_6e4b_11ec_a77f_0242ac1c0002row13_col13,#T_4a42ecde_6e4b_11ec_a77f_0242ac1c0002row14_col14,#T_4a42ecde_6e4b_11ec_a77f_0242ac1c0002row15_col15,#T_4a42ecde_6e4b_11ec_a77f_0242ac1c0002row16_col16,#T_4a42ecde_6e4b_11ec_a77f_0242ac1c0002row17_col17,#T_4a42ecde_6e4b_11ec_a77f_0242ac1c0002row18_col18,#T_4a42ecde_6e4b_11ec_a77f_0242ac1c0002row19_col19,#T_4a42ecde_6e4b_11ec_a77f_0242ac1c0002row20_col20,#T_4a42ecde_6e4b_11ec_a77f_0242ac1c0002row21_col21,#T_4a42ecde_6e4b_11ec_a77f_0242ac1c0002row22_col22{\n",
              "            background-color:  #b40426;\n",
              "            color:  #f1f1f1;\n",
              "        }#T_4a42ecde_6e4b_11ec_a77f_0242ac1c0002row0_col1,#T_4a42ecde_6e4b_11ec_a77f_0242ac1c0002row1_col0{\n",
              "            background-color:  #b50927;\n",
              "            color:  #f1f1f1;\n",
              "        }#T_4a42ecde_6e4b_11ec_a77f_0242ac1c0002row0_col2,#T_4a42ecde_6e4b_11ec_a77f_0242ac1c0002row1_col2,#T_4a42ecde_6e4b_11ec_a77f_0242ac1c0002row14_col1,#T_4a42ecde_6e4b_11ec_a77f_0242ac1c0002row14_col7,#T_4a42ecde_6e4b_11ec_a77f_0242ac1c0002row15_col10{\n",
              "            background-color:  #6e90f2;\n",
              "            color:  #000000;\n",
              "        }#T_4a42ecde_6e4b_11ec_a77f_0242ac1c0002row0_col3,#T_4a42ecde_6e4b_11ec_a77f_0242ac1c0002row0_col16,#T_4a42ecde_6e4b_11ec_a77f_0242ac1c0002row1_col3,#T_4a42ecde_6e4b_11ec_a77f_0242ac1c0002row1_col16,#T_4a42ecde_6e4b_11ec_a77f_0242ac1c0002row2_col1,#T_4a42ecde_6e4b_11ec_a77f_0242ac1c0002row4_col7,#T_4a42ecde_6e4b_11ec_a77f_0242ac1c0002row4_col10,#T_4a42ecde_6e4b_11ec_a77f_0242ac1c0002row14_col10,#T_4a42ecde_6e4b_11ec_a77f_0242ac1c0002row21_col12{\n",
              "            background-color:  #7295f4;\n",
              "            color:  #000000;\n",
              "        }#T_4a42ecde_6e4b_11ec_a77f_0242ac1c0002row0_col4,#T_4a42ecde_6e4b_11ec_a77f_0242ac1c0002row2_col13,#T_4a42ecde_6e4b_11ec_a77f_0242ac1c0002row7_col12,#T_4a42ecde_6e4b_11ec_a77f_0242ac1c0002row17_col6{\n",
              "            background-color:  #94b6ff;\n",
              "            color:  #000000;\n",
              "        }#T_4a42ecde_6e4b_11ec_a77f_0242ac1c0002row0_col5,#T_4a42ecde_6e4b_11ec_a77f_0242ac1c0002row4_col20,#T_4a42ecde_6e4b_11ec_a77f_0242ac1c0002row5_col18,#T_4a42ecde_6e4b_11ec_a77f_0242ac1c0002row13_col8,#T_4a42ecde_6e4b_11ec_a77f_0242ac1c0002row14_col19,#T_4a42ecde_6e4b_11ec_a77f_0242ac1c0002row18_col6,#T_4a42ecde_6e4b_11ec_a77f_0242ac1c0002row20_col2,#T_4a42ecde_6e4b_11ec_a77f_0242ac1c0002row20_col5,#T_4a42ecde_6e4b_11ec_a77f_0242ac1c0002row22_col7{\n",
              "            background-color:  #5e7de7;\n",
              "            color:  #000000;\n",
              "        }#T_4a42ecde_6e4b_11ec_a77f_0242ac1c0002row0_col6,#T_4a42ecde_6e4b_11ec_a77f_0242ac1c0002row1_col6,#T_4a42ecde_6e4b_11ec_a77f_0242ac1c0002row1_col19,#T_4a42ecde_6e4b_11ec_a77f_0242ac1c0002row7_col16,#T_4a42ecde_6e4b_11ec_a77f_0242ac1c0002row20_col3,#T_4a42ecde_6e4b_11ec_a77f_0242ac1c0002row20_col7,#T_4a42ecde_6e4b_11ec_a77f_0242ac1c0002row21_col7{\n",
              "            background-color:  #5f7fe8;\n",
              "            color:  #000000;\n",
              "        }#T_4a42ecde_6e4b_11ec_a77f_0242ac1c0002row0_col7,#T_4a42ecde_6e4b_11ec_a77f_0242ac1c0002row2_col10,#T_4a42ecde_6e4b_11ec_a77f_0242ac1c0002row21_col0{\n",
              "            background-color:  #779af7;\n",
              "            color:  #000000;\n",
              "        }#T_4a42ecde_6e4b_11ec_a77f_0242ac1c0002row0_col8,#T_4a42ecde_6e4b_11ec_a77f_0242ac1c0002row0_col11,#T_4a42ecde_6e4b_11ec_a77f_0242ac1c0002row0_col20,#T_4a42ecde_6e4b_11ec_a77f_0242ac1c0002row0_col22,#T_4a42ecde_6e4b_11ec_a77f_0242ac1c0002row1_col8,#T_4a42ecde_6e4b_11ec_a77f_0242ac1c0002row1_col11,#T_4a42ecde_6e4b_11ec_a77f_0242ac1c0002row1_col22,#T_4a42ecde_6e4b_11ec_a77f_0242ac1c0002row6_col11,#T_4a42ecde_6e4b_11ec_a77f_0242ac1c0002row7_col9,#T_4a42ecde_6e4b_11ec_a77f_0242ac1c0002row8_col0,#T_4a42ecde_6e4b_11ec_a77f_0242ac1c0002row18_col15,#T_4a42ecde_6e4b_11ec_a77f_0242ac1c0002row20_col17{\n",
              "            background-color:  #485fd1;\n",
              "            color:  #f1f1f1;\n",
              "        }#T_4a42ecde_6e4b_11ec_a77f_0242ac1c0002row0_col9,#T_4a42ecde_6e4b_11ec_a77f_0242ac1c0002row1_col18,#T_4a42ecde_6e4b_11ec_a77f_0242ac1c0002row8_col4,#T_4a42ecde_6e4b_11ec_a77f_0242ac1c0002row11_col13{\n",
              "            background-color:  #3c4ec2;\n",
              "            color:  #f1f1f1;\n",
              "        }#T_4a42ecde_6e4b_11ec_a77f_0242ac1c0002row0_col10,#T_4a42ecde_6e4b_11ec_a77f_0242ac1c0002row11_col0,#T_4a42ecde_6e4b_11ec_a77f_0242ac1c0002row11_col21,#T_4a42ecde_6e4b_11ec_a77f_0242ac1c0002row13_col18,#T_4a42ecde_6e4b_11ec_a77f_0242ac1c0002row14_col9,#T_4a42ecde_6e4b_11ec_a77f_0242ac1c0002row19_col10{\n",
              "            background-color:  #455cce;\n",
              "            color:  #f1f1f1;\n",
              "        }#T_4a42ecde_6e4b_11ec_a77f_0242ac1c0002row0_col12,#T_4a42ecde_6e4b_11ec_a77f_0242ac1c0002row2_col9,#T_4a42ecde_6e4b_11ec_a77f_0242ac1c0002row3_col9,#T_4a42ecde_6e4b_11ec_a77f_0242ac1c0002row8_col21,#T_4a42ecde_6e4b_11ec_a77f_0242ac1c0002row9_col2,#T_4a42ecde_6e4b_11ec_a77f_0242ac1c0002row9_col3,#T_4a42ecde_6e4b_11ec_a77f_0242ac1c0002row10_col22,#T_4a42ecde_6e4b_11ec_a77f_0242ac1c0002row17_col11,#T_4a42ecde_6e4b_11ec_a77f_0242ac1c0002row20_col9,#T_4a42ecde_6e4b_11ec_a77f_0242ac1c0002row22_col8,#T_4a42ecde_6e4b_11ec_a77f_0242ac1c0002row22_col9{\n",
              "            background-color:  #4b64d5;\n",
              "            color:  #f1f1f1;\n",
              "        }#T_4a42ecde_6e4b_11ec_a77f_0242ac1c0002row0_col13,#T_4a42ecde_6e4b_11ec_a77f_0242ac1c0002row6_col0,#T_4a42ecde_6e4b_11ec_a77f_0242ac1c0002row9_col8,#T_4a42ecde_6e4b_11ec_a77f_0242ac1c0002row9_col22,#T_4a42ecde_6e4b_11ec_a77f_0242ac1c0002row10_col8,#T_4a42ecde_6e4b_11ec_a77f_0242ac1c0002row10_col11,#T_4a42ecde_6e4b_11ec_a77f_0242ac1c0002row10_col20,#T_4a42ecde_6e4b_11ec_a77f_0242ac1c0002row11_col8,#T_4a42ecde_6e4b_11ec_a77f_0242ac1c0002row15_col18,#T_4a42ecde_6e4b_11ec_a77f_0242ac1c0002row18_col12,#T_4a42ecde_6e4b_11ec_a77f_0242ac1c0002row18_col14,#T_4a42ecde_6e4b_11ec_a77f_0242ac1c0002row19_col9{\n",
              "            background-color:  #4c66d6;\n",
              "            color:  #000000;\n",
              "        }#T_4a42ecde_6e4b_11ec_a77f_0242ac1c0002row0_col14,#T_4a42ecde_6e4b_11ec_a77f_0242ac1c0002row5_col7,#T_4a42ecde_6e4b_11ec_a77f_0242ac1c0002row13_col9{\n",
              "            background-color:  #6b8df0;\n",
              "            color:  #000000;\n",
              "        }#T_4a42ecde_6e4b_11ec_a77f_0242ac1c0002row0_col15,#T_4a42ecde_6e4b_11ec_a77f_0242ac1c0002row15_col13,#T_4a42ecde_6e4b_11ec_a77f_0242ac1c0002row21_col6{\n",
              "            background-color:  #88abfd;\n",
              "            color:  #000000;\n",
              "        }#T_4a42ecde_6e4b_11ec_a77f_0242ac1c0002row0_col17,#T_4a42ecde_6e4b_11ec_a77f_0242ac1c0002row2_col20,#T_4a42ecde_6e4b_11ec_a77f_0242ac1c0002row3_col20,#T_4a42ecde_6e4b_11ec_a77f_0242ac1c0002row5_col0,#T_4a42ecde_6e4b_11ec_a77f_0242ac1c0002row5_col20{\n",
              "            background-color:  #6282ea;\n",
              "            color:  #000000;\n",
              "        }#T_4a42ecde_6e4b_11ec_a77f_0242ac1c0002row0_col18,#T_4a42ecde_6e4b_11ec_a77f_0242ac1c0002row8_col2,#T_4a42ecde_6e4b_11ec_a77f_0242ac1c0002row9_col1,#T_4a42ecde_6e4b_11ec_a77f_0242ac1c0002row14_col11,#T_4a42ecde_6e4b_11ec_a77f_0242ac1c0002row14_col22,#T_4a42ecde_6e4b_11ec_a77f_0242ac1c0002row15_col22,#T_4a42ecde_6e4b_11ec_a77f_0242ac1c0002row18_col21,#T_4a42ecde_6e4b_11ec_a77f_0242ac1c0002row22_col14,#T_4a42ecde_6e4b_11ec_a77f_0242ac1c0002row22_col15{\n",
              "            background-color:  #3d50c3;\n",
              "            color:  #f1f1f1;\n",
              "        }#T_4a42ecde_6e4b_11ec_a77f_0242ac1c0002row0_col19,#T_4a42ecde_6e4b_11ec_a77f_0242ac1c0002row5_col1,#T_4a42ecde_6e4b_11ec_a77f_0242ac1c0002row10_col17,#T_4a42ecde_6e4b_11ec_a77f_0242ac1c0002row12_col19,#T_4a42ecde_6e4b_11ec_a77f_0242ac1c0002row20_col6{\n",
              "            background-color:  #6180e9;\n",
              "            color:  #000000;\n",
              "        }#T_4a42ecde_6e4b_11ec_a77f_0242ac1c0002row0_col21,#T_4a42ecde_6e4b_11ec_a77f_0242ac1c0002row1_col21,#T_4a42ecde_6e4b_11ec_a77f_0242ac1c0002row10_col5,#T_4a42ecde_6e4b_11ec_a77f_0242ac1c0002row17_col7{\n",
              "            background-color:  #7b9ff9;\n",
              "            color:  #000000;\n",
              "        }#T_4a42ecde_6e4b_11ec_a77f_0242ac1c0002row1_col4{\n",
              "            background-color:  #97b8ff;\n",
              "            color:  #000000;\n",
              "        }#T_4a42ecde_6e4b_11ec_a77f_0242ac1c0002row1_col5,#T_4a42ecde_6e4b_11ec_a77f_0242ac1c0002row7_col4,#T_4a42ecde_6e4b_11ec_a77f_0242ac1c0002row9_col7,#T_4a42ecde_6e4b_11ec_a77f_0242ac1c0002row9_col10{\n",
              "            background-color:  #5d7ce6;\n",
              "            color:  #000000;\n",
              "        }#T_4a42ecde_6e4b_11ec_a77f_0242ac1c0002row1_col7,#T_4a42ecde_6e4b_11ec_a77f_0242ac1c0002row10_col4,#T_4a42ecde_6e4b_11ec_a77f_0242ac1c0002row21_col1{\n",
              "            background-color:  #799cf8;\n",
              "            color:  #000000;\n",
              "        }#T_4a42ecde_6e4b_11ec_a77f_0242ac1c0002row1_col9,#T_4a42ecde_6e4b_11ec_a77f_0242ac1c0002row6_col7,#T_4a42ecde_6e4b_11ec_a77f_0242ac1c0002row7_col6,#T_4a42ecde_6e4b_11ec_a77f_0242ac1c0002row8_col12,#T_4a42ecde_6e4b_11ec_a77f_0242ac1c0002row11_col2,#T_4a42ecde_6e4b_11ec_a77f_0242ac1c0002row11_col3,#T_4a42ecde_6e4b_11ec_a77f_0242ac1c0002row11_col4,#T_4a42ecde_6e4b_11ec_a77f_0242ac1c0002row11_col5,#T_4a42ecde_6e4b_11ec_a77f_0242ac1c0002row11_col12,#T_4a42ecde_6e4b_11ec_a77f_0242ac1c0002row11_col14,#T_4a42ecde_6e4b_11ec_a77f_0242ac1c0002row11_col15,#T_4a42ecde_6e4b_11ec_a77f_0242ac1c0002row11_col17,#T_4a42ecde_6e4b_11ec_a77f_0242ac1c0002row12_col8,#T_4a42ecde_6e4b_11ec_a77f_0242ac1c0002row12_col11,#T_4a42ecde_6e4b_11ec_a77f_0242ac1c0002row12_col22,#T_4a42ecde_6e4b_11ec_a77f_0242ac1c0002row16_col11,#T_4a42ecde_6e4b_11ec_a77f_0242ac1c0002row16_col19,#T_4a42ecde_6e4b_11ec_a77f_0242ac1c0002row16_col20,#T_4a42ecde_6e4b_11ec_a77f_0242ac1c0002row16_col22,#T_4a42ecde_6e4b_11ec_a77f_0242ac1c0002row18_col0,#T_4a42ecde_6e4b_11ec_a77f_0242ac1c0002row18_col1,#T_4a42ecde_6e4b_11ec_a77f_0242ac1c0002row18_col10,#T_4a42ecde_6e4b_11ec_a77f_0242ac1c0002row18_col13,#T_4a42ecde_6e4b_11ec_a77f_0242ac1c0002row19_col16,#T_4a42ecde_6e4b_11ec_a77f_0242ac1c0002row19_col21,#T_4a42ecde_6e4b_11ec_a77f_0242ac1c0002row21_col18,#T_4a42ecde_6e4b_11ec_a77f_0242ac1c0002row22_col17{\n",
              "            background-color:  #3b4cc0;\n",
              "            color:  #f1f1f1;\n",
              "        }#T_4a42ecde_6e4b_11ec_a77f_0242ac1c0002row1_col10,#T_4a42ecde_6e4b_11ec_a77f_0242ac1c0002row5_col8,#T_4a42ecde_6e4b_11ec_a77f_0242ac1c0002row6_col22,#T_4a42ecde_6e4b_11ec_a77f_0242ac1c0002row9_col12,#T_4a42ecde_6e4b_11ec_a77f_0242ac1c0002row20_col13,#T_4a42ecde_6e4b_11ec_a77f_0242ac1c0002row20_col16{\n",
              "            background-color:  #445acc;\n",
              "            color:  #f1f1f1;\n",
              "        }#T_4a42ecde_6e4b_11ec_a77f_0242ac1c0002row1_col12,#T_4a42ecde_6e4b_11ec_a77f_0242ac1c0002row5_col9,#T_4a42ecde_6e4b_11ec_a77f_0242ac1c0002row7_col11,#T_4a42ecde_6e4b_11ec_a77f_0242ac1c0002row7_col22,#T_4a42ecde_6e4b_11ec_a77f_0242ac1c0002row8_col9,#T_4a42ecde_6e4b_11ec_a77f_0242ac1c0002row11_col18,#T_4a42ecde_6e4b_11ec_a77f_0242ac1c0002row12_col0,#T_4a42ecde_6e4b_11ec_a77f_0242ac1c0002row12_col1,#T_4a42ecde_6e4b_11ec_a77f_0242ac1c0002row18_col11,#T_4a42ecde_6e4b_11ec_a77f_0242ac1c0002row19_col11,#T_4a42ecde_6e4b_11ec_a77f_0242ac1c0002row22_col1,#T_4a42ecde_6e4b_11ec_a77f_0242ac1c0002row22_col18{\n",
              "            background-color:  #4a63d3;\n",
              "            color:  #f1f1f1;\n",
              "        }#T_4a42ecde_6e4b_11ec_a77f_0242ac1c0002row1_col13,#T_4a42ecde_6e4b_11ec_a77f_0242ac1c0002row6_col1,#T_4a42ecde_6e4b_11ec_a77f_0242ac1c0002row6_col18,#T_4a42ecde_6e4b_11ec_a77f_0242ac1c0002row7_col20,#T_4a42ecde_6e4b_11ec_a77f_0242ac1c0002row8_col11,#T_4a42ecde_6e4b_11ec_a77f_0242ac1c0002row9_col20,#T_4a42ecde_6e4b_11ec_a77f_0242ac1c0002row11_col9,#T_4a42ecde_6e4b_11ec_a77f_0242ac1c0002row12_col18,#T_4a42ecde_6e4b_11ec_a77f_0242ac1c0002row13_col20,#T_4a42ecde_6e4b_11ec_a77f_0242ac1c0002row19_col8,#T_4a42ecde_6e4b_11ec_a77f_0242ac1c0002row20_col8,#T_4a42ecde_6e4b_11ec_a77f_0242ac1c0002row20_col15{\n",
              "            background-color:  #4e68d8;\n",
              "            color:  #000000;\n",
              "        }#T_4a42ecde_6e4b_11ec_a77f_0242ac1c0002row1_col14,#T_4a42ecde_6e4b_11ec_a77f_0242ac1c0002row14_col0,#T_4a42ecde_6e4b_11ec_a77f_0242ac1c0002row19_col5,#T_4a42ecde_6e4b_11ec_a77f_0242ac1c0002row19_col18{\n",
              "            background-color:  #6c8ff1;\n",
              "            color:  #000000;\n",
              "        }#T_4a42ecde_6e4b_11ec_a77f_0242ac1c0002row1_col15,#T_4a42ecde_6e4b_11ec_a77f_0242ac1c0002row5_col13,#T_4a42ecde_6e4b_11ec_a77f_0242ac1c0002row16_col13{\n",
              "            background-color:  #8badfd;\n",
              "            color:  #000000;\n",
              "        }#T_4a42ecde_6e4b_11ec_a77f_0242ac1c0002row1_col17,#T_4a42ecde_6e4b_11ec_a77f_0242ac1c0002row8_col6,#T_4a42ecde_6e4b_11ec_a77f_0242ac1c0002row19_col6,#T_4a42ecde_6e4b_11ec_a77f_0242ac1c0002row19_col7{\n",
              "            background-color:  #6384eb;\n",
              "            color:  #000000;\n",
              "        }#T_4a42ecde_6e4b_11ec_a77f_0242ac1c0002row1_col20,#T_4a42ecde_6e4b_11ec_a77f_0242ac1c0002row4_col9,#T_4a42ecde_6e4b_11ec_a77f_0242ac1c0002row9_col4,#T_4a42ecde_6e4b_11ec_a77f_0242ac1c0002row9_col14,#T_4a42ecde_6e4b_11ec_a77f_0242ac1c0002row10_col18,#T_4a42ecde_6e4b_11ec_a77f_0242ac1c0002row11_col1,#T_4a42ecde_6e4b_11ec_a77f_0242ac1c0002row13_col11,#T_4a42ecde_6e4b_11ec_a77f_0242ac1c0002row13_col22,#T_4a42ecde_6e4b_11ec_a77f_0242ac1c0002row16_col18,#T_4a42ecde_6e4b_11ec_a77f_0242ac1c0002row18_col22,#T_4a42ecde_6e4b_11ec_a77f_0242ac1c0002row19_col22,#T_4a42ecde_6e4b_11ec_a77f_0242ac1c0002row20_col0,#T_4a42ecde_6e4b_11ec_a77f_0242ac1c0002row20_col1,#T_4a42ecde_6e4b_11ec_a77f_0242ac1c0002row20_col22,#T_4a42ecde_6e4b_11ec_a77f_0242ac1c0002row21_col8,#T_4a42ecde_6e4b_11ec_a77f_0242ac1c0002row22_col16{\n",
              "            background-color:  #465ecf;\n",
              "            color:  #f1f1f1;\n",
              "        }#T_4a42ecde_6e4b_11ec_a77f_0242ac1c0002row2_col0,#T_4a42ecde_6e4b_11ec_a77f_0242ac1c0002row6_col10,#T_4a42ecde_6e4b_11ec_a77f_0242ac1c0002row15_col7,#T_4a42ecde_6e4b_11ec_a77f_0242ac1c0002row16_col10,#T_4a42ecde_6e4b_11ec_a77f_0242ac1c0002row17_col0,#T_4a42ecde_6e4b_11ec_a77f_0242ac1c0002row17_col19,#T_4a42ecde_6e4b_11ec_a77f_0242ac1c0002row19_col4{\n",
              "            background-color:  #7093f3;\n",
              "            color:  #000000;\n",
              "        }#T_4a42ecde_6e4b_11ec_a77f_0242ac1c0002row2_col3,#T_4a42ecde_6e4b_11ec_a77f_0242ac1c0002row3_col2{\n",
              "            background-color:  #ba162b;\n",
              "            color:  #f1f1f1;\n",
              "        }#T_4a42ecde_6e4b_11ec_a77f_0242ac1c0002row2_col4,#T_4a42ecde_6e4b_11ec_a77f_0242ac1c0002row4_col2{\n",
              "            background-color:  #ca3b37;\n",
              "            color:  #f1f1f1;\n",
              "        }#T_4a42ecde_6e4b_11ec_a77f_0242ac1c0002row2_col5,#T_4a42ecde_6e4b_11ec_a77f_0242ac1c0002row5_col2{\n",
              "            background-color:  #cb3e38;\n",
              "            color:  #f1f1f1;\n",
              "        }#T_4a42ecde_6e4b_11ec_a77f_0242ac1c0002row2_col6,#T_4a42ecde_6e4b_11ec_a77f_0242ac1c0002row3_col12,#T_4a42ecde_6e4b_11ec_a77f_0242ac1c0002row5_col6,#T_4a42ecde_6e4b_11ec_a77f_0242ac1c0002row5_col12{\n",
              "            background-color:  #aec9fc;\n",
              "            color:  #000000;\n",
              "        }#T_4a42ecde_6e4b_11ec_a77f_0242ac1c0002row2_col7,#T_4a42ecde_6e4b_11ec_a77f_0242ac1c0002row3_col7,#T_4a42ecde_6e4b_11ec_a77f_0242ac1c0002row17_col13{\n",
              "            background-color:  #6f92f3;\n",
              "            color:  #000000;\n",
              "        }#T_4a42ecde_6e4b_11ec_a77f_0242ac1c0002row2_col8,#T_4a42ecde_6e4b_11ec_a77f_0242ac1c0002row3_col8,#T_4a42ecde_6e4b_11ec_a77f_0242ac1c0002row8_col14,#T_4a42ecde_6e4b_11ec_a77f_0242ac1c0002row8_col17,#T_4a42ecde_6e4b_11ec_a77f_0242ac1c0002row11_col10,#T_4a42ecde_6e4b_11ec_a77f_0242ac1c0002row12_col9,#T_4a42ecde_6e4b_11ec_a77f_0242ac1c0002row15_col8,#T_4a42ecde_6e4b_11ec_a77f_0242ac1c0002row21_col19{\n",
              "            background-color:  #4055c8;\n",
              "            color:  #f1f1f1;\n",
              "        }#T_4a42ecde_6e4b_11ec_a77f_0242ac1c0002row2_col11,#T_4a42ecde_6e4b_11ec_a77f_0242ac1c0002row3_col11,#T_4a42ecde_6e4b_11ec_a77f_0242ac1c0002row4_col8,#T_4a42ecde_6e4b_11ec_a77f_0242ac1c0002row4_col11,#T_4a42ecde_6e4b_11ec_a77f_0242ac1c0002row4_col22,#T_4a42ecde_6e4b_11ec_a77f_0242ac1c0002row8_col3,#T_4a42ecde_6e4b_11ec_a77f_0242ac1c0002row9_col0,#T_4a42ecde_6e4b_11ec_a77f_0242ac1c0002row15_col11,#T_4a42ecde_6e4b_11ec_a77f_0242ac1c0002row16_col8,#T_4a42ecde_6e4b_11ec_a77f_0242ac1c0002row21_col20,#T_4a42ecde_6e4b_11ec_a77f_0242ac1c0002row22_col2,#T_4a42ecde_6e4b_11ec_a77f_0242ac1c0002row22_col3,#T_4a42ecde_6e4b_11ec_a77f_0242ac1c0002row22_col4,#T_4a42ecde_6e4b_11ec_a77f_0242ac1c0002row22_col5,#T_4a42ecde_6e4b_11ec_a77f_0242ac1c0002row22_col12{\n",
              "            background-color:  #3e51c5;\n",
              "            color:  #f1f1f1;\n",
              "        }#T_4a42ecde_6e4b_11ec_a77f_0242ac1c0002row2_col12,#T_4a42ecde_6e4b_11ec_a77f_0242ac1c0002row13_col12{\n",
              "            background-color:  #afcafc;\n",
              "            color:  #000000;\n",
              "        }#T_4a42ecde_6e4b_11ec_a77f_0242ac1c0002row2_col14,#T_4a42ecde_6e4b_11ec_a77f_0242ac1c0002row14_col2{\n",
              "            background-color:  #d95847;\n",
              "            color:  #000000;\n",
              "        }#T_4a42ecde_6e4b_11ec_a77f_0242ac1c0002row2_col15,#T_4a42ecde_6e4b_11ec_a77f_0242ac1c0002row4_col16,#T_4a42ecde_6e4b_11ec_a77f_0242ac1c0002row15_col2,#T_4a42ecde_6e4b_11ec_a77f_0242ac1c0002row16_col2,#T_4a42ecde_6e4b_11ec_a77f_0242ac1c0002row16_col5{\n",
              "            background-color:  #e36b54;\n",
              "            color:  #000000;\n",
              "        }#T_4a42ecde_6e4b_11ec_a77f_0242ac1c0002row2_col16,#T_4a42ecde_6e4b_11ec_a77f_0242ac1c0002row5_col16{\n",
              "            background-color:  #e16751;\n",
              "            color:  #000000;\n",
              "        }#T_4a42ecde_6e4b_11ec_a77f_0242ac1c0002row2_col17{\n",
              "            background-color:  #f6a283;\n",
              "            color:  #000000;\n",
              "        }#T_4a42ecde_6e4b_11ec_a77f_0242ac1c0002row2_col18,#T_4a42ecde_6e4b_11ec_a77f_0242ac1c0002row7_col2,#T_4a42ecde_6e4b_11ec_a77f_0242ac1c0002row7_col3,#T_4a42ecde_6e4b_11ec_a77f_0242ac1c0002row7_col14,#T_4a42ecde_6e4b_11ec_a77f_0242ac1c0002row7_col17,#T_4a42ecde_6e4b_11ec_a77f_0242ac1c0002row9_col19,#T_4a42ecde_6e4b_11ec_a77f_0242ac1c0002row20_col4{\n",
              "            background-color:  #5a78e4;\n",
              "            color:  #000000;\n",
              "        }#T_4a42ecde_6e4b_11ec_a77f_0242ac1c0002row2_col19,#T_4a42ecde_6e4b_11ec_a77f_0242ac1c0002row3_col19{\n",
              "            background-color:  #81a4fb;\n",
              "            color:  #000000;\n",
              "        }#T_4a42ecde_6e4b_11ec_a77f_0242ac1c0002row2_col21{\n",
              "            background-color:  #dfdbd9;\n",
              "            color:  #000000;\n",
              "        }#T_4a42ecde_6e4b_11ec_a77f_0242ac1c0002row2_col22,#T_4a42ecde_6e4b_11ec_a77f_0242ac1c0002row3_col22,#T_4a42ecde_6e4b_11ec_a77f_0242ac1c0002row5_col11,#T_4a42ecde_6e4b_11ec_a77f_0242ac1c0002row5_col22,#T_4a42ecde_6e4b_11ec_a77f_0242ac1c0002row7_col8,#T_4a42ecde_6e4b_11ec_a77f_0242ac1c0002row8_col5,#T_4a42ecde_6e4b_11ec_a77f_0242ac1c0002row8_col15,#T_4a42ecde_6e4b_11ec_a77f_0242ac1c0002row22_col13{\n",
              "            background-color:  #3f53c6;\n",
              "            color:  #f1f1f1;\n",
              "        }#T_4a42ecde_6e4b_11ec_a77f_0242ac1c0002row3_col0,#T_4a42ecde_6e4b_11ec_a77f_0242ac1c0002row3_col1,#T_4a42ecde_6e4b_11ec_a77f_0242ac1c0002row6_col17,#T_4a42ecde_6e4b_11ec_a77f_0242ac1c0002row12_col21,#T_4a42ecde_6e4b_11ec_a77f_0242ac1c0002row18_col19,#T_4a42ecde_6e4b_11ec_a77f_0242ac1c0002row19_col2,#T_4a42ecde_6e4b_11ec_a77f_0242ac1c0002row19_col3,#T_4a42ecde_6e4b_11ec_a77f_0242ac1c0002row21_col13{\n",
              "            background-color:  #7597f6;\n",
              "            color:  #000000;\n",
              "        }#T_4a42ecde_6e4b_11ec_a77f_0242ac1c0002row3_col4,#T_4a42ecde_6e4b_11ec_a77f_0242ac1c0002row3_col5,#T_4a42ecde_6e4b_11ec_a77f_0242ac1c0002row4_col3,#T_4a42ecde_6e4b_11ec_a77f_0242ac1c0002row5_col3{\n",
              "            background-color:  #c32e31;\n",
              "            color:  #f1f1f1;\n",
              "        }#T_4a42ecde_6e4b_11ec_a77f_0242ac1c0002row3_col6,#T_4a42ecde_6e4b_11ec_a77f_0242ac1c0002row12_col2{\n",
              "            background-color:  #adc9fd;\n",
              "            color:  #000000;\n",
              "        }#T_4a42ecde_6e4b_11ec_a77f_0242ac1c0002row3_col10,#T_4a42ecde_6e4b_11ec_a77f_0242ac1c0002row5_col10,#T_4a42ecde_6e4b_11ec_a77f_0242ac1c0002row10_col15{\n",
              "            background-color:  #7699f6;\n",
              "            color:  #000000;\n",
              "        }#T_4a42ecde_6e4b_11ec_a77f_0242ac1c0002row3_col13{\n",
              "            background-color:  #92b4fe;\n",
              "            color:  #000000;\n",
              "        }#T_4a42ecde_6e4b_11ec_a77f_0242ac1c0002row3_col14,#T_4a42ecde_6e4b_11ec_a77f_0242ac1c0002row14_col3{\n",
              "            background-color:  #d55042;\n",
              "            color:  #000000;\n",
              "        }#T_4a42ecde_6e4b_11ec_a77f_0242ac1c0002row3_col15,#T_4a42ecde_6e4b_11ec_a77f_0242ac1c0002row15_col3,#T_4a42ecde_6e4b_11ec_a77f_0242ac1c0002row16_col3{\n",
              "            background-color:  #de614d;\n",
              "            color:  #000000;\n",
              "        }#T_4a42ecde_6e4b_11ec_a77f_0242ac1c0002row3_col16{\n",
              "            background-color:  #dd5f4b;\n",
              "            color:  #000000;\n",
              "        }#T_4a42ecde_6e4b_11ec_a77f_0242ac1c0002row3_col17,#T_4a42ecde_6e4b_11ec_a77f_0242ac1c0002row17_col4{\n",
              "            background-color:  #f59f80;\n",
              "            color:  #000000;\n",
              "        }#T_4a42ecde_6e4b_11ec_a77f_0242ac1c0002row3_col18,#T_4a42ecde_6e4b_11ec_a77f_0242ac1c0002row6_col19,#T_4a42ecde_6e4b_11ec_a77f_0242ac1c0002row7_col15,#T_4a42ecde_6e4b_11ec_a77f_0242ac1c0002row7_col19,#T_4a42ecde_6e4b_11ec_a77f_0242ac1c0002row11_col7,#T_4a42ecde_6e4b_11ec_a77f_0242ac1c0002row13_col19,#T_4a42ecde_6e4b_11ec_a77f_0242ac1c0002row15_col19{\n",
              "            background-color:  #5b7ae5;\n",
              "            color:  #000000;\n",
              "        }#T_4a42ecde_6e4b_11ec_a77f_0242ac1c0002row3_col21{\n",
              "            background-color:  #e0dbd8;\n",
              "            color:  #000000;\n",
              "        }#T_4a42ecde_6e4b_11ec_a77f_0242ac1c0002row4_col0,#T_4a42ecde_6e4b_11ec_a77f_0242ac1c0002row6_col15,#T_4a42ecde_6e4b_11ec_a77f_0242ac1c0002row13_col4{\n",
              "            background-color:  #96b7ff;\n",
              "            color:  #000000;\n",
              "        }#T_4a42ecde_6e4b_11ec_a77f_0242ac1c0002row4_col1,#T_4a42ecde_6e4b_11ec_a77f_0242ac1c0002row6_col14,#T_4a42ecde_6e4b_11ec_a77f_0242ac1c0002row13_col2{\n",
              "            background-color:  #9abbff;\n",
              "            color:  #000000;\n",
              "        }#T_4a42ecde_6e4b_11ec_a77f_0242ac1c0002row4_col5,#T_4a42ecde_6e4b_11ec_a77f_0242ac1c0002row5_col4{\n",
              "            background-color:  #d44e41;\n",
              "            color:  #000000;\n",
              "        }#T_4a42ecde_6e4b_11ec_a77f_0242ac1c0002row4_col6{\n",
              "            background-color:  #a9c6fd;\n",
              "            color:  #000000;\n",
              "        }#T_4a42ecde_6e4b_11ec_a77f_0242ac1c0002row4_col12,#T_4a42ecde_6e4b_11ec_a77f_0242ac1c0002row10_col12,#T_4a42ecde_6e4b_11ec_a77f_0242ac1c0002row12_col13,#T_4a42ecde_6e4b_11ec_a77f_0242ac1c0002row14_col12,#T_4a42ecde_6e4b_11ec_a77f_0242ac1c0002row15_col6{\n",
              "            background-color:  #a7c5fe;\n",
              "            color:  #000000;\n",
              "        }#T_4a42ecde_6e4b_11ec_a77f_0242ac1c0002row4_col13,#T_4a42ecde_6e4b_11ec_a77f_0242ac1c0002row13_col5,#T_4a42ecde_6e4b_11ec_a77f_0242ac1c0002row13_col14{\n",
              "            background-color:  #90b2fe;\n",
              "            color:  #000000;\n",
              "        }#T_4a42ecde_6e4b_11ec_a77f_0242ac1c0002row4_col14,#T_4a42ecde_6e4b_11ec_a77f_0242ac1c0002row14_col4{\n",
              "            background-color:  #dc5d4a;\n",
              "            color:  #000000;\n",
              "        }#T_4a42ecde_6e4b_11ec_a77f_0242ac1c0002row4_col15{\n",
              "            background-color:  #d1493f;\n",
              "            color:  #f1f1f1;\n",
              "        }#T_4a42ecde_6e4b_11ec_a77f_0242ac1c0002row4_col17{\n",
              "            background-color:  #f6a385;\n",
              "            color:  #000000;\n",
              "        }#T_4a42ecde_6e4b_11ec_a77f_0242ac1c0002row4_col18,#T_4a42ecde_6e4b_11ec_a77f_0242ac1c0002row7_col5,#T_4a42ecde_6e4b_11ec_a77f_0242ac1c0002row8_col13,#T_4a42ecde_6e4b_11ec_a77f_0242ac1c0002row8_col18,#T_4a42ecde_6e4b_11ec_a77f_0242ac1c0002row9_col18,#T_4a42ecde_6e4b_11ec_a77f_0242ac1c0002row13_col0,#T_4a42ecde_6e4b_11ec_a77f_0242ac1c0002row18_col2,#T_4a42ecde_6e4b_11ec_a77f_0242ac1c0002row19_col0,#T_4a42ecde_6e4b_11ec_a77f_0242ac1c0002row19_col1{\n",
              "            background-color:  #5572df;\n",
              "            color:  #000000;\n",
              "        }#T_4a42ecde_6e4b_11ec_a77f_0242ac1c0002row4_col19{\n",
              "            background-color:  #7da0f9;\n",
              "            color:  #000000;\n",
              "        }#T_4a42ecde_6e4b_11ec_a77f_0242ac1c0002row4_col21,#T_4a42ecde_6e4b_11ec_a77f_0242ac1c0002row21_col3{\n",
              "            background-color:  #dddcdc;\n",
              "            color:  #000000;\n",
              "        }#T_4a42ecde_6e4b_11ec_a77f_0242ac1c0002row5_col14,#T_4a42ecde_6e4b_11ec_a77f_0242ac1c0002row14_col5{\n",
              "            background-color:  #e0654f;\n",
              "            color:  #000000;\n",
              "        }#T_4a42ecde_6e4b_11ec_a77f_0242ac1c0002row5_col15,#T_4a42ecde_6e4b_11ec_a77f_0242ac1c0002row15_col5{\n",
              "            background-color:  #e9785d;\n",
              "            color:  #000000;\n",
              "        }#T_4a42ecde_6e4b_11ec_a77f_0242ac1c0002row5_col17{\n",
              "            background-color:  #f6bfa6;\n",
              "            color:  #000000;\n",
              "        }#T_4a42ecde_6e4b_11ec_a77f_0242ac1c0002row5_col19,#T_4a42ecde_6e4b_11ec_a77f_0242ac1c0002row6_col21,#T_4a42ecde_6e4b_11ec_a77f_0242ac1c0002row10_col14{\n",
              "            background-color:  #7a9df8;\n",
              "            color:  #000000;\n",
              "        }#T_4a42ecde_6e4b_11ec_a77f_0242ac1c0002row5_col21{\n",
              "            background-color:  #cfdaea;\n",
              "            color:  #000000;\n",
              "        }#T_4a42ecde_6e4b_11ec_a77f_0242ac1c0002row6_col2,#T_4a42ecde_6e4b_11ec_a77f_0242ac1c0002row12_col10{\n",
              "            background-color:  #9ebeff;\n",
              "            color:  #000000;\n",
              "        }#T_4a42ecde_6e4b_11ec_a77f_0242ac1c0002row6_col3,#T_4a42ecde_6e4b_11ec_a77f_0242ac1c0002row6_col5,#T_4a42ecde_6e4b_11ec_a77f_0242ac1c0002row13_col16{\n",
              "            background-color:  #9dbdff;\n",
              "            color:  #000000;\n",
              "        }#T_4a42ecde_6e4b_11ec_a77f_0242ac1c0002row6_col4,#T_4a42ecde_6e4b_11ec_a77f_0242ac1c0002row13_col3,#T_4a42ecde_6e4b_11ec_a77f_0242ac1c0002row17_col12{\n",
              "            background-color:  #98b9ff;\n",
              "            color:  #000000;\n",
              "        }#T_4a42ecde_6e4b_11ec_a77f_0242ac1c0002row6_col8,#T_4a42ecde_6e4b_11ec_a77f_0242ac1c0002row14_col18,#T_4a42ecde_6e4b_11ec_a77f_0242ac1c0002row15_col20,#T_4a42ecde_6e4b_11ec_a77f_0242ac1c0002row17_col8,#T_4a42ecde_6e4b_11ec_a77f_0242ac1c0002row18_col4,#T_4a42ecde_6e4b_11ec_a77f_0242ac1c0002row18_col9,#T_4a42ecde_6e4b_11ec_a77f_0242ac1c0002row21_col9{\n",
              "            background-color:  #506bda;\n",
              "            color:  #000000;\n",
              "        }#T_4a42ecde_6e4b_11ec_a77f_0242ac1c0002row6_col9,#T_4a42ecde_6e4b_11ec_a77f_0242ac1c0002row7_col21,#T_4a42ecde_6e4b_11ec_a77f_0242ac1c0002row12_col20,#T_4a42ecde_6e4b_11ec_a77f_0242ac1c0002row19_col14,#T_4a42ecde_6e4b_11ec_a77f_0242ac1c0002row20_col12,#T_4a42ecde_6e4b_11ec_a77f_0242ac1c0002row20_col14{\n",
              "            background-color:  #516ddb;\n",
              "            color:  #000000;\n",
              "        }#T_4a42ecde_6e4b_11ec_a77f_0242ac1c0002row6_col12,#T_4a42ecde_6e4b_11ec_a77f_0242ac1c0002row12_col7,#T_4a42ecde_6e4b_11ec_a77f_0242ac1c0002row13_col7,#T_4a42ecde_6e4b_11ec_a77f_0242ac1c0002row16_col12{\n",
              "            background-color:  #a3c2fe;\n",
              "            color:  #000000;\n",
              "        }#T_4a42ecde_6e4b_11ec_a77f_0242ac1c0002row6_col13,#T_4a42ecde_6e4b_11ec_a77f_0242ac1c0002row13_col15,#T_4a42ecde_6e4b_11ec_a77f_0242ac1c0002row15_col1{\n",
              "            background-color:  #8db0fe;\n",
              "            color:  #000000;\n",
              "        }#T_4a42ecde_6e4b_11ec_a77f_0242ac1c0002row6_col16,#T_4a42ecde_6e4b_11ec_a77f_0242ac1c0002row12_col4,#T_4a42ecde_6e4b_11ec_a77f_0242ac1c0002row13_col6{\n",
              "            background-color:  #a5c3fe;\n",
              "            color:  #000000;\n",
              "        }#T_4a42ecde_6e4b_11ec_a77f_0242ac1c0002row6_col20,#T_4a42ecde_6e4b_11ec_a77f_0242ac1c0002row8_col20,#T_4a42ecde_6e4b_11ec_a77f_0242ac1c0002row9_col16,#T_4a42ecde_6e4b_11ec_a77f_0242ac1c0002row10_col0,#T_4a42ecde_6e4b_11ec_a77f_0242ac1c0002row10_col1,#T_4a42ecde_6e4b_11ec_a77f_0242ac1c0002row17_col9,#T_4a42ecde_6e4b_11ec_a77f_0242ac1c0002row18_col16,#T_4a42ecde_6e4b_11ec_a77f_0242ac1c0002row19_col15{\n",
              "            background-color:  #4f69d9;\n",
              "            color:  #000000;\n",
              "        }#T_4a42ecde_6e4b_11ec_a77f_0242ac1c0002row7_col0,#T_4a42ecde_6e4b_11ec_a77f_0242ac1c0002row17_col10{\n",
              "            background-color:  #6687ed;\n",
              "            color:  #000000;\n",
              "        }#T_4a42ecde_6e4b_11ec_a77f_0242ac1c0002row7_col1,#T_4a42ecde_6e4b_11ec_a77f_0242ac1c0002row9_col6,#T_4a42ecde_6e4b_11ec_a77f_0242ac1c0002row10_col21,#T_4a42ecde_6e4b_11ec_a77f_0242ac1c0002row16_col0,#T_4a42ecde_6e4b_11ec_a77f_0242ac1c0002row16_col7{\n",
              "            background-color:  #6788ee;\n",
              "            color:  #000000;\n",
              "        }#T_4a42ecde_6e4b_11ec_a77f_0242ac1c0002row7_col10{\n",
              "            background-color:  #9fbfff;\n",
              "            color:  #000000;\n",
              "        }#T_4a42ecde_6e4b_11ec_a77f_0242ac1c0002row7_col13,#T_4a42ecde_6e4b_11ec_a77f_0242ac1c0002row10_col6{\n",
              "            background-color:  #8caffe;\n",
              "            color:  #000000;\n",
              "        }#T_4a42ecde_6e4b_11ec_a77f_0242ac1c0002row7_col18,#T_4a42ecde_6e4b_11ec_a77f_0242ac1c0002row8_col1,#T_4a42ecde_6e4b_11ec_a77f_0242ac1c0002row8_col16,#T_4a42ecde_6e4b_11ec_a77f_0242ac1c0002row8_col22,#T_4a42ecde_6e4b_11ec_a77f_0242ac1c0002row9_col5,#T_4a42ecde_6e4b_11ec_a77f_0242ac1c0002row11_col20,#T_4a42ecde_6e4b_11ec_a77f_0242ac1c0002row17_col22,#T_4a42ecde_6e4b_11ec_a77f_0242ac1c0002row19_col13,#T_4a42ecde_6e4b_11ec_a77f_0242ac1c0002row20_col11,#T_4a42ecde_6e4b_11ec_a77f_0242ac1c0002row22_col0,#T_4a42ecde_6e4b_11ec_a77f_0242ac1c0002row22_col20,#T_4a42ecde_6e4b_11ec_a77f_0242ac1c0002row22_col21{\n",
              "            background-color:  #4961d2;\n",
              "            color:  #f1f1f1;\n",
              "        }#T_4a42ecde_6e4b_11ec_a77f_0242ac1c0002row8_col7,#T_4a42ecde_6e4b_11ec_a77f_0242ac1c0002row9_col11,#T_4a42ecde_6e4b_11ec_a77f_0242ac1c0002row11_col19,#T_4a42ecde_6e4b_11ec_a77f_0242ac1c0002row18_col8,#T_4a42ecde_6e4b_11ec_a77f_0242ac1c0002row18_col17,#T_4a42ecde_6e4b_11ec_a77f_0242ac1c0002row22_col19{\n",
              "            background-color:  #536edd;\n",
              "            color:  #000000;\n",
              "        }#T_4a42ecde_6e4b_11ec_a77f_0242ac1c0002row8_col10,#T_4a42ecde_6e4b_11ec_a77f_0242ac1c0002row9_col15,#T_4a42ecde_6e4b_11ec_a77f_0242ac1c0002row9_col17,#T_4a42ecde_6e4b_11ec_a77f_0242ac1c0002row11_col16,#T_4a42ecde_6e4b_11ec_a77f_0242ac1c0002row14_col8,#T_4a42ecde_6e4b_11ec_a77f_0242ac1c0002row22_col10{\n",
              "            background-color:  #4358cb;\n",
              "            color:  #f1f1f1;\n",
              "        }#T_4a42ecde_6e4b_11ec_a77f_0242ac1c0002row8_col19,#T_4a42ecde_6e4b_11ec_a77f_0242ac1c0002row9_col21,#T_4a42ecde_6e4b_11ec_a77f_0242ac1c0002row13_col1,#T_4a42ecde_6e4b_11ec_a77f_0242ac1c0002row17_col20,#T_4a42ecde_6e4b_11ec_a77f_0242ac1c0002row18_col5,#T_4a42ecde_6e4b_11ec_a77f_0242ac1c0002row19_col12,#T_4a42ecde_6e4b_11ec_a77f_0242ac1c0002row19_col17,#T_4a42ecde_6e4b_11ec_a77f_0242ac1c0002row21_col10{\n",
              "            background-color:  #5875e1;\n",
              "            color:  #000000;\n",
              "        }#T_4a42ecde_6e4b_11ec_a77f_0242ac1c0002row9_col13,#T_4a42ecde_6e4b_11ec_a77f_0242ac1c0002row10_col9,#T_4a42ecde_6e4b_11ec_a77f_0242ac1c0002row17_col18{\n",
              "            background-color:  #6485ec;\n",
              "            color:  #000000;\n",
              "        }#T_4a42ecde_6e4b_11ec_a77f_0242ac1c0002row10_col2,#T_4a42ecde_6e4b_11ec_a77f_0242ac1c0002row10_col3{\n",
              "            background-color:  #7ea1fa;\n",
              "            color:  #000000;\n",
              "        }#T_4a42ecde_6e4b_11ec_a77f_0242ac1c0002row10_col7{\n",
              "            background-color:  #b6cefa;\n",
              "            color:  #000000;\n",
              "        }#T_4a42ecde_6e4b_11ec_a77f_0242ac1c0002row10_col13,#T_4a42ecde_6e4b_11ec_a77f_0242ac1c0002row13_col10{\n",
              "            background-color:  #f7af91;\n",
              "            color:  #000000;\n",
              "        }#T_4a42ecde_6e4b_11ec_a77f_0242ac1c0002row10_col16{\n",
              "            background-color:  #85a8fc;\n",
              "            color:  #000000;\n",
              "        }#T_4a42ecde_6e4b_11ec_a77f_0242ac1c0002row10_col19,#T_4a42ecde_6e4b_11ec_a77f_0242ac1c0002row11_col6,#T_4a42ecde_6e4b_11ec_a77f_0242ac1c0002row18_col7,#T_4a42ecde_6e4b_11ec_a77f_0242ac1c0002row22_col6{\n",
              "            background-color:  #5977e3;\n",
              "            color:  #000000;\n",
              "        }#T_4a42ecde_6e4b_11ec_a77f_0242ac1c0002row11_col22,#T_4a42ecde_6e4b_11ec_a77f_0242ac1c0002row22_col11{\n",
              "            background-color:  #e36c55;\n",
              "            color:  #000000;\n",
              "        }#T_4a42ecde_6e4b_11ec_a77f_0242ac1c0002row12_col3,#T_4a42ecde_6e4b_11ec_a77f_0242ac1c0002row12_col5,#T_4a42ecde_6e4b_11ec_a77f_0242ac1c0002row12_col16{\n",
              "            background-color:  #abc8fd;\n",
              "            color:  #000000;\n",
              "        }#T_4a42ecde_6e4b_11ec_a77f_0242ac1c0002row12_col6{\n",
              "            background-color:  #b2ccfb;\n",
              "            color:  #000000;\n",
              "        }#T_4a42ecde_6e4b_11ec_a77f_0242ac1c0002row12_col14{\n",
              "            background-color:  #a6c4fe;\n",
              "            color:  #000000;\n",
              "        }#T_4a42ecde_6e4b_11ec_a77f_0242ac1c0002row12_col15{\n",
              "            background-color:  #a1c0ff;\n",
              "            color:  #000000;\n",
              "        }#T_4a42ecde_6e4b_11ec_a77f_0242ac1c0002row12_col17,#T_4a42ecde_6e4b_11ec_a77f_0242ac1c0002row14_col13,#T_4a42ecde_6e4b_11ec_a77f_0242ac1c0002row15_col0,#T_4a42ecde_6e4b_11ec_a77f_0242ac1c0002row21_col17{\n",
              "            background-color:  #89acfd;\n",
              "            color:  #000000;\n",
              "        }#T_4a42ecde_6e4b_11ec_a77f_0242ac1c0002row13_col17,#T_4a42ecde_6e4b_11ec_a77f_0242ac1c0002row16_col1,#T_4a42ecde_6e4b_11ec_a77f_0242ac1c0002row18_col20{\n",
              "            background-color:  #688aef;\n",
              "            color:  #000000;\n",
              "        }#T_4a42ecde_6e4b_11ec_a77f_0242ac1c0002row13_col21{\n",
              "            background-color:  #82a6fb;\n",
              "            color:  #000000;\n",
              "        }#T_4a42ecde_6e4b_11ec_a77f_0242ac1c0002row14_col6,#T_4a42ecde_6e4b_11ec_a77f_0242ac1c0002row16_col6{\n",
              "            background-color:  #aac7fd;\n",
              "            color:  #000000;\n",
              "        }#T_4a42ecde_6e4b_11ec_a77f_0242ac1c0002row14_col15,#T_4a42ecde_6e4b_11ec_a77f_0242ac1c0002row15_col14{\n",
              "            background-color:  #be242e;\n",
              "            color:  #f1f1f1;\n",
              "        }#T_4a42ecde_6e4b_11ec_a77f_0242ac1c0002row14_col16,#T_4a42ecde_6e4b_11ec_a77f_0242ac1c0002row16_col14{\n",
              "            background-color:  #bd1f2d;\n",
              "            color:  #f1f1f1;\n",
              "        }#T_4a42ecde_6e4b_11ec_a77f_0242ac1c0002row14_col17{\n",
              "            background-color:  #e97a5f;\n",
              "            color:  #000000;\n",
              "        }#T_4a42ecde_6e4b_11ec_a77f_0242ac1c0002row14_col20{\n",
              "            background-color:  #5470de;\n",
              "            color:  #000000;\n",
              "        }#T_4a42ecde_6e4b_11ec_a77f_0242ac1c0002row14_col21{\n",
              "            background-color:  #e7d7ce;\n",
              "            color:  #000000;\n",
              "        }#T_4a42ecde_6e4b_11ec_a77f_0242ac1c0002row15_col4{\n",
              "            background-color:  #d24b40;\n",
              "            color:  #f1f1f1;\n",
              "        }#T_4a42ecde_6e4b_11ec_a77f_0242ac1c0002row15_col9,#T_4a42ecde_6e4b_11ec_a77f_0242ac1c0002row16_col9,#T_4a42ecde_6e4b_11ec_a77f_0242ac1c0002row20_col10,#T_4a42ecde_6e4b_11ec_a77f_0242ac1c0002row20_col21,#T_4a42ecde_6e4b_11ec_a77f_0242ac1c0002row21_col11,#T_4a42ecde_6e4b_11ec_a77f_0242ac1c0002row21_col22{\n",
              "            background-color:  #4257c9;\n",
              "            color:  #f1f1f1;\n",
              "        }#T_4a42ecde_6e4b_11ec_a77f_0242ac1c0002row15_col12{\n",
              "            background-color:  #a2c1ff;\n",
              "            color:  #000000;\n",
              "        }#T_4a42ecde_6e4b_11ec_a77f_0242ac1c0002row15_col16,#T_4a42ecde_6e4b_11ec_a77f_0242ac1c0002row16_col15{\n",
              "            background-color:  #c83836;\n",
              "            color:  #f1f1f1;\n",
              "        }#T_4a42ecde_6e4b_11ec_a77f_0242ac1c0002row15_col17{\n",
              "            background-color:  #ec8165;\n",
              "            color:  #000000;\n",
              "        }#T_4a42ecde_6e4b_11ec_a77f_0242ac1c0002row15_col21,#T_4a42ecde_6e4b_11ec_a77f_0242ac1c0002row21_col14{\n",
              "            background-color:  #e5d8d1;\n",
              "            color:  #000000;\n",
              "        }#T_4a42ecde_6e4b_11ec_a77f_0242ac1c0002row16_col4{\n",
              "            background-color:  #e46e56;\n",
              "            color:  #000000;\n",
              "        }#T_4a42ecde_6e4b_11ec_a77f_0242ac1c0002row16_col17{\n",
              "            background-color:  #f7b396;\n",
              "            color:  #000000;\n",
              "        }#T_4a42ecde_6e4b_11ec_a77f_0242ac1c0002row16_col21{\n",
              "            background-color:  #f1ccb8;\n",
              "            color:  #000000;\n",
              "        }#T_4a42ecde_6e4b_11ec_a77f_0242ac1c0002row17_col1{\n",
              "            background-color:  #7396f5;\n",
              "            color:  #000000;\n",
              "        }#T_4a42ecde_6e4b_11ec_a77f_0242ac1c0002row17_col2{\n",
              "            background-color:  #f59d7e;\n",
              "            color:  #000000;\n",
              "        }#T_4a42ecde_6e4b_11ec_a77f_0242ac1c0002row17_col3{\n",
              "            background-color:  #f49a7b;\n",
              "            color:  #000000;\n",
              "        }#T_4a42ecde_6e4b_11ec_a77f_0242ac1c0002row17_col5{\n",
              "            background-color:  #f7bca1;\n",
              "            color:  #000000;\n",
              "        }#T_4a42ecde_6e4b_11ec_a77f_0242ac1c0002row17_col14{\n",
              "            background-color:  #e8765c;\n",
              "            color:  #000000;\n",
              "        }#T_4a42ecde_6e4b_11ec_a77f_0242ac1c0002row17_col15,#T_4a42ecde_6e4b_11ec_a77f_0242ac1c0002row20_col19{\n",
              "            background-color:  #eb7d62;\n",
              "            color:  #000000;\n",
              "        }#T_4a42ecde_6e4b_11ec_a77f_0242ac1c0002row17_col16{\n",
              "            background-color:  #f7a98b;\n",
              "            color:  #000000;\n",
              "        }#T_4a42ecde_6e4b_11ec_a77f_0242ac1c0002row17_col21{\n",
              "            background-color:  #9bbcff;\n",
              "            color:  #000000;\n",
              "        }#T_4a42ecde_6e4b_11ec_a77f_0242ac1c0002row18_col3{\n",
              "            background-color:  #5673e0;\n",
              "            color:  #000000;\n",
              "        }#T_4a42ecde_6e4b_11ec_a77f_0242ac1c0002row19_col20{\n",
              "            background-color:  #ec7f63;\n",
              "            color:  #000000;\n",
              "        }#T_4a42ecde_6e4b_11ec_a77f_0242ac1c0002row20_col18{\n",
              "            background-color:  #6a8bef;\n",
              "            color:  #000000;\n",
              "        }#T_4a42ecde_6e4b_11ec_a77f_0242ac1c0002row21_col2{\n",
              "            background-color:  #dcdddd;\n",
              "            color:  #000000;\n",
              "        }#T_4a42ecde_6e4b_11ec_a77f_0242ac1c0002row21_col4{\n",
              "            background-color:  #dadce0;\n",
              "            color:  #000000;\n",
              "        }#T_4a42ecde_6e4b_11ec_a77f_0242ac1c0002row21_col5{\n",
              "            background-color:  #cbd8ee;\n",
              "            color:  #000000;\n",
              "        }#T_4a42ecde_6e4b_11ec_a77f_0242ac1c0002row21_col15{\n",
              "            background-color:  #e2dad5;\n",
              "            color:  #000000;\n",
              "        }#T_4a42ecde_6e4b_11ec_a77f_0242ac1c0002row21_col16{\n",
              "            background-color:  #f2cab5;\n",
              "            color:  #000000;\n",
              "        }</style><table id=\"T_4a42ecde_6e4b_11ec_a77f_0242ac1c0002\" class=\"dataframe\"><thead>    <tr>        <th class=\"blank level0\" ></th>        <th class=\"col_heading level0 col0\" >id</th>        <th class=\"col_heading level0 col1\" >member_id</th>        <th class=\"col_heading level0 col2\" >loan_amnt</th>        <th class=\"col_heading level0 col3\" >funded_amnt</th>        <th class=\"col_heading level0 col4\" >funded_amnt_inv</th>        <th class=\"col_heading level0 col5\" >installment</th>        <th class=\"col_heading level0 col6\" >annual_inc</th>        <th class=\"col_heading level0 col7\" >dti</th>        <th class=\"col_heading level0 col8\" >delinq_2yrs</th>        <th class=\"col_heading level0 col9\" >inq_last_6mths</th>        <th class=\"col_heading level0 col10\" >open_acc</th>        <th class=\"col_heading level0 col11\" >pub_rec</th>        <th class=\"col_heading level0 col12\" >revol_bal</th>        <th class=\"col_heading level0 col13\" >total_acc</th>        <th class=\"col_heading level0 col14\" >total_pymnt</th>        <th class=\"col_heading level0 col15\" >total_pymnt_inv</th>        <th class=\"col_heading level0 col16\" >total_rec_prncp</th>        <th class=\"col_heading level0 col17\" >total_rec_int</th>        <th class=\"col_heading level0 col18\" >total_rec_late_fee</th>        <th class=\"col_heading level0 col19\" >recoveries</th>        <th class=\"col_heading level0 col20\" >collection_recovery_fee</th>        <th class=\"col_heading level0 col21\" >last_pymnt_amnt</th>        <th class=\"col_heading level0 col22\" >pub_rec_bankruptcies</th>    </tr></thead><tbody>\n",
              "                <tr>\n",
              "                        <th id=\"T_4a42ecde_6e4b_11ec_a77f_0242ac1c0002level0_row0\" class=\"row_heading level0 row0\" >id</th>\n",
              "                        <td id=\"T_4a42ecde_6e4b_11ec_a77f_0242ac1c0002row0_col0\" class=\"data row0 col0\" >1.000000</td>\n",
              "                        <td id=\"T_4a42ecde_6e4b_11ec_a77f_0242ac1c0002row0_col1\" class=\"data row0 col1\" >0.993488</td>\n",
              "                        <td id=\"T_4a42ecde_6e4b_11ec_a77f_0242ac1c0002row0_col2\" class=\"data row0 col2\" >0.124616</td>\n",
              "                        <td id=\"T_4a42ecde_6e4b_11ec_a77f_0242ac1c0002row0_col3\" class=\"data row0 col3\" >0.135264</td>\n",
              "                        <td id=\"T_4a42ecde_6e4b_11ec_a77f_0242ac1c0002row0_col4\" class=\"data row0 col4\" >0.236421</td>\n",
              "                        <td id=\"T_4a42ecde_6e4b_11ec_a77f_0242ac1c0002row0_col5\" class=\"data row0 col5\" >0.079226</td>\n",
              "                        <td id=\"T_4a42ecde_6e4b_11ec_a77f_0242ac1c0002row0_col6\" class=\"data row0 col6\" >0.008719</td>\n",
              "                        <td id=\"T_4a42ecde_6e4b_11ec_a77f_0242ac1c0002row0_col7\" class=\"data row0 col7\" >0.090554</td>\n",
              "                        <td id=\"T_4a42ecde_6e4b_11ec_a77f_0242ac1c0002row0_col8\" class=\"data row0 col8\" >-0.008037</td>\n",
              "                        <td id=\"T_4a42ecde_6e4b_11ec_a77f_0242ac1c0002row0_col9\" class=\"data row0 col9\" >-0.040447</td>\n",
              "                        <td id=\"T_4a42ecde_6e4b_11ec_a77f_0242ac1c0002row0_col10\" class=\"data row0 col10\" >0.017145</td>\n",
              "                        <td id=\"T_4a42ecde_6e4b_11ec_a77f_0242ac1c0002row0_col11\" class=\"data row0 col11\" >-0.014876</td>\n",
              "                        <td id=\"T_4a42ecde_6e4b_11ec_a77f_0242ac1c0002row0_col12\" class=\"data row0 col12\" >0.000870</td>\n",
              "                        <td id=\"T_4a42ecde_6e4b_11ec_a77f_0242ac1c0002row0_col13\" class=\"data row0 col13\" >0.039900</td>\n",
              "                        <td id=\"T_4a42ecde_6e4b_11ec_a77f_0242ac1c0002row0_col14\" class=\"data row0 col14\" >0.114149</td>\n",
              "                        <td id=\"T_4a42ecde_6e4b_11ec_a77f_0242ac1c0002row0_col15\" class=\"data row0 col15\" >0.199242</td>\n",
              "                        <td id=\"T_4a42ecde_6e4b_11ec_a77f_0242ac1c0002row0_col16\" class=\"data row0 col16\" >0.096314</td>\n",
              "                        <td id=\"T_4a42ecde_6e4b_11ec_a77f_0242ac1c0002row0_col17\" class=\"data row0 col17\" >0.126703</td>\n",
              "                        <td id=\"T_4a42ecde_6e4b_11ec_a77f_0242ac1c0002row0_col18\" class=\"data row0 col18\" >-0.054524</td>\n",
              "                        <td id=\"T_4a42ecde_6e4b_11ec_a77f_0242ac1c0002row0_col19\" class=\"data row0 col19\" >0.039631</td>\n",
              "                        <td id=\"T_4a42ecde_6e4b_11ec_a77f_0242ac1c0002row0_col20\" class=\"data row0 col20\" >-0.010333</td>\n",
              "                        <td id=\"T_4a42ecde_6e4b_11ec_a77f_0242ac1c0002row0_col21\" class=\"data row0 col21\" >0.144824</td>\n",
              "                        <td id=\"T_4a42ecde_6e4b_11ec_a77f_0242ac1c0002row0_col22\" class=\"data row0 col22\" >-0.001719</td>\n",
              "            </tr>\n",
              "            <tr>\n",
              "                        <th id=\"T_4a42ecde_6e4b_11ec_a77f_0242ac1c0002level0_row1\" class=\"row_heading level0 row1\" >member_id</th>\n",
              "                        <td id=\"T_4a42ecde_6e4b_11ec_a77f_0242ac1c0002row1_col0\" class=\"data row1 col0\" >0.993488</td>\n",
              "                        <td id=\"T_4a42ecde_6e4b_11ec_a77f_0242ac1c0002row1_col1\" class=\"data row1 col1\" >1.000000</td>\n",
              "                        <td id=\"T_4a42ecde_6e4b_11ec_a77f_0242ac1c0002row1_col2\" class=\"data row1 col2\" >0.124715</td>\n",
              "                        <td id=\"T_4a42ecde_6e4b_11ec_a77f_0242ac1c0002row1_col3\" class=\"data row1 col3\" >0.134604</td>\n",
              "                        <td id=\"T_4a42ecde_6e4b_11ec_a77f_0242ac1c0002row1_col4\" class=\"data row1 col4\" >0.246514</td>\n",
              "                        <td id=\"T_4a42ecde_6e4b_11ec_a77f_0242ac1c0002row1_col5\" class=\"data row1 col5\" >0.074346</td>\n",
              "                        <td id=\"T_4a42ecde_6e4b_11ec_a77f_0242ac1c0002row1_col6\" class=\"data row1 col6\" >0.009832</td>\n",
              "                        <td id=\"T_4a42ecde_6e4b_11ec_a77f_0242ac1c0002row1_col7\" class=\"data row1 col7\" >0.091892</td>\n",
              "                        <td id=\"T_4a42ecde_6e4b_11ec_a77f_0242ac1c0002row1_col8\" class=\"data row1 col8\" >-0.007440</td>\n",
              "                        <td id=\"T_4a42ecde_6e4b_11ec_a77f_0242ac1c0002row1_col9\" class=\"data row1 col9\" >-0.045425</td>\n",
              "                        <td id=\"T_4a42ecde_6e4b_11ec_a77f_0242ac1c0002row1_col10\" class=\"data row1 col10\" >0.014734</td>\n",
              "                        <td id=\"T_4a42ecde_6e4b_11ec_a77f_0242ac1c0002row1_col11\" class=\"data row1 col11\" >-0.014217</td>\n",
              "                        <td id=\"T_4a42ecde_6e4b_11ec_a77f_0242ac1c0002row1_col12\" class=\"data row1 col12\" >-0.002370</td>\n",
              "                        <td id=\"T_4a42ecde_6e4b_11ec_a77f_0242ac1c0002row1_col13\" class=\"data row1 col13\" >0.042348</td>\n",
              "                        <td id=\"T_4a42ecde_6e4b_11ec_a77f_0242ac1c0002row1_col14\" class=\"data row1 col14\" >0.115865</td>\n",
              "                        <td id=\"T_4a42ecde_6e4b_11ec_a77f_0242ac1c0002row1_col15\" class=\"data row1 col15\" >0.210007</td>\n",
              "                        <td id=\"T_4a42ecde_6e4b_11ec_a77f_0242ac1c0002row1_col16\" class=\"data row1 col16\" >0.097442</td>\n",
              "                        <td id=\"T_4a42ecde_6e4b_11ec_a77f_0242ac1c0002row1_col17\" class=\"data row1 col17\" >0.130375</td>\n",
              "                        <td id=\"T_4a42ecde_6e4b_11ec_a77f_0242ac1c0002row1_col18\" class=\"data row1 col18\" >-0.057077</td>\n",
              "                        <td id=\"T_4a42ecde_6e4b_11ec_a77f_0242ac1c0002row1_col19\" class=\"data row1 col19\" >0.037408</td>\n",
              "                        <td id=\"T_4a42ecde_6e4b_11ec_a77f_0242ac1c0002row1_col20\" class=\"data row1 col20\" >-0.012280</td>\n",
              "                        <td id=\"T_4a42ecde_6e4b_11ec_a77f_0242ac1c0002row1_col21\" class=\"data row1 col21\" >0.145263</td>\n",
              "                        <td id=\"T_4a42ecde_6e4b_11ec_a77f_0242ac1c0002row1_col22\" class=\"data row1 col22\" >-0.000820</td>\n",
              "            </tr>\n",
              "            <tr>\n",
              "                        <th id=\"T_4a42ecde_6e4b_11ec_a77f_0242ac1c0002level0_row2\" class=\"row_heading level0 row2\" >loan_amnt</th>\n",
              "                        <td id=\"T_4a42ecde_6e4b_11ec_a77f_0242ac1c0002row2_col0\" class=\"data row2 col0\" >0.124616</td>\n",
              "                        <td id=\"T_4a42ecde_6e4b_11ec_a77f_0242ac1c0002row2_col1\" class=\"data row2 col1\" >0.124715</td>\n",
              "                        <td id=\"T_4a42ecde_6e4b_11ec_a77f_0242ac1c0002row2_col2\" class=\"data row2 col2\" >1.000000</td>\n",
              "                        <td id=\"T_4a42ecde_6e4b_11ec_a77f_0242ac1c0002row2_col3\" class=\"data row2 col3\" >0.981549</td>\n",
              "                        <td id=\"T_4a42ecde_6e4b_11ec_a77f_0242ac1c0002row2_col4\" class=\"data row2 col4\" >0.937259</td>\n",
              "                        <td id=\"T_4a42ecde_6e4b_11ec_a77f_0242ac1c0002row2_col5\" class=\"data row2 col5\" >0.931526</td>\n",
              "                        <td id=\"T_4a42ecde_6e4b_11ec_a77f_0242ac1c0002row2_col6\" class=\"data row2 col6\" >0.266043</td>\n",
              "                        <td id=\"T_4a42ecde_6e4b_11ec_a77f_0242ac1c0002row2_col7\" class=\"data row2 col7\" >0.060814</td>\n",
              "                        <td id=\"T_4a42ecde_6e4b_11ec_a77f_0242ac1c0002row2_col8\" class=\"data row2 col8\" >-0.033581</td>\n",
              "                        <td id=\"T_4a42ecde_6e4b_11ec_a77f_0242ac1c0002row2_col9\" class=\"data row2 col9\" >0.012746</td>\n",
              "                        <td id=\"T_4a42ecde_6e4b_11ec_a77f_0242ac1c0002row2_col10\" class=\"data row2 col10\" >0.172723</td>\n",
              "                        <td id=\"T_4a42ecde_6e4b_11ec_a77f_0242ac1c0002row2_col11\" class=\"data row2 col11\" >-0.045789</td>\n",
              "                        <td id=\"T_4a42ecde_6e4b_11ec_a77f_0242ac1c0002row2_col12\" class=\"data row2 col12\" >0.312956</td>\n",
              "                        <td id=\"T_4a42ecde_6e4b_11ec_a77f_0242ac1c0002row2_col13\" class=\"data row2 col13\" >0.254405</td>\n",
              "                        <td id=\"T_4a42ecde_6e4b_11ec_a77f_0242ac1c0002row2_col14\" class=\"data row2 col14\" >0.882861</td>\n",
              "                        <td id=\"T_4a42ecde_6e4b_11ec_a77f_0242ac1c0002row2_col15\" class=\"data row2 col15\" >0.848071</td>\n",
              "                        <td id=\"T_4a42ecde_6e4b_11ec_a77f_0242ac1c0002row2_col16\" class=\"data row2 col16\" >0.846852</td>\n",
              "                        <td id=\"T_4a42ecde_6e4b_11ec_a77f_0242ac1c0002row2_col17\" class=\"data row2 col17\" >0.728092</td>\n",
              "                        <td id=\"T_4a42ecde_6e4b_11ec_a77f_0242ac1c0002row2_col18\" class=\"data row2 col18\" >0.047697</td>\n",
              "                        <td id=\"T_4a42ecde_6e4b_11ec_a77f_0242ac1c0002row2_col19\" class=\"data row2 col19\" >0.142819</td>\n",
              "                        <td id=\"T_4a42ecde_6e4b_11ec_a77f_0242ac1c0002row2_col20\" class=\"data row2 col20\" >0.076558</td>\n",
              "                        <td id=\"T_4a42ecde_6e4b_11ec_a77f_0242ac1c0002row2_col21\" class=\"data row2 col21\" >0.473708</td>\n",
              "                        <td id=\"T_4a42ecde_6e4b_11ec_a77f_0242ac1c0002row2_col22\" class=\"data row2 col22\" >-0.030681</td>\n",
              "            </tr>\n",
              "            <tr>\n",
              "                        <th id=\"T_4a42ecde_6e4b_11ec_a77f_0242ac1c0002level0_row3\" class=\"row_heading level0 row3\" >funded_amnt</th>\n",
              "                        <td id=\"T_4a42ecde_6e4b_11ec_a77f_0242ac1c0002row3_col0\" class=\"data row3 col0\" >0.135264</td>\n",
              "                        <td id=\"T_4a42ecde_6e4b_11ec_a77f_0242ac1c0002row3_col1\" class=\"data row3 col1\" >0.134604</td>\n",
              "                        <td id=\"T_4a42ecde_6e4b_11ec_a77f_0242ac1c0002row3_col2\" class=\"data row3 col2\" >0.981549</td>\n",
              "                        <td id=\"T_4a42ecde_6e4b_11ec_a77f_0242ac1c0002row3_col3\" class=\"data row3 col3\" >1.000000</td>\n",
              "                        <td id=\"T_4a42ecde_6e4b_11ec_a77f_0242ac1c0002row3_col4\" class=\"data row3 col4\" >0.955779</td>\n",
              "                        <td id=\"T_4a42ecde_6e4b_11ec_a77f_0242ac1c0002row3_col5\" class=\"data row3 col5\" >0.957638</td>\n",
              "                        <td id=\"T_4a42ecde_6e4b_11ec_a77f_0242ac1c0002row3_col6\" class=\"data row3 col6\" >0.261718</td>\n",
              "                        <td id=\"T_4a42ecde_6e4b_11ec_a77f_0242ac1c0002row3_col7\" class=\"data row3 col7\" >0.060676</td>\n",
              "                        <td id=\"T_4a42ecde_6e4b_11ec_a77f_0242ac1c0002row3_col8\" class=\"data row3 col8\" >-0.033691</td>\n",
              "                        <td id=\"T_4a42ecde_6e4b_11ec_a77f_0242ac1c0002row3_col9\" class=\"data row3 col9\" >0.012721</td>\n",
              "                        <td id=\"T_4a42ecde_6e4b_11ec_a77f_0242ac1c0002row3_col10\" class=\"data row3 col10\" >0.171260</td>\n",
              "                        <td id=\"T_4a42ecde_6e4b_11ec_a77f_0242ac1c0002row3_col11\" class=\"data row3 col11\" >-0.046273</td>\n",
              "                        <td id=\"T_4a42ecde_6e4b_11ec_a77f_0242ac1c0002row3_col12\" class=\"data row3 col12\" >0.305684</td>\n",
              "                        <td id=\"T_4a42ecde_6e4b_11ec_a77f_0242ac1c0002row3_col13\" class=\"data row3 col13\" >0.248659</td>\n",
              "                        <td id=\"T_4a42ecde_6e4b_11ec_a77f_0242ac1c0002row3_col14\" class=\"data row3 col14\" >0.900035</td>\n",
              "                        <td id=\"T_4a42ecde_6e4b_11ec_a77f_0242ac1c0002row3_col15\" class=\"data row3 col15\" >0.865309</td>\n",
              "                        <td id=\"T_4a42ecde_6e4b_11ec_a77f_0242ac1c0002row3_col16\" class=\"data row3 col16\" >0.865516</td>\n",
              "                        <td id=\"T_4a42ecde_6e4b_11ec_a77f_0242ac1c0002row3_col17\" class=\"data row3 col17\" >0.736495</td>\n",
              "                        <td id=\"T_4a42ecde_6e4b_11ec_a77f_0242ac1c0002row3_col18\" class=\"data row3 col18\" >0.050118</td>\n",
              "                        <td id=\"T_4a42ecde_6e4b_11ec_a77f_0242ac1c0002row3_col19\" class=\"data row3 col19\" >0.143359</td>\n",
              "                        <td id=\"T_4a42ecde_6e4b_11ec_a77f_0242ac1c0002row3_col20\" class=\"data row3 col20\" >0.078247</td>\n",
              "                        <td id=\"T_4a42ecde_6e4b_11ec_a77f_0242ac1c0002row3_col21\" class=\"data row3 col21\" >0.477745</td>\n",
              "                        <td id=\"T_4a42ecde_6e4b_11ec_a77f_0242ac1c0002row3_col22\" class=\"data row3 col22\" >-0.031675</td>\n",
              "            </tr>\n",
              "            <tr>\n",
              "                        <th id=\"T_4a42ecde_6e4b_11ec_a77f_0242ac1c0002level0_row4\" class=\"row_heading level0 row4\" >funded_amnt_inv</th>\n",
              "                        <td id=\"T_4a42ecde_6e4b_11ec_a77f_0242ac1c0002row4_col0\" class=\"data row4 col0\" >0.236421</td>\n",
              "                        <td id=\"T_4a42ecde_6e4b_11ec_a77f_0242ac1c0002row4_col1\" class=\"data row4 col1\" >0.246514</td>\n",
              "                        <td id=\"T_4a42ecde_6e4b_11ec_a77f_0242ac1c0002row4_col2\" class=\"data row4 col2\" >0.937259</td>\n",
              "                        <td id=\"T_4a42ecde_6e4b_11ec_a77f_0242ac1c0002row4_col3\" class=\"data row4 col3\" >0.955779</td>\n",
              "                        <td id=\"T_4a42ecde_6e4b_11ec_a77f_0242ac1c0002row4_col4\" class=\"data row4 col4\" >1.000000</td>\n",
              "                        <td id=\"T_4a42ecde_6e4b_11ec_a77f_0242ac1c0002row4_col5\" class=\"data row4 col5\" >0.904553</td>\n",
              "                        <td id=\"T_4a42ecde_6e4b_11ec_a77f_0242ac1c0002row4_col6\" class=\"data row4 col6\" >0.249027</td>\n",
              "                        <td id=\"T_4a42ecde_6e4b_11ec_a77f_0242ac1c0002row4_col7\" class=\"data row4 col7\" >0.069368</td>\n",
              "                        <td id=\"T_4a42ecde_6e4b_11ec_a77f_0242ac1c0002row4_col8\" class=\"data row4 col8\" >-0.039958</td>\n",
              "                        <td id=\"T_4a42ecde_6e4b_11ec_a77f_0242ac1c0002row4_col9\" class=\"data row4 col9\" >-0.002696</td>\n",
              "                        <td id=\"T_4a42ecde_6e4b_11ec_a77f_0242ac1c0002row4_col10\" class=\"data row4 col10\" >0.158134</td>\n",
              "                        <td id=\"T_4a42ecde_6e4b_11ec_a77f_0242ac1c0002row4_col11\" class=\"data row4 col11\" >-0.045790</td>\n",
              "                        <td id=\"T_4a42ecde_6e4b_11ec_a77f_0242ac1c0002row4_col12\" class=\"data row4 col12\" >0.285135</td>\n",
              "                        <td id=\"T_4a42ecde_6e4b_11ec_a77f_0242ac1c0002row4_col13\" class=\"data row4 col13\" >0.240879</td>\n",
              "                        <td id=\"T_4a42ecde_6e4b_11ec_a77f_0242ac1c0002row4_col14\" class=\"data row4 col14\" >0.875049</td>\n",
              "                        <td id=\"T_4a42ecde_6e4b_11ec_a77f_0242ac1c0002row4_col15\" class=\"data row4 col15\" >0.910037</td>\n",
              "                        <td id=\"T_4a42ecde_6e4b_11ec_a77f_0242ac1c0002row4_col16\" class=\"data row4 col16\" >0.838891</td>\n",
              "                        <td id=\"T_4a42ecde_6e4b_11ec_a77f_0242ac1c0002row4_col17\" class=\"data row4 col17\" >0.726063</td>\n",
              "                        <td id=\"T_4a42ecde_6e4b_11ec_a77f_0242ac1c0002row4_col18\" class=\"data row4 col18\" >0.029967</td>\n",
              "                        <td id=\"T_4a42ecde_6e4b_11ec_a77f_0242ac1c0002row4_col19\" class=\"data row4 col19\" >0.131333</td>\n",
              "                        <td id=\"T_4a42ecde_6e4b_11ec_a77f_0242ac1c0002row4_col20\" class=\"data row4 col20\" >0.064070</td>\n",
              "                        <td id=\"T_4a42ecde_6e4b_11ec_a77f_0242ac1c0002row4_col21\" class=\"data row4 col21\" >0.468080</td>\n",
              "                        <td id=\"T_4a42ecde_6e4b_11ec_a77f_0242ac1c0002row4_col22\" class=\"data row4 col22\" >-0.032679</td>\n",
              "            </tr>\n",
              "            <tr>\n",
              "                        <th id=\"T_4a42ecde_6e4b_11ec_a77f_0242ac1c0002level0_row5\" class=\"row_heading level0 row5\" >installment</th>\n",
              "                        <td id=\"T_4a42ecde_6e4b_11ec_a77f_0242ac1c0002row5_col0\" class=\"data row5 col0\" >0.079226</td>\n",
              "                        <td id=\"T_4a42ecde_6e4b_11ec_a77f_0242ac1c0002row5_col1\" class=\"data row5 col1\" >0.074346</td>\n",
              "                        <td id=\"T_4a42ecde_6e4b_11ec_a77f_0242ac1c0002row5_col2\" class=\"data row5 col2\" >0.931526</td>\n",
              "                        <td id=\"T_4a42ecde_6e4b_11ec_a77f_0242ac1c0002row5_col3\" class=\"data row5 col3\" >0.957638</td>\n",
              "                        <td id=\"T_4a42ecde_6e4b_11ec_a77f_0242ac1c0002row5_col4\" class=\"data row5 col4\" >0.904553</td>\n",
              "                        <td id=\"T_4a42ecde_6e4b_11ec_a77f_0242ac1c0002row5_col5\" class=\"data row5 col5\" >1.000000</td>\n",
              "                        <td id=\"T_4a42ecde_6e4b_11ec_a77f_0242ac1c0002row5_col6\" class=\"data row5 col6\" >0.264451</td>\n",
              "                        <td id=\"T_4a42ecde_6e4b_11ec_a77f_0242ac1c0002row5_col7\" class=\"data row5 col7\" >0.050241</td>\n",
              "                        <td id=\"T_4a42ecde_6e4b_11ec_a77f_0242ac1c0002row5_col8\" class=\"data row5 col8\" >-0.021579</td>\n",
              "                        <td id=\"T_4a42ecde_6e4b_11ec_a77f_0242ac1c0002row5_col9\" class=\"data row5 col9\" >0.010916</td>\n",
              "                        <td id=\"T_4a42ecde_6e4b_11ec_a77f_0242ac1c0002row5_col10\" class=\"data row5 col10\" >0.168561</td>\n",
              "                        <td id=\"T_4a42ecde_6e4b_11ec_a77f_0242ac1c0002row5_col11\" class=\"data row5 col11\" >-0.041803</td>\n",
              "                        <td id=\"T_4a42ecde_6e4b_11ec_a77f_0242ac1c0002row5_col12\" class=\"data row5 col12\" >0.308842</td>\n",
              "                        <td id=\"T_4a42ecde_6e4b_11ec_a77f_0242ac1c0002row5_col13\" class=\"data row5 col13\" >0.228106</td>\n",
              "                        <td id=\"T_4a42ecde_6e4b_11ec_a77f_0242ac1c0002row5_col14\" class=\"data row5 col14\" >0.859319</td>\n",
              "                        <td id=\"T_4a42ecde_6e4b_11ec_a77f_0242ac1c0002row5_col15\" class=\"data row5 col15\" >0.817881</td>\n",
              "                        <td id=\"T_4a42ecde_6e4b_11ec_a77f_0242ac1c0002row5_col16\" class=\"data row5 col16\" >0.849020</td>\n",
              "                        <td id=\"T_4a42ecde_6e4b_11ec_a77f_0242ac1c0002row5_col17\" class=\"data row5 col17\" >0.641408</td>\n",
              "                        <td id=\"T_4a42ecde_6e4b_11ec_a77f_0242ac1c0002row5_col18\" class=\"data row5 col18\" >0.058601</td>\n",
              "                        <td id=\"T_4a42ecde_6e4b_11ec_a77f_0242ac1c0002row5_col19\" class=\"data row5 col19\" >0.121225</td>\n",
              "                        <td id=\"T_4a42ecde_6e4b_11ec_a77f_0242ac1c0002row5_col20\" class=\"data row5 col20\" >0.077026</td>\n",
              "                        <td id=\"T_4a42ecde_6e4b_11ec_a77f_0242ac1c0002row5_col21\" class=\"data row5 col21\" >0.412271</td>\n",
              "                        <td id=\"T_4a42ecde_6e4b_11ec_a77f_0242ac1c0002row5_col22\" class=\"data row5 col22\" >-0.028787</td>\n",
              "            </tr>\n",
              "            <tr>\n",
              "                        <th id=\"T_4a42ecde_6e4b_11ec_a77f_0242ac1c0002level0_row6\" class=\"row_heading level0 row6\" >annual_inc</th>\n",
              "                        <td id=\"T_4a42ecde_6e4b_11ec_a77f_0242ac1c0002row6_col0\" class=\"data row6 col0\" >0.008719</td>\n",
              "                        <td id=\"T_4a42ecde_6e4b_11ec_a77f_0242ac1c0002row6_col1\" class=\"data row6 col1\" >0.009832</td>\n",
              "                        <td id=\"T_4a42ecde_6e4b_11ec_a77f_0242ac1c0002row6_col2\" class=\"data row6 col2\" >0.266043</td>\n",
              "                        <td id=\"T_4a42ecde_6e4b_11ec_a77f_0242ac1c0002row6_col3\" class=\"data row6 col3\" >0.261718</td>\n",
              "                        <td id=\"T_4a42ecde_6e4b_11ec_a77f_0242ac1c0002row6_col4\" class=\"data row6 col4\" >0.249027</td>\n",
              "                        <td id=\"T_4a42ecde_6e4b_11ec_a77f_0242ac1c0002row6_col5\" class=\"data row6 col5\" >0.264451</td>\n",
              "                        <td id=\"T_4a42ecde_6e4b_11ec_a77f_0242ac1c0002row6_col6\" class=\"data row6 col6\" >1.000000</td>\n",
              "                        <td id=\"T_4a42ecde_6e4b_11ec_a77f_0242ac1c0002row6_col7\" class=\"data row6 col7\" >-0.123933</td>\n",
              "                        <td id=\"T_4a42ecde_6e4b_11ec_a77f_0242ac1c0002row6_col8\" class=\"data row6 col8\" >0.021368</td>\n",
              "                        <td id=\"T_4a42ecde_6e4b_11ec_a77f_0242ac1c0002row6_col9\" class=\"data row6 col9\" >0.036219</td>\n",
              "                        <td id=\"T_4a42ecde_6e4b_11ec_a77f_0242ac1c0002row6_col10\" class=\"data row6 col10\" >0.154019</td>\n",
              "                        <td id=\"T_4a42ecde_6e4b_11ec_a77f_0242ac1c0002row6_col11\" class=\"data row6 col11\" >-0.014130</td>\n",
              "                        <td id=\"T_4a42ecde_6e4b_11ec_a77f_0242ac1c0002row6_col12\" class=\"data row6 col12\" >0.276340</td>\n",
              "                        <td id=\"T_4a42ecde_6e4b_11ec_a77f_0242ac1c0002row6_col13\" class=\"data row6 col13\" >0.233045</td>\n",
              "                        <td id=\"T_4a42ecde_6e4b_11ec_a77f_0242ac1c0002row6_col14\" class=\"data row6 col14\" >0.252881</td>\n",
              "                        <td id=\"T_4a42ecde_6e4b_11ec_a77f_0242ac1c0002row6_col15\" class=\"data row6 col15\" >0.241921</td>\n",
              "                        <td id=\"T_4a42ecde_6e4b_11ec_a77f_0242ac1c0002row6_col16\" class=\"data row6 col16\" >0.253375</td>\n",
              "                        <td id=\"T_4a42ecde_6e4b_11ec_a77f_0242ac1c0002row6_col17\" class=\"data row6 col17\" >0.182356</td>\n",
              "                        <td id=\"T_4a42ecde_6e4b_11ec_a77f_0242ac1c0002row6_col18\" class=\"data row6 col18\" >0.006097</td>\n",
              "                        <td id=\"T_4a42ecde_6e4b_11ec_a77f_0242ac1c0002row6_col19\" class=\"data row6 col19\" >0.022394</td>\n",
              "                        <td id=\"T_4a42ecde_6e4b_11ec_a77f_0242ac1c0002row6_col20\" class=\"data row6 col20\" >0.016215</td>\n",
              "                        <td id=\"T_4a42ecde_6e4b_11ec_a77f_0242ac1c0002row6_col21\" class=\"data row6 col21\" >0.140967</td>\n",
              "                        <td id=\"T_4a42ecde_6e4b_11ec_a77f_0242ac1c0002row6_col22\" class=\"data row6 col22\" >-0.012177</td>\n",
              "            </tr>\n",
              "            <tr>\n",
              "                        <th id=\"T_4a42ecde_6e4b_11ec_a77f_0242ac1c0002level0_row7\" class=\"row_heading level0 row7\" >dti</th>\n",
              "                        <td id=\"T_4a42ecde_6e4b_11ec_a77f_0242ac1c0002row7_col0\" class=\"data row7 col0\" >0.090554</td>\n",
              "                        <td id=\"T_4a42ecde_6e4b_11ec_a77f_0242ac1c0002row7_col1\" class=\"data row7 col1\" >0.091892</td>\n",
              "                        <td id=\"T_4a42ecde_6e4b_11ec_a77f_0242ac1c0002row7_col2\" class=\"data row7 col2\" >0.060814</td>\n",
              "                        <td id=\"T_4a42ecde_6e4b_11ec_a77f_0242ac1c0002row7_col3\" class=\"data row7 col3\" >0.060676</td>\n",
              "                        <td id=\"T_4a42ecde_6e4b_11ec_a77f_0242ac1c0002row7_col4\" class=\"data row7 col4\" >0.069368</td>\n",
              "                        <td id=\"T_4a42ecde_6e4b_11ec_a77f_0242ac1c0002row7_col5\" class=\"data row7 col5\" >0.050241</td>\n",
              "                        <td id=\"T_4a42ecde_6e4b_11ec_a77f_0242ac1c0002row7_col6\" class=\"data row7 col6\" >-0.123933</td>\n",
              "                        <td id=\"T_4a42ecde_6e4b_11ec_a77f_0242ac1c0002row7_col7\" class=\"data row7 col7\" >1.000000</td>\n",
              "                        <td id=\"T_4a42ecde_6e4b_11ec_a77f_0242ac1c0002row7_col8\" class=\"data row7 col8\" >-0.034730</td>\n",
              "                        <td id=\"T_4a42ecde_6e4b_11ec_a77f_0242ac1c0002row7_col9\" class=\"data row7 col9\" >0.000295</td>\n",
              "                        <td id=\"T_4a42ecde_6e4b_11ec_a77f_0242ac1c0002row7_col10\" class=\"data row7 col10\" >0.289061</td>\n",
              "                        <td id=\"T_4a42ecde_6e4b_11ec_a77f_0242ac1c0002row7_col11\" class=\"data row7 col11\" >-0.003826</td>\n",
              "                        <td id=\"T_4a42ecde_6e4b_11ec_a77f_0242ac1c0002row7_col12\" class=\"data row7 col12\" >0.227395</td>\n",
              "                        <td id=\"T_4a42ecde_6e4b_11ec_a77f_0242ac1c0002row7_col13\" class=\"data row7 col13\" >0.229161</td>\n",
              "                        <td id=\"T_4a42ecde_6e4b_11ec_a77f_0242ac1c0002row7_col14\" class=\"data row7 col14\" >0.058063</td>\n",
              "                        <td id=\"T_4a42ecde_6e4b_11ec_a77f_0242ac1c0002row7_col15\" class=\"data row7 col15\" >0.065257</td>\n",
              "                        <td id=\"T_4a42ecde_6e4b_11ec_a77f_0242ac1c0002row7_col16\" class=\"data row7 col16\" >0.035469</td>\n",
              "                        <td id=\"T_4a42ecde_6e4b_11ec_a77f_0242ac1c0002row7_col17\" class=\"data row7 col17\" >0.102479</td>\n",
              "                        <td id=\"T_4a42ecde_6e4b_11ec_a77f_0242ac1c0002row7_col18\" class=\"data row7 col18\" >-0.011507</td>\n",
              "                        <td id=\"T_4a42ecde_6e4b_11ec_a77f_0242ac1c0002row7_col19\" class=\"data row7 col19\" >0.025280</td>\n",
              "                        <td id=\"T_4a42ecde_6e4b_11ec_a77f_0242ac1c0002row7_col20\" class=\"data row7 col20\" >0.010749</td>\n",
              "                        <td id=\"T_4a42ecde_6e4b_11ec_a77f_0242ac1c0002row7_col21\" class=\"data row7 col21\" >0.008715</td>\n",
              "                        <td id=\"T_4a42ecde_6e4b_11ec_a77f_0242ac1c0002row7_col22\" class=\"data row7 col22\" >0.007742</td>\n",
              "            </tr>\n",
              "            <tr>\n",
              "                        <th id=\"T_4a42ecde_6e4b_11ec_a77f_0242ac1c0002level0_row8\" class=\"row_heading level0 row8\" >delinq_2yrs</th>\n",
              "                        <td id=\"T_4a42ecde_6e4b_11ec_a77f_0242ac1c0002row8_col0\" class=\"data row8 col0\" >-0.008037</td>\n",
              "                        <td id=\"T_4a42ecde_6e4b_11ec_a77f_0242ac1c0002row8_col1\" class=\"data row8 col1\" >-0.007440</td>\n",
              "                        <td id=\"T_4a42ecde_6e4b_11ec_a77f_0242ac1c0002row8_col2\" class=\"data row8 col2\" >-0.033581</td>\n",
              "                        <td id=\"T_4a42ecde_6e4b_11ec_a77f_0242ac1c0002row8_col3\" class=\"data row8 col3\" >-0.033691</td>\n",
              "                        <td id=\"T_4a42ecde_6e4b_11ec_a77f_0242ac1c0002row8_col4\" class=\"data row8 col4\" >-0.039958</td>\n",
              "                        <td id=\"T_4a42ecde_6e4b_11ec_a77f_0242ac1c0002row8_col5\" class=\"data row8 col5\" >-0.021579</td>\n",
              "                        <td id=\"T_4a42ecde_6e4b_11ec_a77f_0242ac1c0002row8_col6\" class=\"data row8 col6\" >0.021368</td>\n",
              "                        <td id=\"T_4a42ecde_6e4b_11ec_a77f_0242ac1c0002row8_col7\" class=\"data row8 col7\" >-0.034730</td>\n",
              "                        <td id=\"T_4a42ecde_6e4b_11ec_a77f_0242ac1c0002row8_col8\" class=\"data row8 col8\" >1.000000</td>\n",
              "                        <td id=\"T_4a42ecde_6e4b_11ec_a77f_0242ac1c0002row8_col9\" class=\"data row8 col9\" >0.007852</td>\n",
              "                        <td id=\"T_4a42ecde_6e4b_11ec_a77f_0242ac1c0002row8_col10\" class=\"data row8 col10\" >0.010794</td>\n",
              "                        <td id=\"T_4a42ecde_6e4b_11ec_a77f_0242ac1c0002row8_col11\" class=\"data row8 col11\" >0.009762</td>\n",
              "                        <td id=\"T_4a42ecde_6e4b_11ec_a77f_0242ac1c0002row8_col12\" class=\"data row8 col12\" >-0.054935</td>\n",
              "                        <td id=\"T_4a42ecde_6e4b_11ec_a77f_0242ac1c0002row8_col13\" class=\"data row8 col13\" >0.066137</td>\n",
              "                        <td id=\"T_4a42ecde_6e4b_11ec_a77f_0242ac1c0002row8_col14\" class=\"data row8 col14\" >-0.024500</td>\n",
              "                        <td id=\"T_4a42ecde_6e4b_11ec_a77f_0242ac1c0002row8_col15\" class=\"data row8 col15\" >-0.030957</td>\n",
              "                        <td id=\"T_4a42ecde_6e4b_11ec_a77f_0242ac1c0002row8_col16\" class=\"data row8 col16\" >-0.039789</td>\n",
              "                        <td id=\"T_4a42ecde_6e4b_11ec_a77f_0242ac1c0002row8_col17\" class=\"data row8 col17\" >0.022647</td>\n",
              "                        <td id=\"T_4a42ecde_6e4b_11ec_a77f_0242ac1c0002row8_col18\" class=\"data row8 col18\" >0.029490</td>\n",
              "                        <td id=\"T_4a42ecde_6e4b_11ec_a77f_0242ac1c0002row8_col19\" class=\"data row8 col19\" >0.012187</td>\n",
              "                        <td id=\"T_4a42ecde_6e4b_11ec_a77f_0242ac1c0002row8_col20\" class=\"data row8 col20\" >0.013874</td>\n",
              "                        <td id=\"T_4a42ecde_6e4b_11ec_a77f_0242ac1c0002row8_col21\" class=\"data row8 col21\" >-0.013307</td>\n",
              "                        <td id=\"T_4a42ecde_6e4b_11ec_a77f_0242ac1c0002row8_col22\" class=\"data row8 col22\" >0.004559</td>\n",
              "            </tr>\n",
              "            <tr>\n",
              "                        <th id=\"T_4a42ecde_6e4b_11ec_a77f_0242ac1c0002level0_row9\" class=\"row_heading level0 row9\" >inq_last_6mths</th>\n",
              "                        <td id=\"T_4a42ecde_6e4b_11ec_a77f_0242ac1c0002row9_col0\" class=\"data row9 col0\" >-0.040447</td>\n",
              "                        <td id=\"T_4a42ecde_6e4b_11ec_a77f_0242ac1c0002row9_col1\" class=\"data row9 col1\" >-0.045425</td>\n",
              "                        <td id=\"T_4a42ecde_6e4b_11ec_a77f_0242ac1c0002row9_col2\" class=\"data row9 col2\" >0.012746</td>\n",
              "                        <td id=\"T_4a42ecde_6e4b_11ec_a77f_0242ac1c0002row9_col3\" class=\"data row9 col3\" >0.012721</td>\n",
              "                        <td id=\"T_4a42ecde_6e4b_11ec_a77f_0242ac1c0002row9_col4\" class=\"data row9 col4\" >-0.002696</td>\n",
              "                        <td id=\"T_4a42ecde_6e4b_11ec_a77f_0242ac1c0002row9_col5\" class=\"data row9 col5\" >0.010916</td>\n",
              "                        <td id=\"T_4a42ecde_6e4b_11ec_a77f_0242ac1c0002row9_col6\" class=\"data row9 col6\" >0.036219</td>\n",
              "                        <td id=\"T_4a42ecde_6e4b_11ec_a77f_0242ac1c0002row9_col7\" class=\"data row9 col7\" >0.000295</td>\n",
              "                        <td id=\"T_4a42ecde_6e4b_11ec_a77f_0242ac1c0002row9_col8\" class=\"data row9 col8\" >0.007852</td>\n",
              "                        <td id=\"T_4a42ecde_6e4b_11ec_a77f_0242ac1c0002row9_col9\" class=\"data row9 col9\" >1.000000</td>\n",
              "                        <td id=\"T_4a42ecde_6e4b_11ec_a77f_0242ac1c0002row9_col10\" class=\"data row9 col10\" >0.094412</td>\n",
              "                        <td id=\"T_4a42ecde_6e4b_11ec_a77f_0242ac1c0002row9_col11\" class=\"data row9 col11\" >0.022413</td>\n",
              "                        <td id=\"T_4a42ecde_6e4b_11ec_a77f_0242ac1c0002row9_col12\" class=\"data row9 col12\" >-0.021206</td>\n",
              "                        <td id=\"T_4a42ecde_6e4b_11ec_a77f_0242ac1c0002row9_col13\" class=\"data row9 col13\" >0.114521</td>\n",
              "                        <td id=\"T_4a42ecde_6e4b_11ec_a77f_0242ac1c0002row9_col14\" class=\"data row9 col14\" >-0.007435</td>\n",
              "                        <td id=\"T_4a42ecde_6e4b_11ec_a77f_0242ac1c0002row9_col15\" class=\"data row9 col15\" >-0.017754</td>\n",
              "                        <td id=\"T_4a42ecde_6e4b_11ec_a77f_0242ac1c0002row9_col16\" class=\"data row9 col16\" >-0.020356</td>\n",
              "                        <td id=\"T_4a42ecde_6e4b_11ec_a77f_0242ac1c0002row9_col17\" class=\"data row9 col17\" >0.026885</td>\n",
              "                        <td id=\"T_4a42ecde_6e4b_11ec_a77f_0242ac1c0002row9_col18\" class=\"data row9 col18\" >0.031295</td>\n",
              "                        <td id=\"T_4a42ecde_6e4b_11ec_a77f_0242ac1c0002row9_col19\" class=\"data row9 col19\" >0.017898</td>\n",
              "                        <td id=\"T_4a42ecde_6e4b_11ec_a77f_0242ac1c0002row9_col20\" class=\"data row9 col20\" >0.011815</td>\n",
              "                        <td id=\"T_4a42ecde_6e4b_11ec_a77f_0242ac1c0002row9_col21\" class=\"data row9 col21\" >0.028522</td>\n",
              "                        <td id=\"T_4a42ecde_6e4b_11ec_a77f_0242ac1c0002row9_col22\" class=\"data row9 col22\" >0.013571</td>\n",
              "            </tr>\n",
              "            <tr>\n",
              "                        <th id=\"T_4a42ecde_6e4b_11ec_a77f_0242ac1c0002level0_row10\" class=\"row_heading level0 row10\" >open_acc</th>\n",
              "                        <td id=\"T_4a42ecde_6e4b_11ec_a77f_0242ac1c0002row10_col0\" class=\"data row10 col0\" >0.017145</td>\n",
              "                        <td id=\"T_4a42ecde_6e4b_11ec_a77f_0242ac1c0002row10_col1\" class=\"data row10 col1\" >0.014734</td>\n",
              "                        <td id=\"T_4a42ecde_6e4b_11ec_a77f_0242ac1c0002row10_col2\" class=\"data row10 col2\" >0.172723</td>\n",
              "                        <td id=\"T_4a42ecde_6e4b_11ec_a77f_0242ac1c0002row10_col3\" class=\"data row10 col3\" >0.171260</td>\n",
              "                        <td id=\"T_4a42ecde_6e4b_11ec_a77f_0242ac1c0002row10_col4\" class=\"data row10 col4\" >0.158134</td>\n",
              "                        <td id=\"T_4a42ecde_6e4b_11ec_a77f_0242ac1c0002row10_col5\" class=\"data row10 col5\" >0.168561</td>\n",
              "                        <td id=\"T_4a42ecde_6e4b_11ec_a77f_0242ac1c0002row10_col6\" class=\"data row10 col6\" >0.154019</td>\n",
              "                        <td id=\"T_4a42ecde_6e4b_11ec_a77f_0242ac1c0002row10_col7\" class=\"data row10 col7\" >0.289061</td>\n",
              "                        <td id=\"T_4a42ecde_6e4b_11ec_a77f_0242ac1c0002row10_col8\" class=\"data row10 col8\" >0.010794</td>\n",
              "                        <td id=\"T_4a42ecde_6e4b_11ec_a77f_0242ac1c0002row10_col9\" class=\"data row10 col9\" >0.094412</td>\n",
              "                        <td id=\"T_4a42ecde_6e4b_11ec_a77f_0242ac1c0002row10_col10\" class=\"data row10 col10\" >1.000000</td>\n",
              "                        <td id=\"T_4a42ecde_6e4b_11ec_a77f_0242ac1c0002row10_col11\" class=\"data row10 col11\" >0.003650</td>\n",
              "                        <td id=\"T_4a42ecde_6e4b_11ec_a77f_0242ac1c0002row10_col12\" class=\"data row10 col12\" >0.286061</td>\n",
              "                        <td id=\"T_4a42ecde_6e4b_11ec_a77f_0242ac1c0002row10_col13\" class=\"data row10 col13\" >0.686050</td>\n",
              "                        <td id=\"T_4a42ecde_6e4b_11ec_a77f_0242ac1c0002row10_col14\" class=\"data row10 col14\" >0.157461</td>\n",
              "                        <td id=\"T_4a42ecde_6e4b_11ec_a77f_0242ac1c0002row10_col15\" class=\"data row10 col15\" >0.147255</td>\n",
              "                        <td id=\"T_4a42ecde_6e4b_11ec_a77f_0242ac1c0002row10_col16\" class=\"data row10 col16\" >0.154956</td>\n",
              "                        <td id=\"T_4a42ecde_6e4b_11ec_a77f_0242ac1c0002row10_col17\" class=\"data row10 col17\" >0.120822</td>\n",
              "                        <td id=\"T_4a42ecde_6e4b_11ec_a77f_0242ac1c0002row10_col18\" class=\"data row10 col18\" >-0.019086</td>\n",
              "                        <td id=\"T_4a42ecde_6e4b_11ec_a77f_0242ac1c0002row10_col19\" class=\"data row10 col19\" >0.017454</td>\n",
              "                        <td id=\"T_4a42ecde_6e4b_11ec_a77f_0242ac1c0002row10_col20\" class=\"data row10 col20\" >0.006568</td>\n",
              "                        <td id=\"T_4a42ecde_6e4b_11ec_a77f_0242ac1c0002row10_col21\" class=\"data row10 col21\" >0.078919</td>\n",
              "                        <td id=\"T_4a42ecde_6e4b_11ec_a77f_0242ac1c0002row10_col22\" class=\"data row10 col22\" >0.009321</td>\n",
              "            </tr>\n",
              "            <tr>\n",
              "                        <th id=\"T_4a42ecde_6e4b_11ec_a77f_0242ac1c0002level0_row11\" class=\"row_heading level0 row11\" >pub_rec</th>\n",
              "                        <td id=\"T_4a42ecde_6e4b_11ec_a77f_0242ac1c0002row11_col0\" class=\"data row11 col0\" >-0.014876</td>\n",
              "                        <td id=\"T_4a42ecde_6e4b_11ec_a77f_0242ac1c0002row11_col1\" class=\"data row11 col1\" >-0.014217</td>\n",
              "                        <td id=\"T_4a42ecde_6e4b_11ec_a77f_0242ac1c0002row11_col2\" class=\"data row11 col2\" >-0.045789</td>\n",
              "                        <td id=\"T_4a42ecde_6e4b_11ec_a77f_0242ac1c0002row11_col3\" class=\"data row11 col3\" >-0.046273</td>\n",
              "                        <td id=\"T_4a42ecde_6e4b_11ec_a77f_0242ac1c0002row11_col4\" class=\"data row11 col4\" >-0.045790</td>\n",
              "                        <td id=\"T_4a42ecde_6e4b_11ec_a77f_0242ac1c0002row11_col5\" class=\"data row11 col5\" >-0.041803</td>\n",
              "                        <td id=\"T_4a42ecde_6e4b_11ec_a77f_0242ac1c0002row11_col6\" class=\"data row11 col6\" >-0.014130</td>\n",
              "                        <td id=\"T_4a42ecde_6e4b_11ec_a77f_0242ac1c0002row11_col7\" class=\"data row11 col7\" >-0.003826</td>\n",
              "                        <td id=\"T_4a42ecde_6e4b_11ec_a77f_0242ac1c0002row11_col8\" class=\"data row11 col8\" >0.009762</td>\n",
              "                        <td id=\"T_4a42ecde_6e4b_11ec_a77f_0242ac1c0002row11_col9\" class=\"data row11 col9\" >0.022413</td>\n",
              "                        <td id=\"T_4a42ecde_6e4b_11ec_a77f_0242ac1c0002row11_col10\" class=\"data row11 col10\" >0.003650</td>\n",
              "                        <td id=\"T_4a42ecde_6e4b_11ec_a77f_0242ac1c0002row11_col11\" class=\"data row11 col11\" >1.000000</td>\n",
              "                        <td id=\"T_4a42ecde_6e4b_11ec_a77f_0242ac1c0002row11_col12\" class=\"data row11 col12\" >-0.058211</td>\n",
              "                        <td id=\"T_4a42ecde_6e4b_11ec_a77f_0242ac1c0002row11_col13\" class=\"data row11 col13\" >-0.018710</td>\n",
              "                        <td id=\"T_4a42ecde_6e4b_11ec_a77f_0242ac1c0002row11_col14\" class=\"data row11 col14\" >-0.048773</td>\n",
              "                        <td id=\"T_4a42ecde_6e4b_11ec_a77f_0242ac1c0002row11_col15\" class=\"data row11 col15\" >-0.047830</td>\n",
              "                        <td id=\"T_4a42ecde_6e4b_11ec_a77f_0242ac1c0002row11_col16\" class=\"data row11 col16\" >-0.060482</td>\n",
              "                        <td id=\"T_4a42ecde_6e4b_11ec_a77f_0242ac1c0002row11_col17\" class=\"data row11 col17\" >-0.000692</td>\n",
              "                        <td id=\"T_4a42ecde_6e4b_11ec_a77f_0242ac1c0002row11_col18\" class=\"data row11 col18\" >-0.006380</td>\n",
              "                        <td id=\"T_4a42ecde_6e4b_11ec_a77f_0242ac1c0002row11_col19\" class=\"data row11 col19\" >-0.005939</td>\n",
              "                        <td id=\"T_4a42ecde_6e4b_11ec_a77f_0242ac1c0002row11_col20\" class=\"data row11 col20\" >-0.006892</td>\n",
              "                        <td id=\"T_4a42ecde_6e4b_11ec_a77f_0242ac1c0002row11_col21\" class=\"data row11 col21\" >-0.032108</td>\n",
              "                        <td id=\"T_4a42ecde_6e4b_11ec_a77f_0242ac1c0002row11_col22\" class=\"data row11 col22\" >0.841627</td>\n",
              "            </tr>\n",
              "            <tr>\n",
              "                        <th id=\"T_4a42ecde_6e4b_11ec_a77f_0242ac1c0002level0_row12\" class=\"row_heading level0 row12\" >revol_bal</th>\n",
              "                        <td id=\"T_4a42ecde_6e4b_11ec_a77f_0242ac1c0002row12_col0\" class=\"data row12 col0\" >0.000870</td>\n",
              "                        <td id=\"T_4a42ecde_6e4b_11ec_a77f_0242ac1c0002row12_col1\" class=\"data row12 col1\" >-0.002370</td>\n",
              "                        <td id=\"T_4a42ecde_6e4b_11ec_a77f_0242ac1c0002row12_col2\" class=\"data row12 col2\" >0.312956</td>\n",
              "                        <td id=\"T_4a42ecde_6e4b_11ec_a77f_0242ac1c0002row12_col3\" class=\"data row12 col3\" >0.305684</td>\n",
              "                        <td id=\"T_4a42ecde_6e4b_11ec_a77f_0242ac1c0002row12_col4\" class=\"data row12 col4\" >0.285135</td>\n",
              "                        <td id=\"T_4a42ecde_6e4b_11ec_a77f_0242ac1c0002row12_col5\" class=\"data row12 col5\" >0.308842</td>\n",
              "                        <td id=\"T_4a42ecde_6e4b_11ec_a77f_0242ac1c0002row12_col6\" class=\"data row12 col6\" >0.276340</td>\n",
              "                        <td id=\"T_4a42ecde_6e4b_11ec_a77f_0242ac1c0002row12_col7\" class=\"data row12 col7\" >0.227395</td>\n",
              "                        <td id=\"T_4a42ecde_6e4b_11ec_a77f_0242ac1c0002row12_col8\" class=\"data row12 col8\" >-0.054935</td>\n",
              "                        <td id=\"T_4a42ecde_6e4b_11ec_a77f_0242ac1c0002row12_col9\" class=\"data row12 col9\" >-0.021206</td>\n",
              "                        <td id=\"T_4a42ecde_6e4b_11ec_a77f_0242ac1c0002row12_col10\" class=\"data row12 col10\" >0.286061</td>\n",
              "                        <td id=\"T_4a42ecde_6e4b_11ec_a77f_0242ac1c0002row12_col11\" class=\"data row12 col11\" >-0.058211</td>\n",
              "                        <td id=\"T_4a42ecde_6e4b_11ec_a77f_0242ac1c0002row12_col12\" class=\"data row12 col12\" >1.000000</td>\n",
              "                        <td id=\"T_4a42ecde_6e4b_11ec_a77f_0242ac1c0002row12_col13\" class=\"data row12 col13\" >0.312386</td>\n",
              "                        <td id=\"T_4a42ecde_6e4b_11ec_a77f_0242ac1c0002row12_col14\" class=\"data row12 col14\" >0.288359</td>\n",
              "                        <td id=\"T_4a42ecde_6e4b_11ec_a77f_0242ac1c0002row12_col15\" class=\"data row12 col15\" >0.271959</td>\n",
              "                        <td id=\"T_4a42ecde_6e4b_11ec_a77f_0242ac1c0002row12_col16\" class=\"data row12 col16\" >0.275878</td>\n",
              "                        <td id=\"T_4a42ecde_6e4b_11ec_a77f_0242ac1c0002row12_col17\" class=\"data row12 col17\" >0.241038</td>\n",
              "                        <td id=\"T_4a42ecde_6e4b_11ec_a77f_0242ac1c0002row12_col18\" class=\"data row12 col18\" >0.005484</td>\n",
              "                        <td id=\"T_4a42ecde_6e4b_11ec_a77f_0242ac1c0002row12_col19\" class=\"data row12 col19\" >0.042921</td>\n",
              "                        <td id=\"T_4a42ecde_6e4b_11ec_a77f_0242ac1c0002row12_col20\" class=\"data row12 col20\" >0.022941</td>\n",
              "                        <td id=\"T_4a42ecde_6e4b_11ec_a77f_0242ac1c0002row12_col21\" class=\"data row12 col21\" >0.124464</td>\n",
              "                        <td id=\"T_4a42ecde_6e4b_11ec_a77f_0242ac1c0002row12_col22\" class=\"data row12 col22\" >-0.045698</td>\n",
              "            </tr>\n",
              "            <tr>\n",
              "                        <th id=\"T_4a42ecde_6e4b_11ec_a77f_0242ac1c0002level0_row13\" class=\"row_heading level0 row13\" >total_acc</th>\n",
              "                        <td id=\"T_4a42ecde_6e4b_11ec_a77f_0242ac1c0002row13_col0\" class=\"data row13 col0\" >0.039900</td>\n",
              "                        <td id=\"T_4a42ecde_6e4b_11ec_a77f_0242ac1c0002row13_col1\" class=\"data row13 col1\" >0.042348</td>\n",
              "                        <td id=\"T_4a42ecde_6e4b_11ec_a77f_0242ac1c0002row13_col2\" class=\"data row13 col2\" >0.254405</td>\n",
              "                        <td id=\"T_4a42ecde_6e4b_11ec_a77f_0242ac1c0002row13_col3\" class=\"data row13 col3\" >0.248659</td>\n",
              "                        <td id=\"T_4a42ecde_6e4b_11ec_a77f_0242ac1c0002row13_col4\" class=\"data row13 col4\" >0.240879</td>\n",
              "                        <td id=\"T_4a42ecde_6e4b_11ec_a77f_0242ac1c0002row13_col5\" class=\"data row13 col5\" >0.228106</td>\n",
              "                        <td id=\"T_4a42ecde_6e4b_11ec_a77f_0242ac1c0002row13_col6\" class=\"data row13 col6\" >0.233045</td>\n",
              "                        <td id=\"T_4a42ecde_6e4b_11ec_a77f_0242ac1c0002row13_col7\" class=\"data row13 col7\" >0.229161</td>\n",
              "                        <td id=\"T_4a42ecde_6e4b_11ec_a77f_0242ac1c0002row13_col8\" class=\"data row13 col8\" >0.066137</td>\n",
              "                        <td id=\"T_4a42ecde_6e4b_11ec_a77f_0242ac1c0002row13_col9\" class=\"data row13 col9\" >0.114521</td>\n",
              "                        <td id=\"T_4a42ecde_6e4b_11ec_a77f_0242ac1c0002row13_col10\" class=\"data row13 col10\" >0.686050</td>\n",
              "                        <td id=\"T_4a42ecde_6e4b_11ec_a77f_0242ac1c0002row13_col11\" class=\"data row13 col11\" >-0.018710</td>\n",
              "                        <td id=\"T_4a42ecde_6e4b_11ec_a77f_0242ac1c0002row13_col12\" class=\"data row13 col12\" >0.312386</td>\n",
              "                        <td id=\"T_4a42ecde_6e4b_11ec_a77f_0242ac1c0002row13_col13\" class=\"data row13 col13\" >1.000000</td>\n",
              "                        <td id=\"T_4a42ecde_6e4b_11ec_a77f_0242ac1c0002row13_col14\" class=\"data row13 col14\" >0.222886</td>\n",
              "                        <td id=\"T_4a42ecde_6e4b_11ec_a77f_0242ac1c0002row13_col15\" class=\"data row13 col15\" >0.216931</td>\n",
              "                        <td id=\"T_4a42ecde_6e4b_11ec_a77f_0242ac1c0002row13_col16\" class=\"data row13 col16\" >0.227375</td>\n",
              "                        <td id=\"T_4a42ecde_6e4b_11ec_a77f_0242ac1c0002row13_col17\" class=\"data row13 col17\" >0.147395</td>\n",
              "                        <td id=\"T_4a42ecde_6e4b_11ec_a77f_0242ac1c0002row13_col18\" class=\"data row13 col18\" >-0.022973</td>\n",
              "                        <td id=\"T_4a42ecde_6e4b_11ec_a77f_0242ac1c0002row13_col19\" class=\"data row13 col19\" >0.025054</td>\n",
              "                        <td id=\"T_4a42ecde_6e4b_11ec_a77f_0242ac1c0002row13_col20\" class=\"data row13 col20\" >0.011453</td>\n",
              "                        <td id=\"T_4a42ecde_6e4b_11ec_a77f_0242ac1c0002row13_col21\" class=\"data row13 col21\" >0.164674</td>\n",
              "                        <td id=\"T_4a42ecde_6e4b_11ec_a77f_0242ac1c0002row13_col22\" class=\"data row13 col22\" >-0.005678</td>\n",
              "            </tr>\n",
              "            <tr>\n",
              "                        <th id=\"T_4a42ecde_6e4b_11ec_a77f_0242ac1c0002level0_row14\" class=\"row_heading level0 row14\" >total_pymnt</th>\n",
              "                        <td id=\"T_4a42ecde_6e4b_11ec_a77f_0242ac1c0002row14_col0\" class=\"data row14 col0\" >0.114149</td>\n",
              "                        <td id=\"T_4a42ecde_6e4b_11ec_a77f_0242ac1c0002row14_col1\" class=\"data row14 col1\" >0.115865</td>\n",
              "                        <td id=\"T_4a42ecde_6e4b_11ec_a77f_0242ac1c0002row14_col2\" class=\"data row14 col2\" >0.882861</td>\n",
              "                        <td id=\"T_4a42ecde_6e4b_11ec_a77f_0242ac1c0002row14_col3\" class=\"data row14 col3\" >0.900035</td>\n",
              "                        <td id=\"T_4a42ecde_6e4b_11ec_a77f_0242ac1c0002row14_col4\" class=\"data row14 col4\" >0.875049</td>\n",
              "                        <td id=\"T_4a42ecde_6e4b_11ec_a77f_0242ac1c0002row14_col5\" class=\"data row14 col5\" >0.859319</td>\n",
              "                        <td id=\"T_4a42ecde_6e4b_11ec_a77f_0242ac1c0002row14_col6\" class=\"data row14 col6\" >0.252881</td>\n",
              "                        <td id=\"T_4a42ecde_6e4b_11ec_a77f_0242ac1c0002row14_col7\" class=\"data row14 col7\" >0.058063</td>\n",
              "                        <td id=\"T_4a42ecde_6e4b_11ec_a77f_0242ac1c0002row14_col8\" class=\"data row14 col8\" >-0.024500</td>\n",
              "                        <td id=\"T_4a42ecde_6e4b_11ec_a77f_0242ac1c0002row14_col9\" class=\"data row14 col9\" >-0.007435</td>\n",
              "                        <td id=\"T_4a42ecde_6e4b_11ec_a77f_0242ac1c0002row14_col10\" class=\"data row14 col10\" >0.157461</td>\n",
              "                        <td id=\"T_4a42ecde_6e4b_11ec_a77f_0242ac1c0002row14_col11\" class=\"data row14 col11\" >-0.048773</td>\n",
              "                        <td id=\"T_4a42ecde_6e4b_11ec_a77f_0242ac1c0002row14_col12\" class=\"data row14 col12\" >0.288359</td>\n",
              "                        <td id=\"T_4a42ecde_6e4b_11ec_a77f_0242ac1c0002row14_col13\" class=\"data row14 col13\" >0.222886</td>\n",
              "                        <td id=\"T_4a42ecde_6e4b_11ec_a77f_0242ac1c0002row14_col14\" class=\"data row14 col14\" >1.000000</td>\n",
              "                        <td id=\"T_4a42ecde_6e4b_11ec_a77f_0242ac1c0002row14_col15\" class=\"data row14 col15\" >0.968053</td>\n",
              "                        <td id=\"T_4a42ecde_6e4b_11ec_a77f_0242ac1c0002row14_col16\" class=\"data row14 col16\" >0.973330</td>\n",
              "                        <td id=\"T_4a42ecde_6e4b_11ec_a77f_0242ac1c0002row14_col17\" class=\"data row14 col17\" >0.821873</td>\n",
              "                        <td id=\"T_4a42ecde_6e4b_11ec_a77f_0242ac1c0002row14_col18\" class=\"data row14 col18\" >0.014267</td>\n",
              "                        <td id=\"T_4a42ecde_6e4b_11ec_a77f_0242ac1c0002row14_col19\" class=\"data row14 col19\" >0.030663</td>\n",
              "                        <td id=\"T_4a42ecde_6e4b_11ec_a77f_0242ac1c0002row14_col20\" class=\"data row14 col20\" >0.029235</td>\n",
              "                        <td id=\"T_4a42ecde_6e4b_11ec_a77f_0242ac1c0002row14_col21\" class=\"data row14 col21\" >0.509503</td>\n",
              "                        <td id=\"T_4a42ecde_6e4b_11ec_a77f_0242ac1c0002row14_col22\" class=\"data row14 col22\" >-0.037973</td>\n",
              "            </tr>\n",
              "            <tr>\n",
              "                        <th id=\"T_4a42ecde_6e4b_11ec_a77f_0242ac1c0002level0_row15\" class=\"row_heading level0 row15\" >total_pymnt_inv</th>\n",
              "                        <td id=\"T_4a42ecde_6e4b_11ec_a77f_0242ac1c0002row15_col0\" class=\"data row15 col0\" >0.199242</td>\n",
              "                        <td id=\"T_4a42ecde_6e4b_11ec_a77f_0242ac1c0002row15_col1\" class=\"data row15 col1\" >0.210007</td>\n",
              "                        <td id=\"T_4a42ecde_6e4b_11ec_a77f_0242ac1c0002row15_col2\" class=\"data row15 col2\" >0.848071</td>\n",
              "                        <td id=\"T_4a42ecde_6e4b_11ec_a77f_0242ac1c0002row15_col3\" class=\"data row15 col3\" >0.865309</td>\n",
              "                        <td id=\"T_4a42ecde_6e4b_11ec_a77f_0242ac1c0002row15_col4\" class=\"data row15 col4\" >0.910037</td>\n",
              "                        <td id=\"T_4a42ecde_6e4b_11ec_a77f_0242ac1c0002row15_col5\" class=\"data row15 col5\" >0.817881</td>\n",
              "                        <td id=\"T_4a42ecde_6e4b_11ec_a77f_0242ac1c0002row15_col6\" class=\"data row15 col6\" >0.241921</td>\n",
              "                        <td id=\"T_4a42ecde_6e4b_11ec_a77f_0242ac1c0002row15_col7\" class=\"data row15 col7\" >0.065257</td>\n",
              "                        <td id=\"T_4a42ecde_6e4b_11ec_a77f_0242ac1c0002row15_col8\" class=\"data row15 col8\" >-0.030957</td>\n",
              "                        <td id=\"T_4a42ecde_6e4b_11ec_a77f_0242ac1c0002row15_col9\" class=\"data row15 col9\" >-0.017754</td>\n",
              "                        <td id=\"T_4a42ecde_6e4b_11ec_a77f_0242ac1c0002row15_col10\" class=\"data row15 col10\" >0.147255</td>\n",
              "                        <td id=\"T_4a42ecde_6e4b_11ec_a77f_0242ac1c0002row15_col11\" class=\"data row15 col11\" >-0.047830</td>\n",
              "                        <td id=\"T_4a42ecde_6e4b_11ec_a77f_0242ac1c0002row15_col12\" class=\"data row15 col12\" >0.271959</td>\n",
              "                        <td id=\"T_4a42ecde_6e4b_11ec_a77f_0242ac1c0002row15_col13\" class=\"data row15 col13\" >0.216931</td>\n",
              "                        <td id=\"T_4a42ecde_6e4b_11ec_a77f_0242ac1c0002row15_col14\" class=\"data row15 col14\" >0.968053</td>\n",
              "                        <td id=\"T_4a42ecde_6e4b_11ec_a77f_0242ac1c0002row15_col15\" class=\"data row15 col15\" >1.000000</td>\n",
              "                        <td id=\"T_4a42ecde_6e4b_11ec_a77f_0242ac1c0002row15_col16\" class=\"data row15 col16\" >0.939499</td>\n",
              "                        <td id=\"T_4a42ecde_6e4b_11ec_a77f_0242ac1c0002row15_col17\" class=\"data row15 col17\" >0.805189</td>\n",
              "                        <td id=\"T_4a42ecde_6e4b_11ec_a77f_0242ac1c0002row15_col18\" class=\"data row15 col18\" >0.000047</td>\n",
              "                        <td id=\"T_4a42ecde_6e4b_11ec_a77f_0242ac1c0002row15_col19\" class=\"data row15 col19\" >0.024480</td>\n",
              "                        <td id=\"T_4a42ecde_6e4b_11ec_a77f_0242ac1c0002row15_col20\" class=\"data row15 col20\" >0.019288</td>\n",
              "                        <td id=\"T_4a42ecde_6e4b_11ec_a77f_0242ac1c0002row15_col21\" class=\"data row15 col21\" >0.497932</td>\n",
              "                        <td id=\"T_4a42ecde_6e4b_11ec_a77f_0242ac1c0002row15_col22\" class=\"data row15 col22\" >-0.038538</td>\n",
              "            </tr>\n",
              "            <tr>\n",
              "                        <th id=\"T_4a42ecde_6e4b_11ec_a77f_0242ac1c0002level0_row16\" class=\"row_heading level0 row16\" >total_rec_prncp</th>\n",
              "                        <td id=\"T_4a42ecde_6e4b_11ec_a77f_0242ac1c0002row16_col0\" class=\"data row16 col0\" >0.096314</td>\n",
              "                        <td id=\"T_4a42ecde_6e4b_11ec_a77f_0242ac1c0002row16_col1\" class=\"data row16 col1\" >0.097442</td>\n",
              "                        <td id=\"T_4a42ecde_6e4b_11ec_a77f_0242ac1c0002row16_col2\" class=\"data row16 col2\" >0.846852</td>\n",
              "                        <td id=\"T_4a42ecde_6e4b_11ec_a77f_0242ac1c0002row16_col3\" class=\"data row16 col3\" >0.865516</td>\n",
              "                        <td id=\"T_4a42ecde_6e4b_11ec_a77f_0242ac1c0002row16_col4\" class=\"data row16 col4\" >0.838891</td>\n",
              "                        <td id=\"T_4a42ecde_6e4b_11ec_a77f_0242ac1c0002row16_col5\" class=\"data row16 col5\" >0.849020</td>\n",
              "                        <td id=\"T_4a42ecde_6e4b_11ec_a77f_0242ac1c0002row16_col6\" class=\"data row16 col6\" >0.253375</td>\n",
              "                        <td id=\"T_4a42ecde_6e4b_11ec_a77f_0242ac1c0002row16_col7\" class=\"data row16 col7\" >0.035469</td>\n",
              "                        <td id=\"T_4a42ecde_6e4b_11ec_a77f_0242ac1c0002row16_col8\" class=\"data row16 col8\" >-0.039789</td>\n",
              "                        <td id=\"T_4a42ecde_6e4b_11ec_a77f_0242ac1c0002row16_col9\" class=\"data row16 col9\" >-0.020356</td>\n",
              "                        <td id=\"T_4a42ecde_6e4b_11ec_a77f_0242ac1c0002row16_col10\" class=\"data row16 col10\" >0.154956</td>\n",
              "                        <td id=\"T_4a42ecde_6e4b_11ec_a77f_0242ac1c0002row16_col11\" class=\"data row16 col11\" >-0.060482</td>\n",
              "                        <td id=\"T_4a42ecde_6e4b_11ec_a77f_0242ac1c0002row16_col12\" class=\"data row16 col12\" >0.275878</td>\n",
              "                        <td id=\"T_4a42ecde_6e4b_11ec_a77f_0242ac1c0002row16_col13\" class=\"data row16 col13\" >0.227375</td>\n",
              "                        <td id=\"T_4a42ecde_6e4b_11ec_a77f_0242ac1c0002row16_col14\" class=\"data row16 col14\" >0.973330</td>\n",
              "                        <td id=\"T_4a42ecde_6e4b_11ec_a77f_0242ac1c0002row16_col15\" class=\"data row16 col15\" >0.939499</td>\n",
              "                        <td id=\"T_4a42ecde_6e4b_11ec_a77f_0242ac1c0002row16_col16\" class=\"data row16 col16\" >1.000000</td>\n",
              "                        <td id=\"T_4a42ecde_6e4b_11ec_a77f_0242ac1c0002row16_col17\" class=\"data row16 col17\" >0.682149</td>\n",
              "                        <td id=\"T_4a42ecde_6e4b_11ec_a77f_0242ac1c0002row16_col18\" class=\"data row16 col18\" >-0.020237</td>\n",
              "                        <td id=\"T_4a42ecde_6e4b_11ec_a77f_0242ac1c0002row16_col19\" class=\"data row16 col19\" >-0.093589</td>\n",
              "                        <td id=\"T_4a42ecde_6e4b_11ec_a77f_0242ac1c0002row16_col20\" class=\"data row16 col20\" >-0.057729</td>\n",
              "                        <td id=\"T_4a42ecde_6e4b_11ec_a77f_0242ac1c0002row16_col21\" class=\"data row16 col21\" >0.565759</td>\n",
              "                        <td id=\"T_4a42ecde_6e4b_11ec_a77f_0242ac1c0002row16_col22\" class=\"data row16 col22\" >-0.048241</td>\n",
              "            </tr>\n",
              "            <tr>\n",
              "                        <th id=\"T_4a42ecde_6e4b_11ec_a77f_0242ac1c0002level0_row17\" class=\"row_heading level0 row17\" >total_rec_int</th>\n",
              "                        <td id=\"T_4a42ecde_6e4b_11ec_a77f_0242ac1c0002row17_col0\" class=\"data row17 col0\" >0.126703</td>\n",
              "                        <td id=\"T_4a42ecde_6e4b_11ec_a77f_0242ac1c0002row17_col1\" class=\"data row17 col1\" >0.130375</td>\n",
              "                        <td id=\"T_4a42ecde_6e4b_11ec_a77f_0242ac1c0002row17_col2\" class=\"data row17 col2\" >0.728092</td>\n",
              "                        <td id=\"T_4a42ecde_6e4b_11ec_a77f_0242ac1c0002row17_col3\" class=\"data row17 col3\" >0.736495</td>\n",
              "                        <td id=\"T_4a42ecde_6e4b_11ec_a77f_0242ac1c0002row17_col4\" class=\"data row17 col4\" >0.726063</td>\n",
              "                        <td id=\"T_4a42ecde_6e4b_11ec_a77f_0242ac1c0002row17_col5\" class=\"data row17 col5\" >0.641408</td>\n",
              "                        <td id=\"T_4a42ecde_6e4b_11ec_a77f_0242ac1c0002row17_col6\" class=\"data row17 col6\" >0.182356</td>\n",
              "                        <td id=\"T_4a42ecde_6e4b_11ec_a77f_0242ac1c0002row17_col7\" class=\"data row17 col7\" >0.102479</td>\n",
              "                        <td id=\"T_4a42ecde_6e4b_11ec_a77f_0242ac1c0002row17_col8\" class=\"data row17 col8\" >0.022647</td>\n",
              "                        <td id=\"T_4a42ecde_6e4b_11ec_a77f_0242ac1c0002row17_col9\" class=\"data row17 col9\" >0.026885</td>\n",
              "                        <td id=\"T_4a42ecde_6e4b_11ec_a77f_0242ac1c0002row17_col10\" class=\"data row17 col10\" >0.120822</td>\n",
              "                        <td id=\"T_4a42ecde_6e4b_11ec_a77f_0242ac1c0002row17_col11\" class=\"data row17 col11\" >-0.000692</td>\n",
              "                        <td id=\"T_4a42ecde_6e4b_11ec_a77f_0242ac1c0002row17_col12\" class=\"data row17 col12\" >0.241038</td>\n",
              "                        <td id=\"T_4a42ecde_6e4b_11ec_a77f_0242ac1c0002row17_col13\" class=\"data row17 col13\" >0.147395</td>\n",
              "                        <td id=\"T_4a42ecde_6e4b_11ec_a77f_0242ac1c0002row17_col14\" class=\"data row17 col14\" >0.821873</td>\n",
              "                        <td id=\"T_4a42ecde_6e4b_11ec_a77f_0242ac1c0002row17_col15\" class=\"data row17 col15\" >0.805189</td>\n",
              "                        <td id=\"T_4a42ecde_6e4b_11ec_a77f_0242ac1c0002row17_col16\" class=\"data row17 col16\" >0.682149</td>\n",
              "                        <td id=\"T_4a42ecde_6e4b_11ec_a77f_0242ac1c0002row17_col17\" class=\"data row17 col17\" >1.000000</td>\n",
              "                        <td id=\"T_4a42ecde_6e4b_11ec_a77f_0242ac1c0002row17_col18\" class=\"data row17 col18\" >0.078510</td>\n",
              "                        <td id=\"T_4a42ecde_6e4b_11ec_a77f_0242ac1c0002row17_col19\" class=\"data row17 col19\" >0.093761</td>\n",
              "                        <td id=\"T_4a42ecde_6e4b_11ec_a77f_0242ac1c0002row17_col20\" class=\"data row17 col20\" >0.042540</td>\n",
              "                        <td id=\"T_4a42ecde_6e4b_11ec_a77f_0242ac1c0002row17_col21\" class=\"data row17 col21\" >0.240205</td>\n",
              "                        <td id=\"T_4a42ecde_6e4b_11ec_a77f_0242ac1c0002row17_col22\" class=\"data row17 col22\" >0.003046</td>\n",
              "            </tr>\n",
              "            <tr>\n",
              "                        <th id=\"T_4a42ecde_6e4b_11ec_a77f_0242ac1c0002level0_row18\" class=\"row_heading level0 row18\" >total_rec_late_fee</th>\n",
              "                        <td id=\"T_4a42ecde_6e4b_11ec_a77f_0242ac1c0002row18_col0\" class=\"data row18 col0\" >-0.054524</td>\n",
              "                        <td id=\"T_4a42ecde_6e4b_11ec_a77f_0242ac1c0002row18_col1\" class=\"data row18 col1\" >-0.057077</td>\n",
              "                        <td id=\"T_4a42ecde_6e4b_11ec_a77f_0242ac1c0002row18_col2\" class=\"data row18 col2\" >0.047697</td>\n",
              "                        <td id=\"T_4a42ecde_6e4b_11ec_a77f_0242ac1c0002row18_col3\" class=\"data row18 col3\" >0.050118</td>\n",
              "                        <td id=\"T_4a42ecde_6e4b_11ec_a77f_0242ac1c0002row18_col4\" class=\"data row18 col4\" >0.029967</td>\n",
              "                        <td id=\"T_4a42ecde_6e4b_11ec_a77f_0242ac1c0002row18_col5\" class=\"data row18 col5\" >0.058601</td>\n",
              "                        <td id=\"T_4a42ecde_6e4b_11ec_a77f_0242ac1c0002row18_col6\" class=\"data row18 col6\" >0.006097</td>\n",
              "                        <td id=\"T_4a42ecde_6e4b_11ec_a77f_0242ac1c0002row18_col7\" class=\"data row18 col7\" >-0.011507</td>\n",
              "                        <td id=\"T_4a42ecde_6e4b_11ec_a77f_0242ac1c0002row18_col8\" class=\"data row18 col8\" >0.029490</td>\n",
              "                        <td id=\"T_4a42ecde_6e4b_11ec_a77f_0242ac1c0002row18_col9\" class=\"data row18 col9\" >0.031295</td>\n",
              "                        <td id=\"T_4a42ecde_6e4b_11ec_a77f_0242ac1c0002row18_col10\" class=\"data row18 col10\" >-0.019086</td>\n",
              "                        <td id=\"T_4a42ecde_6e4b_11ec_a77f_0242ac1c0002row18_col11\" class=\"data row18 col11\" >-0.006380</td>\n",
              "                        <td id=\"T_4a42ecde_6e4b_11ec_a77f_0242ac1c0002row18_col12\" class=\"data row18 col12\" >0.005484</td>\n",
              "                        <td id=\"T_4a42ecde_6e4b_11ec_a77f_0242ac1c0002row18_col13\" class=\"data row18 col13\" >-0.022973</td>\n",
              "                        <td id=\"T_4a42ecde_6e4b_11ec_a77f_0242ac1c0002row18_col14\" class=\"data row18 col14\" >0.014267</td>\n",
              "                        <td id=\"T_4a42ecde_6e4b_11ec_a77f_0242ac1c0002row18_col15\" class=\"data row18 col15\" >0.000047</td>\n",
              "                        <td id=\"T_4a42ecde_6e4b_11ec_a77f_0242ac1c0002row18_col16\" class=\"data row18 col16\" >-0.020237</td>\n",
              "                        <td id=\"T_4a42ecde_6e4b_11ec_a77f_0242ac1c0002row18_col17\" class=\"data row18 col17\" >0.078510</td>\n",
              "                        <td id=\"T_4a42ecde_6e4b_11ec_a77f_0242ac1c0002row18_col18\" class=\"data row18 col18\" >1.000000</td>\n",
              "                        <td id=\"T_4a42ecde_6e4b_11ec_a77f_0242ac1c0002row18_col19\" class=\"data row18 col19\" >0.103050</td>\n",
              "                        <td id=\"T_4a42ecde_6e4b_11ec_a77f_0242ac1c0002row18_col20\" class=\"data row18 col20\" >0.096088</td>\n",
              "                        <td id=\"T_4a42ecde_6e4b_11ec_a77f_0242ac1c0002row18_col21\" class=\"data row18 col21\" >-0.063089</td>\n",
              "                        <td id=\"T_4a42ecde_6e4b_11ec_a77f_0242ac1c0002row18_col22\" class=\"data row18 col22\" >-0.005991</td>\n",
              "            </tr>\n",
              "            <tr>\n",
              "                        <th id=\"T_4a42ecde_6e4b_11ec_a77f_0242ac1c0002level0_row19\" class=\"row_heading level0 row19\" >recoveries</th>\n",
              "                        <td id=\"T_4a42ecde_6e4b_11ec_a77f_0242ac1c0002row19_col0\" class=\"data row19 col0\" >0.039631</td>\n",
              "                        <td id=\"T_4a42ecde_6e4b_11ec_a77f_0242ac1c0002row19_col1\" class=\"data row19 col1\" >0.037408</td>\n",
              "                        <td id=\"T_4a42ecde_6e4b_11ec_a77f_0242ac1c0002row19_col2\" class=\"data row19 col2\" >0.142819</td>\n",
              "                        <td id=\"T_4a42ecde_6e4b_11ec_a77f_0242ac1c0002row19_col3\" class=\"data row19 col3\" >0.143359</td>\n",
              "                        <td id=\"T_4a42ecde_6e4b_11ec_a77f_0242ac1c0002row19_col4\" class=\"data row19 col4\" >0.131333</td>\n",
              "                        <td id=\"T_4a42ecde_6e4b_11ec_a77f_0242ac1c0002row19_col5\" class=\"data row19 col5\" >0.121225</td>\n",
              "                        <td id=\"T_4a42ecde_6e4b_11ec_a77f_0242ac1c0002row19_col6\" class=\"data row19 col6\" >0.022394</td>\n",
              "                        <td id=\"T_4a42ecde_6e4b_11ec_a77f_0242ac1c0002row19_col7\" class=\"data row19 col7\" >0.025280</td>\n",
              "                        <td id=\"T_4a42ecde_6e4b_11ec_a77f_0242ac1c0002row19_col8\" class=\"data row19 col8\" >0.012187</td>\n",
              "                        <td id=\"T_4a42ecde_6e4b_11ec_a77f_0242ac1c0002row19_col9\" class=\"data row19 col9\" >0.017898</td>\n",
              "                        <td id=\"T_4a42ecde_6e4b_11ec_a77f_0242ac1c0002row19_col10\" class=\"data row19 col10\" >0.017454</td>\n",
              "                        <td id=\"T_4a42ecde_6e4b_11ec_a77f_0242ac1c0002row19_col11\" class=\"data row19 col11\" >-0.005939</td>\n",
              "                        <td id=\"T_4a42ecde_6e4b_11ec_a77f_0242ac1c0002row19_col12\" class=\"data row19 col12\" >0.042921</td>\n",
              "                        <td id=\"T_4a42ecde_6e4b_11ec_a77f_0242ac1c0002row19_col13\" class=\"data row19 col13\" >0.025054</td>\n",
              "                        <td id=\"T_4a42ecde_6e4b_11ec_a77f_0242ac1c0002row19_col14\" class=\"data row19 col14\" >0.030663</td>\n",
              "                        <td id=\"T_4a42ecde_6e4b_11ec_a77f_0242ac1c0002row19_col15\" class=\"data row19 col15\" >0.024480</td>\n",
              "                        <td id=\"T_4a42ecde_6e4b_11ec_a77f_0242ac1c0002row19_col16\" class=\"data row19 col16\" >-0.093589</td>\n",
              "                        <td id=\"T_4a42ecde_6e4b_11ec_a77f_0242ac1c0002row19_col17\" class=\"data row19 col17\" >0.093761</td>\n",
              "                        <td id=\"T_4a42ecde_6e4b_11ec_a77f_0242ac1c0002row19_col18\" class=\"data row19 col18\" >0.103050</td>\n",
              "                        <td id=\"T_4a42ecde_6e4b_11ec_a77f_0242ac1c0002row19_col19\" class=\"data row19 col19\" >1.000000</td>\n",
              "                        <td id=\"T_4a42ecde_6e4b_11ec_a77f_0242ac1c0002row19_col20\" class=\"data row19 col20\" >0.798521</td>\n",
              "                        <td id=\"T_4a42ecde_6e4b_11ec_a77f_0242ac1c0002row19_col21\" class=\"data row19 col21\" >-0.072078</td>\n",
              "                        <td id=\"T_4a42ecde_6e4b_11ec_a77f_0242ac1c0002row19_col22\" class=\"data row19 col22\" >-0.005343</td>\n",
              "            </tr>\n",
              "            <tr>\n",
              "                        <th id=\"T_4a42ecde_6e4b_11ec_a77f_0242ac1c0002level0_row20\" class=\"row_heading level0 row20\" >collection_recovery_fee</th>\n",
              "                        <td id=\"T_4a42ecde_6e4b_11ec_a77f_0242ac1c0002row20_col0\" class=\"data row20 col0\" >-0.010333</td>\n",
              "                        <td id=\"T_4a42ecde_6e4b_11ec_a77f_0242ac1c0002row20_col1\" class=\"data row20 col1\" >-0.012280</td>\n",
              "                        <td id=\"T_4a42ecde_6e4b_11ec_a77f_0242ac1c0002row20_col2\" class=\"data row20 col2\" >0.076558</td>\n",
              "                        <td id=\"T_4a42ecde_6e4b_11ec_a77f_0242ac1c0002row20_col3\" class=\"data row20 col3\" >0.078247</td>\n",
              "                        <td id=\"T_4a42ecde_6e4b_11ec_a77f_0242ac1c0002row20_col4\" class=\"data row20 col4\" >0.064070</td>\n",
              "                        <td id=\"T_4a42ecde_6e4b_11ec_a77f_0242ac1c0002row20_col5\" class=\"data row20 col5\" >0.077026</td>\n",
              "                        <td id=\"T_4a42ecde_6e4b_11ec_a77f_0242ac1c0002row20_col6\" class=\"data row20 col6\" >0.016215</td>\n",
              "                        <td id=\"T_4a42ecde_6e4b_11ec_a77f_0242ac1c0002row20_col7\" class=\"data row20 col7\" >0.010749</td>\n",
              "                        <td id=\"T_4a42ecde_6e4b_11ec_a77f_0242ac1c0002row20_col8\" class=\"data row20 col8\" >0.013874</td>\n",
              "                        <td id=\"T_4a42ecde_6e4b_11ec_a77f_0242ac1c0002row20_col9\" class=\"data row20 col9\" >0.011815</td>\n",
              "                        <td id=\"T_4a42ecde_6e4b_11ec_a77f_0242ac1c0002row20_col10\" class=\"data row20 col10\" >0.006568</td>\n",
              "                        <td id=\"T_4a42ecde_6e4b_11ec_a77f_0242ac1c0002row20_col11\" class=\"data row20 col11\" >-0.006892</td>\n",
              "                        <td id=\"T_4a42ecde_6e4b_11ec_a77f_0242ac1c0002row20_col12\" class=\"data row20 col12\" >0.022941</td>\n",
              "                        <td id=\"T_4a42ecde_6e4b_11ec_a77f_0242ac1c0002row20_col13\" class=\"data row20 col13\" >0.011453</td>\n",
              "                        <td id=\"T_4a42ecde_6e4b_11ec_a77f_0242ac1c0002row20_col14\" class=\"data row20 col14\" >0.029235</td>\n",
              "                        <td id=\"T_4a42ecde_6e4b_11ec_a77f_0242ac1c0002row20_col15\" class=\"data row20 col15\" >0.019288</td>\n",
              "                        <td id=\"T_4a42ecde_6e4b_11ec_a77f_0242ac1c0002row20_col16\" class=\"data row20 col16\" >-0.057729</td>\n",
              "                        <td id=\"T_4a42ecde_6e4b_11ec_a77f_0242ac1c0002row20_col17\" class=\"data row20 col17\" >0.042540</td>\n",
              "                        <td id=\"T_4a42ecde_6e4b_11ec_a77f_0242ac1c0002row20_col18\" class=\"data row20 col18\" >0.096088</td>\n",
              "                        <td id=\"T_4a42ecde_6e4b_11ec_a77f_0242ac1c0002row20_col19\" class=\"data row20 col19\" >0.798521</td>\n",
              "                        <td id=\"T_4a42ecde_6e4b_11ec_a77f_0242ac1c0002row20_col20\" class=\"data row20 col20\" >1.000000</td>\n",
              "                        <td id=\"T_4a42ecde_6e4b_11ec_a77f_0242ac1c0002row20_col21\" class=\"data row20 col21\" >-0.043052</td>\n",
              "                        <td id=\"T_4a42ecde_6e4b_11ec_a77f_0242ac1c0002row20_col22\" class=\"data row20 col22\" >-0.007241</td>\n",
              "            </tr>\n",
              "            <tr>\n",
              "                        <th id=\"T_4a42ecde_6e4b_11ec_a77f_0242ac1c0002level0_row21\" class=\"row_heading level0 row21\" >last_pymnt_amnt</th>\n",
              "                        <td id=\"T_4a42ecde_6e4b_11ec_a77f_0242ac1c0002row21_col0\" class=\"data row21 col0\" >0.144824</td>\n",
              "                        <td id=\"T_4a42ecde_6e4b_11ec_a77f_0242ac1c0002row21_col1\" class=\"data row21 col1\" >0.145263</td>\n",
              "                        <td id=\"T_4a42ecde_6e4b_11ec_a77f_0242ac1c0002row21_col2\" class=\"data row21 col2\" >0.473708</td>\n",
              "                        <td id=\"T_4a42ecde_6e4b_11ec_a77f_0242ac1c0002row21_col3\" class=\"data row21 col3\" >0.477745</td>\n",
              "                        <td id=\"T_4a42ecde_6e4b_11ec_a77f_0242ac1c0002row21_col4\" class=\"data row21 col4\" >0.468080</td>\n",
              "                        <td id=\"T_4a42ecde_6e4b_11ec_a77f_0242ac1c0002row21_col5\" class=\"data row21 col5\" >0.412271</td>\n",
              "                        <td id=\"T_4a42ecde_6e4b_11ec_a77f_0242ac1c0002row21_col6\" class=\"data row21 col6\" >0.140967</td>\n",
              "                        <td id=\"T_4a42ecde_6e4b_11ec_a77f_0242ac1c0002row21_col7\" class=\"data row21 col7\" >0.008715</td>\n",
              "                        <td id=\"T_4a42ecde_6e4b_11ec_a77f_0242ac1c0002row21_col8\" class=\"data row21 col8\" >-0.013307</td>\n",
              "                        <td id=\"T_4a42ecde_6e4b_11ec_a77f_0242ac1c0002row21_col9\" class=\"data row21 col9\" >0.028522</td>\n",
              "                        <td id=\"T_4a42ecde_6e4b_11ec_a77f_0242ac1c0002row21_col10\" class=\"data row21 col10\" >0.078919</td>\n",
              "                        <td id=\"T_4a42ecde_6e4b_11ec_a77f_0242ac1c0002row21_col11\" class=\"data row21 col11\" >-0.032108</td>\n",
              "                        <td id=\"T_4a42ecde_6e4b_11ec_a77f_0242ac1c0002row21_col12\" class=\"data row21 col12\" >0.124464</td>\n",
              "                        <td id=\"T_4a42ecde_6e4b_11ec_a77f_0242ac1c0002row21_col13\" class=\"data row21 col13\" >0.164674</td>\n",
              "                        <td id=\"T_4a42ecde_6e4b_11ec_a77f_0242ac1c0002row21_col14\" class=\"data row21 col14\" >0.509503</td>\n",
              "                        <td id=\"T_4a42ecde_6e4b_11ec_a77f_0242ac1c0002row21_col15\" class=\"data row21 col15\" >0.497932</td>\n",
              "                        <td id=\"T_4a42ecde_6e4b_11ec_a77f_0242ac1c0002row21_col16\" class=\"data row21 col16\" >0.565759</td>\n",
              "                        <td id=\"T_4a42ecde_6e4b_11ec_a77f_0242ac1c0002row21_col17\" class=\"data row21 col17\" >0.240205</td>\n",
              "                        <td id=\"T_4a42ecde_6e4b_11ec_a77f_0242ac1c0002row21_col18\" class=\"data row21 col18\" >-0.063089</td>\n",
              "                        <td id=\"T_4a42ecde_6e4b_11ec_a77f_0242ac1c0002row21_col19\" class=\"data row21 col19\" >-0.072078</td>\n",
              "                        <td id=\"T_4a42ecde_6e4b_11ec_a77f_0242ac1c0002row21_col20\" class=\"data row21 col20\" >-0.043052</td>\n",
              "                        <td id=\"T_4a42ecde_6e4b_11ec_a77f_0242ac1c0002row21_col21\" class=\"data row21 col21\" >1.000000</td>\n",
              "                        <td id=\"T_4a42ecde_6e4b_11ec_a77f_0242ac1c0002row21_col22\" class=\"data row21 col22\" >-0.021798</td>\n",
              "            </tr>\n",
              "            <tr>\n",
              "                        <th id=\"T_4a42ecde_6e4b_11ec_a77f_0242ac1c0002level0_row22\" class=\"row_heading level0 row22\" >pub_rec_bankruptcies</th>\n",
              "                        <td id=\"T_4a42ecde_6e4b_11ec_a77f_0242ac1c0002row22_col0\" class=\"data row22 col0\" >-0.001719</td>\n",
              "                        <td id=\"T_4a42ecde_6e4b_11ec_a77f_0242ac1c0002row22_col1\" class=\"data row22 col1\" >-0.000820</td>\n",
              "                        <td id=\"T_4a42ecde_6e4b_11ec_a77f_0242ac1c0002row22_col2\" class=\"data row22 col2\" >-0.030681</td>\n",
              "                        <td id=\"T_4a42ecde_6e4b_11ec_a77f_0242ac1c0002row22_col3\" class=\"data row22 col3\" >-0.031675</td>\n",
              "                        <td id=\"T_4a42ecde_6e4b_11ec_a77f_0242ac1c0002row22_col4\" class=\"data row22 col4\" >-0.032679</td>\n",
              "                        <td id=\"T_4a42ecde_6e4b_11ec_a77f_0242ac1c0002row22_col5\" class=\"data row22 col5\" >-0.028787</td>\n",
              "                        <td id=\"T_4a42ecde_6e4b_11ec_a77f_0242ac1c0002row22_col6\" class=\"data row22 col6\" >-0.012177</td>\n",
              "                        <td id=\"T_4a42ecde_6e4b_11ec_a77f_0242ac1c0002row22_col7\" class=\"data row22 col7\" >0.007742</td>\n",
              "                        <td id=\"T_4a42ecde_6e4b_11ec_a77f_0242ac1c0002row22_col8\" class=\"data row22 col8\" >0.004559</td>\n",
              "                        <td id=\"T_4a42ecde_6e4b_11ec_a77f_0242ac1c0002row22_col9\" class=\"data row22 col9\" >0.013571</td>\n",
              "                        <td id=\"T_4a42ecde_6e4b_11ec_a77f_0242ac1c0002row22_col10\" class=\"data row22 col10\" >0.009321</td>\n",
              "                        <td id=\"T_4a42ecde_6e4b_11ec_a77f_0242ac1c0002row22_col11\" class=\"data row22 col11\" >0.841627</td>\n",
              "                        <td id=\"T_4a42ecde_6e4b_11ec_a77f_0242ac1c0002row22_col12\" class=\"data row22 col12\" >-0.045698</td>\n",
              "                        <td id=\"T_4a42ecde_6e4b_11ec_a77f_0242ac1c0002row22_col13\" class=\"data row22 col13\" >-0.005678</td>\n",
              "                        <td id=\"T_4a42ecde_6e4b_11ec_a77f_0242ac1c0002row22_col14\" class=\"data row22 col14\" >-0.037973</td>\n",
              "                        <td id=\"T_4a42ecde_6e4b_11ec_a77f_0242ac1c0002row22_col15\" class=\"data row22 col15\" >-0.038538</td>\n",
              "                        <td id=\"T_4a42ecde_6e4b_11ec_a77f_0242ac1c0002row22_col16\" class=\"data row22 col16\" >-0.048241</td>\n",
              "                        <td id=\"T_4a42ecde_6e4b_11ec_a77f_0242ac1c0002row22_col17\" class=\"data row22 col17\" >0.003046</td>\n",
              "                        <td id=\"T_4a42ecde_6e4b_11ec_a77f_0242ac1c0002row22_col18\" class=\"data row22 col18\" >-0.005991</td>\n",
              "                        <td id=\"T_4a42ecde_6e4b_11ec_a77f_0242ac1c0002row22_col19\" class=\"data row22 col19\" >-0.005343</td>\n",
              "                        <td id=\"T_4a42ecde_6e4b_11ec_a77f_0242ac1c0002row22_col20\" class=\"data row22 col20\" >-0.007241</td>\n",
              "                        <td id=\"T_4a42ecde_6e4b_11ec_a77f_0242ac1c0002row22_col21\" class=\"data row22 col21\" >-0.021798</td>\n",
              "                        <td id=\"T_4a42ecde_6e4b_11ec_a77f_0242ac1c0002row22_col22\" class=\"data row22 col22\" >1.000000</td>\n",
              "            </tr>\n",
              "    </tbody></table>"
            ],
            "text/plain": [
              "<pandas.io.formats.style.Styler at 0x7f0035722fd0>"
            ]
          },
          "metadata": {},
          "execution_count": 26
        }
      ]
    },
    {
      "cell_type": "markdown",
      "source": [
        "###Impact of Loan Amount on Annual Income "
      ],
      "metadata": {
        "id": "63Ksdkua3tRM"
      }
    },
    {
      "cell_type": "code",
      "source": [
        "data_without_all_na.plot.scatter(x='loan_amnt', y='annual_inc')\n",
        "plt.title(\"Impact of Loan Amount on Annual Income\", fontsize=18)\n",
        "plt.yticks([0,500000, 1000000])\n",
        "plt.xlabel(\"Loan Amount\", fontsize=15)\n",
        "plt.ylabel(\"Annual Income\", fontsize=15)\n",
        "plt.show()"
      ],
      "metadata": {
        "colab": {
          "base_uri": "https://localhost:8080/",
          "height": 359
        },
        "id": "7RxMdkgSgqQP",
        "outputId": "b36c3283-9c60-4f39-f8b2-f0a19012428b"
      },
      "execution_count": 28,
      "outputs": [
        {
          "output_type": "display_data",
          "data": {
            "image/png": "[encoded data removed]",
            "text/plain": [
              "<Figure size 1080x360 with 1 Axes>"
            ]
          },
          "metadata": {
            "needs_background": "light"
          }
        }
      ]
    },
    {
      "cell_type": "markdown",
      "source": [
        "#Impact of dti on Loan Amount"
      ],
      "metadata": {
        "id": "mKEkXGr9-o7l"
      }
    },
    {
      "cell_type": "code",
      "source": [
        "data_without_all_na.plot.scatter(x='loan_amnt', y='dti')\n",
        "plt.title(\"Impact of dti on Loan Amount\", fontsize=18)\n",
        "plt.xlabel(\"Loan Amount\", fontsize=15)\n",
        "plt.ylabel(\"DTI\", fontsize=15)\n",
        "plt.show()"
      ],
      "metadata": {
        "colab": {
          "base_uri": "https://localhost:8080/",
          "height": 359
        },
        "id": "fcTfxCB2-vUh",
        "outputId": "c47fe927-aaaf-4ea6-bb07-0b279c6b2169"
      },
      "execution_count": 29,
      "outputs": [
        {
          "output_type": "display_data",
          "data": {
            "image/png": "[encoded data removed]",
            "text/plain": [
              "<Figure size 1080x360 with 1 Axes>"
            ]
          },
          "metadata": {
            "needs_background": "light"
          }
        }
      ]
    },
    {
      "cell_type": "markdown",
      "source": [
        "#Impact of Number of derogatory public records on Loan Amount"
      ],
      "metadata": {
        "id": "qU7ALJegAyQY"
      }
    },
    {
      "cell_type": "code",
      "source": [
        "data_without_all_na.plot.scatter(x='loan_amnt', y='pub_rec')\n",
        "plt.title(\"Impact of Number of derogatory public records on Loan Amount\", fontsize=18)\n",
        "plt.xlabel(\"Loan Amount\", fontsize=15)\n",
        "plt.ylabel(\"PUB REC\", fontsize=15)\n",
        "plt.show()"
      ],
      "metadata": {
        "colab": {
          "base_uri": "https://localhost:8080/",
          "height": 630
        },
        "id": "Ses7zkUbBA8s",
        "outputId": "ab6cf591-c7a5-4c52-c332-855a7c852e80"
      },
      "execution_count": 277,
      "outputs": [
        {
          "output_type": "display_data",
          "data": {
            "image/png": "[encoded data removed]",
            "text/plain": [
              "<Figure size 1440x720 with 1 Axes>"
            ]
          },
          "metadata": {
            "needs_background": "light"
          }
        }
      ]
    }
  ]
}